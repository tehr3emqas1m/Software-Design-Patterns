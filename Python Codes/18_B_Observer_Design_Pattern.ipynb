{
  "nbformat": 4,
  "nbformat_minor": 0,
  "metadata": {
    "colab": {
      "provenance": []
    },
    "kernelspec": {
      "name": "python3",
      "display_name": "Python 3"
    },
    "language_info": {
      "name": "python"
    }
  },
  "cells": [
    {
      "cell_type": "markdown",
      "source": [
        "#Observer Design Pattern"
      ],
      "metadata": {
        "id": "HvzBVPRiR_8K"
      }
    },
    {
      "cell_type": "markdown",
      "source": [
        "The Observer Pattern is about one-to-many dependency between objects. When one object (called the Subject) changes its state, all its dependents (Observers) are notified and updated automatically."
      ],
      "metadata": {
        "id": "GESZBpg5SJZu"
      }
    },
    {
      "cell_type": "markdown",
      "source": [
        "#Example 1\n"
      ],
      "metadata": {
        "id": "bM6AdHl6SKr5"
      }
    },
    {
      "cell_type": "markdown",
      "source": [
        "- Ali and Sara both subscribe to the news.\n",
        "\n",
        "- When the publisher releases \"New Python version released!\", both Ali and Sara get notified and print messages.\n",
        "\n",
        "- Then Ali unsubscribes.\n",
        "\n",
        "- When the next news \"AI breakthroughs in 2025!\" is published, only Sara receives it because Ali has unsubscribed."
      ],
      "metadata": {
        "id": "ZChKkDYtSaMs"
      }
    },
    {
      "cell_type": "code",
      "execution_count": 1,
      "metadata": {
        "colab": {
          "base_uri": "https://localhost:8080/"
        },
        "id": "ASs9zSKJR6jh",
        "outputId": "0e171a31-73b1-417f-a562-b4bf00448ac9"
      },
      "outputs": [
        {
          "output_type": "stream",
          "name": "stdout",
          "text": [
            "NewsPublisher: New article published: New Python version released!\n",
            "Aman received news: New Python version released!\n",
            "Ehtasham received news: New Python version released!\n",
            "Hassan received news: New Python version released!\n",
            "Umer received news: New Python version released!\n",
            "Zohaib received news: New Python version released!\n",
            "Vaneeza received news: New Python version released!\n"
          ]
        }
      ],
      "source": [
        "# Observer interface\n",
        "class Observer:\n",
        "    def update(self, message):\n",
        "        pass\n",
        "\n",
        "# Subject class\n",
        "class NewsPublisher:\n",
        "    def __init__(self):\n",
        "        self.subscribers = []\n",
        "\n",
        "    def subscribe(self, observer):\n",
        "        self.subscribers.append(observer)\n",
        "\n",
        "    def unsubscribe(self, observer):\n",
        "        self.subscribers.remove(observer)\n",
        "\n",
        "    def notify_subscribers(self, message):\n",
        "        for subscriber in self.subscribers:\n",
        "            subscriber.update(message)\n",
        "\n",
        "    def add_news(self, news):\n",
        "        print(f\"NewsPublisher: New article published: {news}\")\n",
        "        self.notify_subscribers(news)\n",
        "\n",
        "# Concrete Observers\n",
        "class Subscriber(Observer):\n",
        "    def __init__(self, name):\n",
        "        self.name = name\n",
        "\n",
        "    def update(self, message):\n",
        "        print(f\"{self.name} received news: {message}\")\n",
        "\n",
        "# Client code\n",
        "#Creating object for the publishers\n",
        "#The constructor will create an empty list: self.subscribers = []\n",
        "#It means there are no subscribers at the moment\n",
        "publisher = NewsPublisher()\n",
        "\n",
        "\n",
        "\n",
        "\n",
        "#Subscriptions are done here\n",
        "#Now the following users express their desire to do the subscription\n",
        "#For this purpse, the following objects are created for each user\n",
        "#Subscribers do the subscriptions here.\n",
        "subscriber1 = Subscriber(\"Aman\")\n",
        "subscriber2 = Subscriber(\"Ehtasham\")\n",
        "subscriber3 = Subscriber(\"Hassan\")\n",
        "subscriber4 = Subscriber(\"Umer\")\n",
        "subscriber5 = Subscriber(\"Zohaib\")\n",
        "subscriber6 = Subscriber(\"Vaneeza\")\n",
        "\n",
        "\n",
        "\n",
        "\n",
        "#The publishers adds the above six users to the  self.subscribers list which is\n",
        "#empty at the moment\n",
        "#by calling the subscribe() method of the NewsPublisher class\n",
        "publisher.subscribe(subscriber1)\n",
        "publisher.subscribe(subscriber2)\n",
        "publisher.subscribe(subscriber3)\n",
        "publisher.subscribe(subscriber4)\n",
        "publisher.subscribe(subscriber5)\n",
        "publisher.subscribe(subscriber6)\n",
        "\n",
        "\n",
        "\n",
        "# The publisher now publishe the following news\n",
        "# It should be sent to all the users who currently have\n",
        "# an active subscription\n",
        "publisher.add_news(\"New Python version released!\")\n"
      ]
    },
    {
      "cell_type": "code",
      "source": [
        "publisher.unsubscribe(subscriber2)\n",
        "publisher.unsubscribe(subscriber5)\n",
        "\n",
        "\n",
        "publisher.add_news(\"AI breakthroughs in 2025!\")\n"
      ],
      "metadata": {
        "colab": {
          "base_uri": "https://localhost:8080/"
        },
        "id": "_V2x8XrkS6gJ",
        "outputId": "1f00a3b1-a801-4c26-fb76-e92c84bb0410"
      },
      "execution_count": 2,
      "outputs": [
        {
          "output_type": "stream",
          "name": "stdout",
          "text": [
            "NewsPublisher: New article published: AI breakthroughs in 2025!\n",
            "Aman received news: AI breakthroughs in 2025!\n",
            "Hassan received news: AI breakthroughs in 2025!\n",
            "Umer received news: AI breakthroughs in 2025!\n",
            "Vaneeza received news: AI breakthroughs in 2025!\n"
          ]
        }
      ]
    },
    {
      "cell_type": "code",
      "source": [],
      "metadata": {
        "id": "MKwiweVatK6c"
      },
      "execution_count": null,
      "outputs": []
    }
  ]
}