{
  "nbformat": 4,
  "nbformat_minor": 0,
  "metadata": {
    "colab": {
      "provenance": []
    },
    "kernelspec": {
      "name": "python3",
      "display_name": "Python 3"
    },
    "language_info": {
      "name": "python"
    }
  },
  "cells": [
    {
      "cell_type": "markdown",
      "source": [
        "#Strategy Design Pattern\n",
        "The Strategy Pattern lets you define a family of algorithms, encapsulate each one, and make them interchangeable. The client can choose the algorithm at runtime.\n",
        "\n"
      ],
      "metadata": {
        "id": "vGmGtj19TW3x"
      }
    },
    {
      "cell_type": "markdown",
      "source": [
        "#Example 1\n"
      ],
      "metadata": {
        "id": "oB47iTjUTkHc"
      }
    },
    {
      "cell_type": "markdown",
      "source": [
        "A customer shops online, adds items to their cart, and chooses a payment method at checkout. They can pay by Credit Card, PayPal, or Bitcoin. The payment method can be changed anytime before confirming the purchase, and the cart processes payment accordingly.\n",
        "\n"
      ],
      "metadata": {
        "id": "U6xloMIMT3Kn"
      }
    },
    {
      "cell_type": "code",
      "execution_count": 6,
      "metadata": {
        "colab": {
          "base_uri": "https://localhost:8080/"
        },
        "id": "YMD3qBUcTObO",
        "outputId": "cf5e2864-9a93-4ef2-d33e-60f9526914cf"
      },
      "outputs": [
        {
          "output_type": "stream",
          "name": "stdout",
          "text": [
            "Paid 300 using Credit Card.\n"
          ]
        }
      ],
      "source": [
        "from abc import ABC, abstractmethod\n",
        "\n",
        "# Strategy Interface\n",
        "class PaymentStrategy(ABC):\n",
        "    @abstractmethod\n",
        "    def pay(self, amount):\n",
        "        pass\n",
        "\n",
        "# Concrete Strategies\n",
        "class CreditCardPayment(PaymentStrategy):\n",
        "    def pay(self, amount):\n",
        "        print(f\"Paid {amount} using Credit Card.\")\n",
        "\n",
        "class PayPalPayment(PaymentStrategy):\n",
        "    def pay(self, amount):\n",
        "        print(f\"Paid {amount} using PayPal.\")\n",
        "\n",
        "class BitcoinPayment(PaymentStrategy):\n",
        "    def pay(self, amount):\n",
        "        print(f\"Paid {amount} using Bitcoin.\")\n",
        "\n",
        "# Context class\n",
        "class ShoppingCart:\n",
        "    def __init__(self):\n",
        "        self.total_amount = 0\n",
        "        self.payment_strategy = None\n",
        "\n",
        "    def add_item(self, price):\n",
        "        self.total_amount += price\n",
        "\n",
        "    def set_payment_strategy(self, strategy):\n",
        "        self.payment_strategy = strategy\n",
        "\n",
        "    def checkout(self):\n",
        "        if not self.payment_strategy:\n",
        "            print(\"Payment method not selected!\")\n",
        "        else:\n",
        "            self.payment_strategy.pay(self.total_amount)\n",
        "\n",
        "# Client code\n",
        "cart = ShoppingCart()\n",
        "cart.add_item(100)\n",
        "cart.add_item(200)\n",
        "\n",
        "cart.set_payment_strategy(BitcoinPayment())\n",
        "cart.set_payment_strategy(CreditCardPayment())\n",
        "\n",
        "cart.checkout()  # Paid 300 using Credit Card.\n",
        "\n"
      ]
    },
    {
      "cell_type": "code",
      "source": [],
      "metadata": {
        "id": "0OUKWBBnTi-M"
      },
      "execution_count": null,
      "outputs": []
    }
  ]
}