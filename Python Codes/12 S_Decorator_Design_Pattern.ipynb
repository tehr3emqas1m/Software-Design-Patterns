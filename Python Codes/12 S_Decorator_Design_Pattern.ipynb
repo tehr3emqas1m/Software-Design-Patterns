{
  "nbformat": 4,
  "nbformat_minor": 0,
  "metadata": {
    "colab": {
      "provenance": []
    },
    "kernelspec": {
      "name": "python3",
      "display_name": "Python 3"
    },
    "language_info": {
      "name": "python"
    }
  },
  "cells": [
    {
      "cell_type": "markdown",
      "source": [
        "The Decorator Design Pattern is a structural design pattern that allows behavior to be added to individual objects dynamically, without affecting the behavior of other objects from the same class. It involves creating a set of decorator classes that are used to wrap concrete components.\n",
        "\n"
      ],
      "metadata": {
        "id": "qk9ZifXJsO8K"
      }
    },
    {
      "cell_type": "code",
      "source": [
        "# Component interface\n",
        "class Component:\n",
        "    def get(self):\n",
        "        pass\n",
        "\n",
        "# Concrete Component\n",
        "class UndecoratedObject(Component):\n",
        "    def get(self):\n",
        "        return \"Undecorated Object\"\n",
        "undecorated = UndecoratedObject()\n",
        "obj1 = UndecoratedObject()\n",
        "obj2 = UndecoratedObject()\n",
        "obj3 = UndecoratedObject()\n",
        "obj4 = UndecoratedObject()\n",
        "\n",
        "print(obj1.get())   # Undecorated Object\n",
        "print(obj2.get())\n",
        "print(obj3.get())\n",
        "print(obj4.get())"
      ],
      "metadata": {
        "colab": {
          "base_uri": "https://localhost:8080/"
        },
        "id": "IE6Br8LXqBSb",
        "outputId": "f0da99b6-d37d-4d85-aa89-cc6bbf13b152"
      },
      "execution_count": null,
      "outputs": [
        {
          "output_type": "stream",
          "name": "stdout",
          "text": [
            "Undecorated Object\n",
            "Undecorated Object\n",
            "Undecorated Object\n",
            "Undecorated Object\n"
          ]
        }
      ]
    },
    {
      "cell_type": "code",
      "source": [
        "Str1 = \"I am a student of Quaid i Azam University\"\n",
        "Str1.replace(\"Quaid i Azam University\",\"QAU\")"
      ],
      "metadata": {
        "colab": {
          "base_uri": "https://localhost:8080/",
          "height": 36
        },
        "id": "7eUzv03lFi2E",
        "outputId": "920595f1-5161-4e08-e636-92ad2284c996"
      },
      "execution_count": null,
      "outputs": [
        {
          "output_type": "execute_result",
          "data": {
            "text/plain": [
              "'I am a student of QAU'"
            ],
            "application/vnd.google.colaboratory.intrinsic+json": {
              "type": "string"
            }
          },
          "metadata": {},
          "execution_count": 10
        }
      ]
    },
    {
      "cell_type": "code",
      "source": [
        "\n",
        "# Decorator\n",
        "class DecoratedObject(Component):\n",
        "    def __init__(self, component):\n",
        "        self.component = component\n",
        "\n",
        "    def get(self):\n",
        "        return self.component.get().replace(\"Undecorated\", \"Decorated\")\n",
        "\n",
        "# Usage\n",
        "\n",
        "decorated = DecoratedObject(obj1)\n",
        "print(decorated.get())    # Decorated Object\n",
        "print(obj1.get())\n",
        "print(obj2.get())\n",
        "print(obj3.get())\n",
        "print(obj4.get())"
      ],
      "metadata": {
        "colab": {
          "base_uri": "https://localhost:8080/"
        },
        "id": "birWS-jzEyNP",
        "outputId": "1bda03a9-839f-4b23-9e64-e65fbeaeeb12"
      },
      "execution_count": null,
      "outputs": [
        {
          "output_type": "stream",
          "name": "stdout",
          "text": [
            "Decorated Object\n",
            "Undecorated Object\n",
            "Undecorated Object\n",
            "Undecorated Object\n",
            "Undecorated Object\n"
          ]
        }
      ]
    },
    {
      "cell_type": "markdown",
      "source": [
        "#2nd Example"
      ],
      "metadata": {
        "id": "sbg1j-gDq_LX"
      }
    },
    {
      "cell_type": "code",
      "source": [
        "class Pizza:\n",
        "    def get_description(self):\n",
        "        pass\n",
        "\n",
        "    def get_cost(self):\n",
        "        pass\n"
      ],
      "metadata": {
        "id": "-gsLk8S2qCNH"
      },
      "execution_count": null,
      "outputs": []
    },
    {
      "cell_type": "code",
      "source": [
        "#2. Concrete Component\n",
        "\n",
        "class Margherita(Pizza):\n",
        "    def get_description(self):\n",
        "        return \"Margherita\"\n",
        "\n",
        "    def get_cost(self):\n",
        "        return 6.0\n"
      ],
      "metadata": {
        "id": "meBrYUc-rDXn"
      },
      "execution_count": null,
      "outputs": []
    },
    {
      "cell_type": "code",
      "source": [
        "#Base decorator\n",
        "class ToppingDecorator(Pizza):\n",
        "    def __init__(self, pizza):\n",
        "        self.pizza = pizza\n",
        "\n",
        "    def get_description(self):\n",
        "        return self.pizza.get_description()\n",
        "\n",
        "    def get_cost(self):\n",
        "        return self.pizza.get_cost()\n"
      ],
      "metadata": {
        "id": "p6qRj0_irHfb"
      },
      "execution_count": null,
      "outputs": []
    },
    {
      "cell_type": "code",
      "source": [
        "#Concrete decorator\n",
        "class Cheese(ToppingDecorator):\n",
        "    def get_description(self):\n",
        "        return self.pizza.get_description() + \", Cheese\"\n",
        "\n",
        "    def get_cost(self):\n",
        "        return self.pizza.get_cost() + 1.5\n",
        "\n",
        "class Olives(ToppingDecorator):\n",
        "    def get_description(self):\n",
        "        return self.pizza.get_description() + \", Olives\"\n",
        "\n",
        "    def get_cost(self):\n",
        "        return self.pizza.get_cost() + 1.0\n",
        "\n",
        "class Pepperoni(ToppingDecorator):\n",
        "    def get_description(self):\n",
        "        return self.pizza.get_description() + \", Pepperoni\"\n",
        "\n",
        "    def get_cost(self):\n",
        "        return self.pizza.get_cost() + 2.0\n"
      ],
      "metadata": {
        "id": "BHP4zqCrrRr3"
      },
      "execution_count": null,
      "outputs": []
    },
    {
      "cell_type": "code",
      "source": [
        "# Start with a base pizza\n",
        "pizza = Margherita()\n",
        "pizza2 = Margherita()\n",
        "# Add toppings dynamically\n",
        "pizza = Cheese(pizza)\n",
        "pizza = Olives(pizza)\n",
        "pizza = Pepperoni(pizza)\n",
        "\n",
        "pizza2 = Cheese(pizza2)\n",
        "\n",
        "\n",
        "\n",
        "print(\"Pizza:\", pizza.get_description())  # Margherita, Cheese, Olives, Pepperoni\n",
        "print(\"Cost: $\", pizza.get_cost())        # 6.0 + 1.5 + 1.0 + 2.0 = 10.5\n",
        "\n",
        "\n",
        "print(\"Pizza 2:\", pizza2.get_description())  # Margherita, Cheese, Olives, Pepperoni\n",
        "print(\"Cost: $\", pizza2.get_cost())        # 6.0 + 1.5 + 1.0 + 2.0 = 10.5\n"
      ],
      "metadata": {
        "colab": {
          "base_uri": "https://localhost:8080/"
        },
        "id": "UomUKpzUrV8t",
        "outputId": "929c1ece-11a1-409b-9cb2-0982f9419eb0"
      },
      "execution_count": null,
      "outputs": [
        {
          "output_type": "stream",
          "name": "stdout",
          "text": [
            "Pizza: Margherita, Cheese, Olives, Pepperoni\n",
            "Cost: $ 10.5\n",
            "Pizza 2: Margherita, Cheese\n",
            "Cost: $ 7.5\n"
          ]
        }
      ]
    },
    {
      "cell_type": "code",
      "source": [],
      "metadata": {
        "id": "InCqG3HSrYjw"
      },
      "execution_count": null,
      "outputs": []
    }
  ]
}