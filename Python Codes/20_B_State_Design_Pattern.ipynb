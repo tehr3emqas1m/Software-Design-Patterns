{
  "nbformat": 4,
  "nbformat_minor": 0,
  "metadata": {
    "colab": {
      "provenance": []
    },
    "kernelspec": {
      "name": "python3",
      "display_name": "Python 3"
    },
    "language_info": {
      "name": "python"
    }
  },
  "cells": [
    {
      "cell_type": "markdown",
      "source": [
        "#State Design Pattern\n",
        "The State Pattern lets an object change its behavior when its internal state changes, as if the object changed its class.\n",
        "\n",
        "Real-life analogy: A fan has states: Off, Low, High. When you press the button, it moves to the next state, and its behavior (speed, noise, etc.) changes."
      ],
      "metadata": {
        "id": "UDC_vrD6OEsD"
      }
    },
    {
      "cell_type": "markdown",
      "source": [
        "#Example 1"
      ],
      "metadata": {
        "id": "YMi0iNb1OmHo"
      }
    },
    {
      "cell_type": "markdown",
      "source": [
        "Lets implement the fan example using the state design pattern"
      ],
      "metadata": {
        "id": "Zld-gY4vOsTf"
      }
    },
    {
      "cell_type": "markdown",
      "source": [
        "#Context\n",
        "The context is the main class that holds a reference to the current state and allows state transitions."
      ],
      "metadata": {
        "id": "YYd3CHqgOk6X"
      }
    },
    {
      "cell_type": "markdown",
      "source": [
        "This class holds the current state of the fan.\n",
        "\n",
        "It starts in OffState().\n",
        "\n",
        "When press_button() is called, it delegates to the state object, which can change the fan's state."
      ],
      "metadata": {
        "id": "WX4nTsUDVE0W"
      }
    },
    {
      "cell_type": "code",
      "source": [
        "class FanContext:\n",
        "    def __init__(self):\n",
        "        self.state = OffState()  # ← Initial state\n",
        "\n",
        "    def press_button(self):\n",
        "        self.state.press_button(self)\n"
      ],
      "metadata": {
        "id": "PBYPxpUrOEZ5"
      },
      "execution_count": 4,
      "outputs": []
    },
    {
      "cell_type": "markdown",
      "source": [
        "#State Interface (Abstract State)\n",
        "Defines the common interface that all concrete states implement."
      ],
      "metadata": {
        "id": "DHn2R90wPduE"
      }
    },
    {
      "cell_type": "markdown",
      "source": [
        "All states (Off, Low, High) will inherit from this and implement their own version of press_button."
      ],
      "metadata": {
        "id": "6eZb1P1aSwc0"
      }
    },
    {
      "cell_type": "code",
      "execution_count": 10,
      "metadata": {
        "id": "0wG8MFwRLgHC"
      },
      "outputs": [],
      "source": [
        "\"\"\"\n",
        "class State:\n",
        "    def press_button(self, fan):\n",
        "        pass\n",
        "\"\"\"\n",
        "from abc import ABC, abstractmethod\n",
        "\n",
        "class State(ABC):  # Explicit interface\n",
        "    @abstractmethod\n",
        "    def press_button(self, fan):\n",
        "        pass"
      ]
    },
    {
      "cell_type": "markdown",
      "source": [
        "#Concrete States\n",
        "These classes implement the behavior for different states."
      ],
      "metadata": {
        "id": "-ir3evsPPlic"
      }
    },
    {
      "cell_type": "markdown",
      "source": [
        "Each state knows what to do when the button is pressed while it's in that state:\n",
        "\n",
        "E.g, when the buttion is pressed in Off state, fan will move to low speed"
      ],
      "metadata": {
        "id": "ZiJjarF8S-7e"
      }
    },
    {
      "cell_type": "code",
      "source": [
        "#These are the concrete states. Each one knows what the next\n",
        "# state is and modifies the context (fan.state = ...).\n",
        "class OffState(State):\n",
        "    def press_button(self, fan):\n",
        "        print(\"Turning fan to LOW\")\n",
        "        fan.state = LowState()\n",
        "\n",
        "class LowState(State):\n",
        "    def press_button(self, fan):\n",
        "        print(\"Turning fan to HIGH\")\n",
        "        fan.state = HighState()\n",
        "\n",
        "class HighState(State):\n",
        "    def press_button(self, fan):\n",
        "        print(\"Turning fan OFF\")\n",
        "        fan.state = OffState()\n"
      ],
      "metadata": {
        "id": "K1byXDSiPiyy"
      },
      "execution_count": 11,
      "outputs": []
    },
    {
      "cell_type": "code",
      "source": [
        "# --- Use the fan ---\n",
        "fan = FanContext()\n",
        "\n",
        "fan.press_button()  # Off -> Low\n",
        "fan.press_button()  # Low -> High\n",
        "fan.press_button()  # High -> Off\n",
        "fan.press_button()  # Off -> Low\n"
      ],
      "metadata": {
        "colab": {
          "base_uri": "https://localhost:8080/"
        },
        "id": "klSaJhh7Pojv",
        "outputId": "11e157d1-7c69-4895-b8f0-371dcfc39bde"
      },
      "execution_count": 12,
      "outputs": [
        {
          "output_type": "stream",
          "name": "stdout",
          "text": [
            "Turning fan to LOW\n",
            "Turning fan to HIGH\n",
            "Turning fan OFF\n",
            "Turning fan to LOW\n"
          ]
        }
      ]
    },
    {
      "cell_type": "code",
      "source": [],
      "metadata": {
        "id": "0GlHEBKjQl2V"
      },
      "execution_count": null,
      "outputs": []
    }
  ]
}