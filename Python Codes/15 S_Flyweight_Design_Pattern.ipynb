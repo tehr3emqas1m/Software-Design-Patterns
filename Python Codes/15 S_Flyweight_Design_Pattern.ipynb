{
  "nbformat": 4,
  "nbformat_minor": 0,
  "metadata": {
    "colab": {
      "provenance": []
    },
    "kernelspec": {
      "name": "python3",
      "display_name": "Python 3"
    },
    "language_info": {
      "name": "python"
    }
  },
  "cells": [
    {
      "cell_type": "markdown",
      "source": [
        "#Flyweight Design Pattern"
      ],
      "metadata": {
        "id": "tB0MLyhn69Q3"
      }
    },
    {
      "cell_type": "markdown",
      "source": [
        "Flyweight is used to share common parts of objects to save memory when you have lots of similar objects."
      ],
      "metadata": {
        "id": "OGIPBj5R7Aev"
      }
    },
    {
      "cell_type": "markdown",
      "source": [
        "#Example1\n",
        "Example: Drawing Many Circles\n",
        "\n",
        "Goal:\n",
        "Many circles of the same color are being drawn.\n",
        "\n",
        "We want to avoid creating new Circle objects again and again."
      ],
      "metadata": {
        "id": "Qso9jMNy7Hgc"
      }
    },
    {
      "cell_type": "markdown",
      "source": [
        "We want to draw many circles, some of which share the same color. Instead of creating a new Circle object for every circle drawn (which wastes memory), we reuse existing circle objects with the same color.\n",
        "\n"
      ],
      "metadata": {
        "id": "PVNYENaMBfs8"
      }
    },
    {
      "cell_type": "code",
      "execution_count": 20,
      "metadata": {
        "id": "7atV48yg645c"
      },
      "outputs": [],
      "source": [
        "#Flyweight class (Circle)\n",
        "class Circle:\n",
        "    def __init__(self, color):\n",
        "        self.color = color  # intrinsic state (shared)\n",
        "\n",
        "    def draw(self, x, y):\n",
        "        #print(f\"Drawing {self.color} circle at ({x}, {y})\")\n",
        "        print(f\"Drawing {self.color} circle at ({x}, {y}) | id: {id(self)}\")\n"
      ]
    },
    {
      "cell_type": "markdown",
      "source": [
        "Each Circle stores its intrinsic state: the color.\n",
        "\n",
        "The draw method takes the extrinsic state: the coordinates (x, y) where the circle is drawn.\n",
        "\n",
        "The intrinsic state is shared, extrinsic is unique per use."
      ],
      "metadata": {
        "id": "NQh_7TuUBrsl"
      }
    },
    {
      "cell_type": "code",
      "source": [
        "#Flyweight Factory (reuses circle)\n",
        "class CircleFactory:\n",
        "    _circles = {} #empty dictionary\n",
        "\n",
        "    def get_circle(self, color):\n",
        "        if color not in self._circles:\n",
        "            self._circles[color] = Circle(color)\n",
        "            print(f\"Created new {color} circle\")\n",
        "        return self._circles[color]\n"
      ],
      "metadata": {
        "id": "nLnOyDOl7Uty"
      },
      "execution_count": 21,
      "outputs": []
    },
    {
      "cell_type": "markdown",
      "source": [
        "This factory maintains a dictionary _circles mapping colors to existing Circle objects.\n",
        "\n",
        "When get_circle(color) is called:\n",
        "\n",
        "If a circle of that color does not exist, create it and store.\n",
        "\n",
        "Otherwise, reuse the existing one.\n",
        "\n",
        "This avoids creating multiple circle objects of the same color."
      ],
      "metadata": {
        "id": "8i7TEGpGCByT"
      }
    },
    {
      "cell_type": "code",
      "source": [
        "#Client code (uses shared circles)\n",
        "factory = CircleFactory()\n",
        "\n",
        "colors = [\"red\", \"green\", \"red\", \"green\", \"red\", \"blue\",\"blue\"]\n",
        "\n",
        "positions = [(5, 10), (10, 20), (15, 30), (20, 40), (25, 50), (1,2),(1,3)]\n",
        "\n",
        "for i in range(len(colors)):\n",
        "    circle = factory.get_circle(colors[i])\n",
        "    circle.draw(*positions[i])\n"
      ],
      "metadata": {
        "colab": {
          "base_uri": "https://localhost:8080/"
        },
        "id": "K63qoY1c7agp",
        "outputId": "ad3139a9-0923-466c-b124-76d2a592403b"
      },
      "execution_count": 22,
      "outputs": [
        {
          "output_type": "stream",
          "name": "stdout",
          "text": [
            "Created new red circle\n",
            "Drawing red circle at (5, 10) | id: 135970245572944\n",
            "Created new green circle\n",
            "Drawing green circle at (10, 20) | id: 135970246962384\n",
            "Drawing red circle at (15, 30) | id: 135970245572944\n",
            "Drawing green circle at (20, 40) | id: 135970246962384\n",
            "Drawing red circle at (25, 50) | id: 135970245572944\n",
            "Created new blue circle\n",
            "Drawing blue circle at (1, 2) | id: 135970245565840\n",
            "Drawing blue circle at (1, 3) | id: 135970245565840\n"
          ]
        }
      ]
    },
    {
      "cell_type": "markdown",
      "source": [
        "We have N circles to draw.\n",
        "\n",
        "Colors repeat: \"red\", \"green\", \"red\" etc.\n",
        "\n",
        "Positions are unique.\n",
        "\n",
        "We reuse circles for \"red\" and \"green\" colors instead of creating new ones.\n",
        "\n"
      ],
      "metadata": {
        "id": "BE7ceOZCCQUp"
      }
    },
    {
      "cell_type": "markdown",
      "source": [
        "The first time a color appears, a new Circle object is created.\n",
        "\n",
        "Next times the same color is requested, the factory returns the existing object.\n",
        "\n",
        "The position is passed during draw() call as extrinsic data.\n",
        "\n"
      ],
      "metadata": {
        "id": "vdrWIGLUCXLB"
      }
    },
    {
      "cell_type": "code",
      "source": [],
      "metadata": {
        "id": "pAnwkfnS7jJB"
      },
      "execution_count": 16,
      "outputs": []
    },
    {
      "cell_type": "markdown",
      "source": [
        "#Repeating the above example by plotting the circles"
      ],
      "metadata": {
        "id": "0fwYA64xniey"
      }
    },
    {
      "cell_type": "code",
      "source": [
        "import matplotlib.pyplot as plt\n",
        "\n",
        "# Flyweight class\n",
        "class Circle:\n",
        "    def __init__(self, color):\n",
        "        self.color = color  # Intrinsic state\n",
        "\n",
        "    def draw(self, x, y, ax):\n",
        "        circle = plt.Circle((x, y), radius=3, color=self.color, alpha=0.5)\n",
        "        ax.add_patch(circle)\n",
        "        print(f\"Drawing {self.color} circle at ({x}, {y}) | id: {id(self)}\")\n",
        "\n",
        "\n",
        "# Flyweight Factory\n",
        "class CircleFactory:\n",
        "    _circles = {}\n",
        "\n",
        "    def get_circle(self, color):\n",
        "        if color not in self._circles:\n",
        "            self._circles[color] = Circle(color)\n",
        "            print(f\"Created new {color} circle | id: {id(self._circles[color])}\")\n",
        "        return self._circles[color]\n",
        "\n",
        "factory = CircleFactory()\n",
        "colors = [\"red\", \"green\", \"red\", \"green\", \"red\", \"blue\",\"brown\"]\n",
        "positions = [(5, 10), (10, 20), (15, 30), (20, 40), (25, 50),(20,10),(5,30)]\n",
        "\n",
        "# Set up matplotlib figure\n",
        "fig, ax = plt.subplots()\n",
        "ax.set_aspect('equal')\n",
        "ax.set_xlim(0, 30)\n",
        "ax.set_ylim(0, 60)\n",
        "ax.set_title(\"Flyweight Pattern: Shared Circles\")\n",
        "\n",
        "for i in range(len(colors)):\n",
        "    circle = factory.get_circle(colors[i])\n",
        "    circle.draw(positions[i][0], positions[i][1], ax)\n",
        "\n",
        "plt.grid(True)\n",
        "plt.show()"
      ],
      "metadata": {
        "colab": {
          "base_uri": "https://localhost:8080/",
          "height": 651
        },
        "id": "LufBZhz-mPDD",
        "outputId": "9ca8a23a-7d23-4eea-b409-542e166ffb02"
      },
      "execution_count": 24,
      "outputs": [
        {
          "output_type": "stream",
          "name": "stdout",
          "text": [
            "Created new red circle | id: 135970246540880\n",
            "Drawing red circle at (5, 10) | id: 135970246540880\n",
            "Created new green circle | id: 135970245573008\n",
            "Drawing green circle at (10, 20) | id: 135970245573008\n",
            "Drawing red circle at (15, 30) | id: 135970246540880\n",
            "Drawing green circle at (20, 40) | id: 135970245573008\n",
            "Drawing red circle at (25, 50) | id: 135970246540880\n",
            "Created new blue circle | id: 135970285659344\n",
            "Drawing blue circle at (20, 10) | id: 135970285659344\n",
            "Created new brown circle | id: 135970282878288\n",
            "Drawing brown circle at (5, 30) | id: 135970282878288\n"
          ]
        },
        {
          "output_type": "display_data",
          "data": {
            "text/plain": [
              "<Figure size 640x480 with 1 Axes>"
            ],
            "image/png": "[encoded data removed]"
          },
          "metadata": {}
        }
      ]
    },
    {
      "cell_type": "code",
      "source": [],
      "metadata": {
        "id": "dhNtm7yzmQqH"
      },
      "execution_count": null,
      "outputs": []
    }
  ]
}