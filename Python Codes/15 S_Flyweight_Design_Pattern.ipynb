{
  "nbformat": 4,
  "nbformat_minor": 0,
  "metadata": {
    "colab": {
      "provenance": []
    },
    "kernelspec": {
      "name": "python3",
      "display_name": "Python 3"
    },
    "language_info": {
      "name": "python"
    }
  },
  "cells": [
    {
      "cell_type": "markdown",
      "source": [
        "#Flyweight Design Pattern"
      ],
      "metadata": {
        "id": "tB0MLyhn69Q3"
      }
    },
    {
      "cell_type": "markdown",
      "source": [
        "Flyweight is used to share common parts of objects to save memory when you have lots of similar objects."
      ],
      "metadata": {
        "id": "OGIPBj5R7Aev"
      }
    },
    {
      "cell_type": "markdown",
      "source": [
        "#Example1\n",
        "Example: Drawing Many Circles\n",
        "\n",
        "Goal:\n",
        "Many circles of the same color are being drawn.\n",
        "\n",
        "We want to avoid creating new Circle objects again and again."
      ],
      "metadata": {
        "id": "Qso9jMNy7Hgc"
      }
    },
    {
      "cell_type": "markdown",
      "source": [
        "We want to draw many circles, some of which share the same color. Instead of creating a new Circle object for every circle drawn (which wastes memory), we reuse existing circle objects with the same color.\n",
        "\n"
      ],
      "metadata": {
        "id": "PVNYENaMBfs8"
      }
    },
    {
      "cell_type": "code",
      "execution_count": null,
      "metadata": {
        "id": "7atV48yg645c"
      },
      "outputs": [],
      "source": [
        "#Flyweight class (Circle)\n",
        "class Circle:\n",
        "    def __init__(self, color):\n",
        "        self.color = color  # intrinsic state (shared)\n",
        "\n",
        "    def draw(self, x, y):\n",
        "        #print(f\"Drawing {self.color} circle at ({x}, {y})\")\n",
        "        print(f\"Drawing {self.color} circle at ({x}, {y}) | id: {id(self)}\")\n"
      ]
    },
    {
      "cell_type": "markdown",
      "source": [
        "Each Circle stores its intrinsic state: the color.\n",
        "\n",
        "The draw method takes the extrinsic state: the coordinates (x, y) where the circle is drawn.\n",
        "\n",
        "The intrinsic state is shared, extrinsic is unique per use."
      ],
      "metadata": {
        "id": "NQh_7TuUBrsl"
      }
    },
    {
      "cell_type": "code",
      "source": [
        "#Flyweight Factory (reuses circle)\n",
        "class CircleFactory:\n",
        "    _circles = {} #empty dictionary\n",
        "\n",
        "    def get_circle(self, color):\n",
        "        if color not in self._circles:\n",
        "            self._circles[color] = Circle(color)\n",
        "            print(f\"Created new {color} circle\")\n",
        "        return self._circles[color]\n"
      ],
      "metadata": {
        "id": "nLnOyDOl7Uty"
      },
      "execution_count": null,
      "outputs": []
    },
    {
      "cell_type": "markdown",
      "source": [
        "This factory maintains a dictionary _circles mapping colors to existing Circle objects.\n",
        "\n",
        "When get_circle(color) is called:\n",
        "\n",
        "If a circle of that color does not exist, create it and store.\n",
        "\n",
        "Otherwise, reuse the existing one.\n",
        "\n",
        "This avoids creating multiple circle objects of the same color."
      ],
      "metadata": {
        "id": "8i7TEGpGCByT"
      }
    },
    {
      "cell_type": "code",
      "source": [
        "#Client code (uses shared circles)\n",
        "factory = CircleFactory()\n",
        "\n",
        "colors = [\"red\", \"green\", \"red\", \"green\", \"red\", \"blue\",\"blue\"]\n",
        "\n",
        "positions = [(5, 10), (10, 20), (15, 30), (20, 40), (25, 50), (1,2),(1,3)]\n",
        "\n",
        "for i in range(len(colors)):\n",
        "    circle = factory.get_circle(colors[i])\n",
        "    circle.draw(*positions[i])\n"
      ],
      "metadata": {
        "colab": {
          "base_uri": "https://localhost:8080/"
        },
        "id": "K63qoY1c7agp",
        "outputId": "476c0297-9ba3-47c5-caae-729fce8ab2e4"
      },
      "execution_count": null,
      "outputs": [
        {
          "output_type": "stream",
          "name": "stdout",
          "text": [
            "Drawing red circle at (5, 10) | id: 135971135014352\n",
            "Drawing green circle at (10, 20) | id: 135971137595408\n",
            "Drawing red circle at (15, 30) | id: 135971135014352\n",
            "Drawing green circle at (20, 40) | id: 135971137595408\n",
            "Drawing red circle at (25, 50) | id: 135971135014352\n",
            "Drawing blue circle at (1, 2) | id: 135971125549776\n",
            "Drawing blue circle at (1, 3) | id: 135971125549776\n"
          ]
        }
      ]
    },
    {
      "cell_type": "markdown",
      "source": [
        "We have N circles to draw.\n",
        "\n",
        "Colors repeat: \"red\", \"green\", \"red\" etc.\n",
        "\n",
        "Positions are unique.\n",
        "\n",
        "We reuse circles for \"red\" and \"green\" colors instead of creating new ones.\n",
        "\n"
      ],
      "metadata": {
        "id": "BE7ceOZCCQUp"
      }
    },
    {
      "cell_type": "markdown",
      "source": [
        "The first time a color appears, a new Circle object is created.\n",
        "\n",
        "Next times the same color is requested, the factory returns the existing object.\n",
        "\n",
        "The position is passed during draw() call as extrinsic data.\n",
        "\n"
      ],
      "metadata": {
        "id": "vdrWIGLUCXLB"
      }
    },
    {
      "cell_type": "code",
      "source": [],
      "metadata": {
        "id": "pAnwkfnS7jJB"
      },
      "execution_count": null,
      "outputs": []
    }
  ]
}