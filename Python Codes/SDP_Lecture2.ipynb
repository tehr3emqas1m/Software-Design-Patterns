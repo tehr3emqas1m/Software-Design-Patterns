{
  "nbformat": 4,
  "nbformat_minor": 0,
  "metadata": {
    "colab": {
      "provenance": []
    },
    "kernelspec": {
      "name": "python3",
      "display_name": "Python 3"
    },
    "language_info": {
      "name": "python"
    }
  },
  "cells": [
    {
      "cell_type": "code",
      "execution_count": null,
      "metadata": {
        "id": "HD25iql98yNU"
      },
      "outputs": [],
      "source": [
        "#Python doesnt enforce data types but we can use hinting\n",
        "def MyFunction(x: int,y: int)->int:\n",
        "  return x+y"
      ]
    },
    {
      "cell_type": "code",
      "source": [
        "#These are just hints for the programmer\n",
        "#The programmer can still use floats here\n",
        "MyFunction(2.4,3)"
      ],
      "metadata": {
        "colab": {
          "base_uri": "https://localhost:8080/"
        },
        "id": "Skwr0kkmBvtE",
        "outputId": "295fca40-6ce3-49de-d2ec-56fdbd4eda60"
      },
      "execution_count": null,
      "outputs": [
        {
          "output_type": "execute_result",
          "data": {
            "text/plain": [
              "5.4"
            ]
          },
          "metadata": {},
          "execution_count": 6
        }
      ]
    },
    {
      "cell_type": "markdown",
      "source": [
        "#OOP in Python"
      ],
      "metadata": {
        "id": "LIKsbN6xCMUf"
      }
    },
    {
      "cell_type": "code",
      "source": [
        "class MyClass:\n",
        "  a = 4\n",
        "  b = 3\n"
      ],
      "metadata": {
        "id": "LrDMt5qKBzxw"
      },
      "execution_count": null,
      "outputs": []
    },
    {
      "cell_type": "code",
      "source": [
        "obj1 = MyClass()"
      ],
      "metadata": {
        "id": "zoqvwWkuC04q"
      },
      "execution_count": null,
      "outputs": []
    },
    {
      "cell_type": "code",
      "source": [
        "obj1.a"
      ],
      "metadata": {
        "colab": {
          "base_uri": "https://localhost:8080/"
        },
        "id": "ndqkqVuaDC48",
        "outputId": "02cb543e-c317-4626-a37b-4b8beb07638f"
      },
      "execution_count": null,
      "outputs": [
        {
          "output_type": "execute_result",
          "data": {
            "text/plain": [
              "4"
            ]
          },
          "metadata": {},
          "execution_count": 13
        }
      ]
    },
    {
      "cell_type": "code",
      "source": [
        "obj1.b"
      ],
      "metadata": {
        "colab": {
          "base_uri": "https://localhost:8080/"
        },
        "id": "hrnLcC85DRqp",
        "outputId": "38a8ed16-f201-472c-b220-905cb13bada4"
      },
      "execution_count": null,
      "outputs": [
        {
          "output_type": "execute_result",
          "data": {
            "text/plain": [
              "3"
            ]
          },
          "metadata": {},
          "execution_count": 14
        }
      ]
    },
    {
      "cell_type": "markdown",
      "source": [
        "Now lets add a function to a class"
      ],
      "metadata": {
        "id": "Zuby65-2Dfk0"
      }
    },
    {
      "cell_type": "code",
      "source": [
        "class MyClass:\n",
        "  def mySum(self, a,b):\n",
        "    return a+b\n",
        "  def hello(self):\n",
        "    print(\"Hello World\")"
      ],
      "metadata": {
        "id": "UGlV3vDADchS"
      },
      "execution_count": null,
      "outputs": []
    },
    {
      "cell_type": "code",
      "source": [
        "obj1 = MyClass()"
      ],
      "metadata": {
        "id": "nyD7O5QDDUhs"
      },
      "execution_count": null,
      "outputs": []
    },
    {
      "cell_type": "code",
      "source": [
        "obj1.mySum(3,4)"
      ],
      "metadata": {
        "colab": {
          "base_uri": "https://localhost:8080/"
        },
        "id": "vwQSENWjDveL",
        "outputId": "2d290a89-73b1-4af9-bdab-37f4357bd945"
      },
      "execution_count": null,
      "outputs": [
        {
          "output_type": "execute_result",
          "data": {
            "text/plain": [
              "7"
            ]
          },
          "metadata": {},
          "execution_count": 27
        }
      ]
    },
    {
      "cell_type": "code",
      "source": [
        "obj1.hello()"
      ],
      "metadata": {
        "colab": {
          "base_uri": "https://localhost:8080/"
        },
        "id": "NNrBw9R6DzMb",
        "outputId": "f2017ed6-bb2d-4a27-f244-82e5bd6655fb"
      },
      "execution_count": null,
      "outputs": [
        {
          "output_type": "stream",
          "name": "stdout",
          "text": [
            "Hello World\n"
          ]
        }
      ]
    },
    {
      "cell_type": "markdown",
      "source": [
        "Constructors in Python"
      ],
      "metadata": {
        "id": "7z5lqaWpExhb"
      }
    },
    {
      "cell_type": "code",
      "source": [
        "#Lets create a class where two variables are initialized with\n",
        "# the constructor and then their sum is computed in a function\n",
        "class MyClass:\n",
        "  def __init__(self,a,b):\n",
        "    self.a = a\n",
        "    self.b = b\n",
        "  def mySum(self):\n",
        "\n",
        "    return(self.a+self.b)\n",
        "\n"
      ],
      "metadata": {
        "id": "HTjR2N8_EsZ0"
      },
      "execution_count": null,
      "outputs": []
    },
    {
      "cell_type": "code",
      "source": [
        "obj1 = MyClass(2,3)\n",
        "obj1.mySum()"
      ],
      "metadata": {
        "colab": {
          "base_uri": "https://localhost:8080/"
        },
        "id": "qVpqJuwPGHYc",
        "outputId": "f2fb71ea-1a1b-474c-89c2-68aa8e42f7ea"
      },
      "execution_count": null,
      "outputs": [
        {
          "output_type": "execute_result",
          "data": {
            "text/plain": [
              "5"
            ]
          },
          "metadata": {},
          "execution_count": 32
        }
      ]
    },
    {
      "cell_type": "code",
      "source": [
        "#Side example, the Sum function shoud also take two extra arguments\n",
        "#Lets create a class where two variables are initialized with\n",
        "# the constructor and then their sum is computed in a function\n",
        "class MyClass:\n",
        "  def __init__(self,a,b):\n",
        "    self.a = a\n",
        "    self.b = b\n",
        "  def mySum(self,c,d):\n",
        "\n",
        "    return(self.a+self.b+c+d)\n",
        "\n"
      ],
      "metadata": {
        "id": "y5B_0NB1GRC5"
      },
      "execution_count": null,
      "outputs": []
    },
    {
      "cell_type": "code",
      "source": [
        "obj1 = MyClass(1,2)\n",
        "obj1.mySum(2,3)"
      ],
      "metadata": {
        "colab": {
          "base_uri": "https://localhost:8080/"
        },
        "id": "-HDoHMTHHK54",
        "outputId": "a0f5ec6b-cf23-4277-dd22-0a04aca3e598"
      },
      "execution_count": null,
      "outputs": [
        {
          "output_type": "execute_result",
          "data": {
            "text/plain": [
              "8"
            ]
          },
          "metadata": {},
          "execution_count": 34
        }
      ]
    },
    {
      "cell_type": "markdown",
      "source": [
        "#Inheritence"
      ],
      "metadata": {
        "id": "GoCzm1N8IGqI"
      }
    },
    {
      "cell_type": "code",
      "source": [
        "#We are going to create a class calculator\n",
        "# in which we will pass two numbers using a constructor\n",
        "# and the operation to be performed on them will be\n",
        "# declared in subsequent function\n",
        "\n",
        "class Greet:\n",
        "  def greetings(self):\n",
        "    print(\"Hello, welcome to my Calculator\")\n",
        "\n",
        "\n",
        "class Bye:\n",
        "  def bye(self):\n",
        "    print(\"Hope you enjoyed using the calculator, Bye !!!\")\n",
        "\n",
        "\n",
        "class MyCalculator(Greet):\n",
        "  def __init__(self,a,b):\n",
        "    self.a = a\n",
        "    self.b = b\n",
        "  def Operation(self, operation):\n",
        "    if operation == 'add':\n",
        "      return self.a + self.b\n",
        "    elif operation == 'subract':\n",
        "      return self.a - self.b\n",
        "    if operation == 'multiply':\n",
        "      return self.a * self.b\n",
        "    if operation == 'divide':\n",
        "      return self.a / self.b\n",
        "    else:\n",
        "      return \"Invalid Operation\"\n"
      ],
      "metadata": {
        "id": "FgTksfIhHWq2"
      },
      "execution_count": null,
      "outputs": []
    },
    {
      "cell_type": "code",
      "source": [
        "obj1 = MyCalculator(6,2)\n",
        "obj1.greetings()\n"
      ],
      "metadata": {
        "colab": {
          "base_uri": "https://localhost:8080/"
        },
        "id": "hzDPFIWKJWtb",
        "outputId": "b585fb19-8388-4369-a140-bdd4dad41e5a"
      },
      "execution_count": null,
      "outputs": [
        {
          "output_type": "stream",
          "name": "stdout",
          "text": [
            "Hello, welcome to my Calculator\n"
          ]
        }
      ]
    },
    {
      "cell_type": "code",
      "source": [
        "obj1.Operation(\"multiply\")"
      ],
      "metadata": {
        "colab": {
          "base_uri": "https://localhost:8080/"
        },
        "id": "6KKKLx75JfDz",
        "outputId": "b6bddc02-1cd9-4989-85a5-6e756a950cf4"
      },
      "execution_count": null,
      "outputs": [
        {
          "output_type": "execute_result",
          "data": {
            "text/plain": [
              "12"
            ]
          },
          "metadata": {},
          "execution_count": 43
        }
      ]
    },
    {
      "cell_type": "markdown",
      "source": [
        "#Multiple inheritence"
      ],
      "metadata": {
        "id": "vh60ixDpKtgV"
      }
    },
    {
      "cell_type": "code",
      "source": [
        "\n",
        "class Greet:\n",
        "  def greetings(self):\n",
        "    print(\"Hello, welcome to my Calculator\")\n",
        "\n",
        "\n",
        "class Bye:\n",
        "  def bye(self):\n",
        "    print(\"Hope you enjoyed using the calculator, Bye !!!\")\n",
        "\n",
        "\n",
        "class MyCalculator(Greet,Bye`):\n",
        "  def __init__(self,a,b):\n",
        "    self.a = a\n",
        "    self.b = b\n",
        "  def Operation(self, operation):\n",
        "    if operation == 'add':\n",
        "      return self.a + self.b\n",
        "    elif operation == 'subract':\n",
        "      return self.a - self.b\n",
        "    if operation == 'multiply':\n",
        "      return self.a * self.b\n",
        "    if operation == 'divide':\n",
        "      return self.a / self.b\n",
        "    else:\n",
        "      return \"Invalid Operation\"\n"
      ],
      "metadata": {
        "id": "6IDc4BkQJjfB"
      },
      "execution_count": null,
      "outputs": []
    },
    {
      "cell_type": "code",
      "source": [
        "obj1 = MyCalculator(6,2)\n",
        "obj1.greetings()\n"
      ],
      "metadata": {
        "colab": {
          "base_uri": "https://localhost:8080/"
        },
        "id": "qN_8xuPdLWNP",
        "outputId": "c16f508a-e659-4765-f1a3-c855bbb1a385"
      },
      "execution_count": null,
      "outputs": [
        {
          "output_type": "stream",
          "name": "stdout",
          "text": [
            "Hello, welcome to my Calculator\n"
          ]
        }
      ]
    },
    {
      "cell_type": "code",
      "source": [
        "obj1.Operation(\"multiply\")"
      ],
      "metadata": {
        "colab": {
          "base_uri": "https://localhost:8080/"
        },
        "id": "2Ir33nPLLYyu",
        "outputId": "7333aa71-289d-4987-d214-387add00efee"
      },
      "execution_count": null,
      "outputs": [
        {
          "output_type": "execute_result",
          "data": {
            "text/plain": [
              "12"
            ]
          },
          "metadata": {},
          "execution_count": 48
        }
      ]
    },
    {
      "cell_type": "code",
      "source": [
        "obj1.bye()"
      ],
      "metadata": {
        "colab": {
          "base_uri": "https://localhost:8080/"
        },
        "id": "TgLTLfO1LbAb",
        "outputId": "bab350b8-8cd8-4e84-ad1b-382c621c13a3"
      },
      "execution_count": null,
      "outputs": [
        {
          "output_type": "stream",
          "name": "stdout",
          "text": [
            "Hope you enjoyed using the calculator, Bye !!!\n"
          ]
        }
      ]
    },
    {
      "cell_type": "markdown",
      "source": [
        "#Now lets do an example of multi level inheritence"
      ],
      "metadata": {
        "id": "mdRKkknSLnDF"
      }
    },
    {
      "cell_type": "code",
      "source": [
        "\n",
        "class Greet:\n",
        "  def greetings(self):\n",
        "    print(\"Hello, welcome to my Calculator\")\n",
        "\n",
        "\n",
        "class Bye(Greet):\n",
        "  def bye(self):\n",
        "    print(\"Hope you enjoyed using the calculator, Bye !!!\")\n",
        "\n",
        "\n",
        "class MyCalculator(Bye):\n",
        "  def __init__(self,a,b):\n",
        "    self.a = a\n",
        "    self.b = b\n",
        "  def Operation(self, operation):\n",
        "    if operation == 'add':\n",
        "      return self.a + self.b\n",
        "    elif operation == 'subract':\n",
        "      return self.a - self.b\n",
        "    if operation == 'multiply':\n",
        "      return self.a * self.b\n",
        "    if operation == 'divide':\n",
        "      return self.a / self.b\n",
        "    else:\n",
        "      return \"Invalid Operation\"\n"
      ],
      "metadata": {
        "id": "0PErLXM_LiNz"
      },
      "execution_count": null,
      "outputs": []
    },
    {
      "cell_type": "code",
      "source": [],
      "metadata": {
        "id": "h1PRdjiSLxCN"
      },
      "execution_count": null,
      "outputs": []
    },
    {
      "cell_type": "code",
      "source": [
        "obj1 = MyCalculator(6,2)\n",
        "obj1.greetings()\n",
        "obj1.Operation(\"add\")\n",
        "obj1.bye()"
      ],
      "metadata": {
        "colab": {
          "base_uri": "https://localhost:8080/"
        },
        "id": "hvSQy9qKLwWK",
        "outputId": "81fa218b-4ae6-42ec-9ecc-13cd78fa1541"
      },
      "execution_count": null,
      "outputs": [
        {
          "output_type": "stream",
          "name": "stdout",
          "text": [
            "Hello, welcome to my Calculator\n",
            "Hope you enjoyed using the calculator, Bye !!!\n"
          ]
        }
      ]
    },
    {
      "cell_type": "code",
      "source": [],
      "metadata": {
        "id": "znNFdsbLMki0"
      },
      "execution_count": null,
      "outputs": []
    }
  ]
}