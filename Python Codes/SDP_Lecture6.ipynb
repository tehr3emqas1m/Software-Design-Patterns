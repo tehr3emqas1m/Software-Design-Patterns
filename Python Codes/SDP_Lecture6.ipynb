{
 "cells": [
  {
   "cell_type": "markdown",
   "metadata": {
    "id": "Zz5-mWBC73sq"
   },
   "source": [
    "#Abstract Classes"
   ]
  },
  {
   "cell_type": "markdown",
   "metadata": {
    "id": "QoJwH8PS76lK"
   },
   "source": [
    "An abstract class can not be instantiated on its own.\n",
    "Abstract classes are suppoed to be inherited by child classes.\n",
    "They can have abstract methods that are declared but have no implementation"
   ]
  },
  {
   "cell_type": "code",
   "execution_count": 12,
   "metadata": {
    "id": "aR_gjrg970E9"
   },
   "outputs": [],
   "source": [
    "from abc import ABC, abstractmethod\n",
    "#import abc\n",
    "class Vehicle(ABC):\n",
    "  @abstractmethod # To create an abstract method we use this decorator\n",
    "  def go(self):\n",
    "    pass #We declared the abstract method but we did not define it\n",
    "          # We are going to define abstract methods with each of the childern class that\n",
    "          # inherit the Vehicle class\n",
    "\n",
    "  #Lets create another abstract method\n",
    "  @abstractmethod\n",
    "  def stop(self):\n",
    "    pass\n",
    "\n",
    "\n",
    "\n",
    "\n",
    "\n",
    "\n"
   ]
  },
  {
   "cell_type": "code",
   "execution_count": 13,
   "metadata": {
    "colab": {
     "base_uri": "https://localhost:8080/",
     "height": 182
    },
    "id": "rdYihYRb9iwX",
    "outputId": "cc40b00a-0c94-4aba-8af1-39dfaf73c09d"
   },
   "outputs": [
    {
     "ename": "TypeError",
     "evalue": "Can't instantiate abstract class Vehicle with abstract methods go, stop",
     "output_type": "error",
     "traceback": [
      "\u001b[0;31m---------------------------------------------------------------------------\u001b[0m",
      "\u001b[0;31mTypeError\u001b[0m                                 Traceback (most recent call last)",
      "\u001b[0;32m<ipython-input-13-c2c0bd1650bc>\u001b[0m in \u001b[0;36m<cell line: 0>\u001b[0;34m()\u001b[0m\n\u001b[1;32m      1\u001b[0m \u001b[0;31m#Now lets try to instantiate this class and see what happens\u001b[0m\u001b[0;34m\u001b[0m\u001b[0;34m\u001b[0m\u001b[0m\n\u001b[1;32m      2\u001b[0m \u001b[0;34m\u001b[0m\u001b[0m\n\u001b[0;32m----> 3\u001b[0;31m \u001b[0mvehicle\u001b[0m \u001b[0;34m=\u001b[0m \u001b[0mVehicle\u001b[0m\u001b[0;34m(\u001b[0m\u001b[0;34m)\u001b[0m\u001b[0;34m\u001b[0m\u001b[0;34m\u001b[0m\u001b[0m\n\u001b[0m",
      "\u001b[0;31mTypeError\u001b[0m: Can't instantiate abstract class Vehicle with abstract methods go, stop"
     ]
    }
   ],
   "source": [
    "#Now lets try to instantiate this class and see what happens\n",
    "\n",
    "vehicle = Vehicle()\n"
   ]
  },
  {
   "cell_type": "code",
   "execution_count": 14,
   "metadata": {
    "colab": {
     "base_uri": "https://localhost:8080/",
     "height": 145
    },
    "id": "2pYJgMWFCE90",
    "outputId": "75aa14f1-cbeb-47e9-e597-501a09e5db30"
   },
   "outputs": [
    {
     "ename": "AttributeError",
     "evalue": "'Vehicle' object has no attribute 'go'",
     "output_type": "error",
     "traceback": [
      "\u001b[0;31m---------------------------------------------------------------------------\u001b[0m",
      "\u001b[0;31mAttributeError\u001b[0m                            Traceback (most recent call last)",
      "\u001b[0;32m<ipython-input-14-b4497803fc86>\u001b[0m in \u001b[0;36m<cell line: 0>\u001b[0;34m()\u001b[0m\n\u001b[0;32m----> 1\u001b[0;31m \u001b[0mvehicle\u001b[0m\u001b[0;34m.\u001b[0m\u001b[0mgo\u001b[0m\u001b[0;34m(\u001b[0m\u001b[0;34m)\u001b[0m\u001b[0;34m\u001b[0m\u001b[0;34m\u001b[0m\u001b[0m\n\u001b[0m",
      "\u001b[0;31mAttributeError\u001b[0m: 'Vehicle' object has no attribute 'go'"
     ]
    }
   ],
   "source": [
    "vehicle.go()"
   ]
  },
  {
   "cell_type": "code",
   "execution_count": 16,
   "metadata": {
    "id": "FNk94ufF9qJy"
   },
   "outputs": [],
   "source": [
    "class Car(Vehicle): # Now this class must implement all the `Vehicle` class\n",
    "                    #abstract methods\n",
    "\n",
    "  pass      #Lets first see what happens if we do not implement the\n",
    "            #abstract methods here\n",
    "\n"
   ]
  },
  {
   "cell_type": "code",
   "execution_count": 19,
   "metadata": {
    "colab": {
     "base_uri": "https://localhost:8080/",
     "height": 145
    },
    "id": "clWxvJD6-ZbF",
    "outputId": "bc6a3d10-24c6-414c-8e9d-e16b6b0fd7e2"
   },
   "outputs": [
    {
     "ename": "TypeError",
     "evalue": "Can't instantiate abstract class Car with abstract methods go, stop",
     "output_type": "error",
     "traceback": [
      "\u001b[0;31m---------------------------------------------------------------------------\u001b[0m",
      "\u001b[0;31mTypeError\u001b[0m                                 Traceback (most recent call last)",
      "\u001b[0;32m<ipython-input-19-bbefef4a906c>\u001b[0m in \u001b[0;36m<cell line: 0>\u001b[0;34m()\u001b[0m\n\u001b[0;32m----> 1\u001b[0;31m \u001b[0mcar\u001b[0m \u001b[0;34m=\u001b[0m \u001b[0mCar\u001b[0m\u001b[0;34m(\u001b[0m\u001b[0;34m)\u001b[0m\u001b[0;34m\u001b[0m\u001b[0;34m\u001b[0m\u001b[0m\n\u001b[0m",
      "\u001b[0;31mTypeError\u001b[0m: Can't instantiate abstract class Car with abstract methods go, stop"
     ]
    }
   ],
   "source": [
    "car = Car()"
   ]
  },
  {
   "cell_type": "markdown",
   "metadata": {
    "id": "uQ99pK0e-0d0"
   },
   "source": [
    "So we see that we must implement the abstract methods of the abstract class in the child class"
   ]
  },
  {
   "cell_type": "code",
   "execution_count": 20,
   "metadata": {
    "id": "Uq6APHOy-yD8"
   },
   "outputs": [],
   "source": [
    "class Car(Vehicle):\n",
    "  def go(self):\n",
    "    print(\"You drive the car\")\n",
    "  def stop(self):\n",
    "    print(\"You stop the car\")\n",
    "\n",
    "\n"
   ]
  },
  {
   "cell_type": "code",
   "execution_count": 21,
   "metadata": {
    "id": "POr6HWmhAAXZ"
   },
   "outputs": [],
   "source": [
    "car = Car()"
   ]
  },
  {
   "cell_type": "code",
   "execution_count": 22,
   "metadata": {
    "colab": {
     "base_uri": "https://localhost:8080/"
    },
    "id": "hMh6KvgpACEu",
    "outputId": "7353af07-c6fd-40f1-97c0-abd3e6483a33"
   },
   "outputs": [
    {
     "name": "stdout",
     "output_type": "stream",
     "text": [
      "You drive the car\n",
      "You stop the car\n"
     ]
    }
   ],
   "source": [
    "car.go()\n",
    "car.stop()\n"
   ]
  },
  {
   "cell_type": "code",
   "execution_count": 23,
   "metadata": {
    "colab": {
     "base_uri": "https://localhost:8080/"
    },
    "id": "voQSGIEIAF-a",
    "outputId": "04d0916c-772b-44cf-f88b-56aaaaa35305"
   },
   "outputs": [
    {
     "name": "stdout",
     "output_type": "stream",
     "text": [
      "You drive the Bus\n",
      "You stop the Bus\n"
     ]
    }
   ],
   "source": [
    "class Bus(Vehicle):\n",
    "  def go(self):\n",
    "    print(\"You drive the Bus\")\n",
    "  def stop(self):\n",
    "    print(\"You stop the Bus\")\n",
    "\n",
    "bus = Bus()\n",
    "bus.go()\n",
    "bus.stop()"
   ]
  },
  {
   "cell_type": "code",
   "execution_count": 24,
   "metadata": {
    "colab": {
     "base_uri": "https://localhost:8080/",
     "height": 182
    },
    "id": "jDdM9MWeAZ3G",
    "outputId": "dbb6ab56-a967-422f-fb91-0a2d439d520a"
   },
   "outputs": [
    {
     "ename": "TypeError",
     "evalue": "Can't instantiate abstract class MotorBike with abstract method stop",
     "output_type": "error",
     "traceback": [
      "\u001b[0;31m---------------------------------------------------------------------------\u001b[0m",
      "\u001b[0;31mTypeError\u001b[0m                                 Traceback (most recent call last)",
      "\u001b[0;32m<ipython-input-24-28912117b3c2>\u001b[0m in \u001b[0;36m<cell line: 0>\u001b[0;34m()\u001b[0m\n\u001b[1;32m      4\u001b[0m     \u001b[0mprint\u001b[0m\u001b[0;34m(\u001b[0m\u001b[0;34m\"You drive the Motorbike\"\u001b[0m\u001b[0;34m)\u001b[0m\u001b[0;34m\u001b[0m\u001b[0;34m\u001b[0m\u001b[0m\n\u001b[1;32m      5\u001b[0m \u001b[0;34m\u001b[0m\u001b[0m\n\u001b[0;32m----> 6\u001b[0;31m \u001b[0mmbike\u001b[0m \u001b[0;34m=\u001b[0m \u001b[0mMotorBike\u001b[0m\u001b[0;34m(\u001b[0m\u001b[0;34m)\u001b[0m\u001b[0;34m\u001b[0m\u001b[0;34m\u001b[0m\u001b[0m\n\u001b[0m",
      "\u001b[0;31mTypeError\u001b[0m: Can't instantiate abstract class MotorBike with abstract method stop"
     ]
    }
   ],
   "source": [
    "#Lets not implement all the abstract methods\n",
    "class MotorBike(Vehicle):\n",
    "  def go(self):\n",
    "    print(\"You drive the Motorbike\")\n",
    "\n",
    "mbike = MotorBike()\n"
   ]
  },
  {
   "cell_type": "markdown",
   "metadata": {
    "id": "JkJ9aYDoBK9k"
   },
   "source": [
    "So we see that if we forget to implement an abtract method then we will be forced to implement them"
   ]
  },
  {
   "cell_type": "markdown",
   "metadata": {
    "id": "VkRcZ49hDcxl"
   },
   "source": [
    "Abstract classes and methods ensure that any subclass provides implementations for the specified methods, thus enforcing a certain design contract.\n",
    "\n",
    "Abstract classes and methods enforce a contract by ensuring that any subclass provides implementations for the specified methods.\n",
    "When you define an abstract class with abstract methods, you are essentially creating a blueprint for other classes. This ensures that any subclass will implement the methods you expect. This is useful for maintaining a consistent interface across different implementations.\n",
    "\n"
   ]
  },
  {
   "cell_type": "markdown",
   "metadata": {
    "id": "vToy6sHzLHiN"
   },
   "source": [
    "#Lets also take a quick look at the decorators"
   ]
  },
  {
   "cell_type": "markdown",
   "metadata": {
    "id": "8d_DWyq4LLcn"
   },
   "source": [
    "Decorators add extra functionality to a function, i.e., they decorate them\n",
    "\n",
    "Unlike regular fuctions that recieve numbers or strings and\n",
    "return numbers or strings, decorators take functions as input and return functions as outout"
   ]
  },
  {
   "cell_type": "code",
   "execution_count": 25,
   "metadata": {
    "colab": {
     "base_uri": "https://localhost:8080/"
    },
    "id": "0u9oeet6MHD2",
    "outputId": "15d8fa62-7d27-428a-f103-4d8c460ed320"
   },
   "outputs": [
    {
     "name": "stdout",
     "output_type": "stream",
     "text": [
      "The sum is:  7\n"
     ]
    }
   ],
   "source": [
    "def mySum(a,b):\n",
    "  print(\"The sum is: \", a+b)\n",
    "\n",
    "\n",
    "mySum(3,4)"
   ]
  },
  {
   "cell_type": "code",
   "execution_count": 27,
   "metadata": {
    "id": "DsDKDyiYA9l0"
   },
   "outputs": [],
   "source": [
    "#Now lets decorate the function\n",
    "def myDecorator(mySum):\n",
    "  def wrapper(a,b): # A decorator has a wrapper function that does the decoration\n",
    "    print(\"Your arithmetic operation has started .... \")\n",
    "    print(\"------------------------------------------\")\n",
    "    mySum(a,b)\n",
    "    print(\"------------------------------------------\")\n",
    "    print(\"Your arithmetic operation has ended .... \")\n",
    "\n",
    "  return wrapper"
   ]
  },
  {
   "cell_type": "code",
   "execution_count": 28,
   "metadata": {
    "colab": {
     "base_uri": "https://localhost:8080/"
    },
    "id": "DVnQDWEQMsq5",
    "outputId": "c6b8aec1-49b9-492d-f739-173ce793d308"
   },
   "outputs": [
    {
     "name": "stdout",
     "output_type": "stream",
     "text": [
      "Your arithmetic operation has started .... \n",
      "------------------------------------------\n",
      "The sum is:  7\n",
      "------------------------------------------\n",
      "Your arithmetic operation has ended .... \n"
     ]
    }
   ],
   "source": [
    "@myDecorator\n",
    "def mySum(a,b):\n",
    "  print(\"The sum is: \", a+b)\n",
    "mySum(3,4)"
   ]
  },
  {
   "cell_type": "code",
   "execution_count": 32,
   "metadata": {
    "colab": {
     "base_uri": "https://localhost:8080/"
    },
    "id": "OMbdB_8SM_aL",
    "outputId": "7b88031e-eca7-43fc-a41f-eadf59d24890"
   },
   "outputs": [
    {
     "name": "stdout",
     "output_type": "stream",
     "text": [
      "Your arithmetic operation has started .... \n",
      "------------------------------------------\n",
      "The diff is:  5\n",
      "------------------------------------------\n",
      "Your arithmetic operation has ended .... \n"
     ]
    }
   ],
   "source": [
    "@myDecorator\n",
    "def myDiff(a,b):\n",
    "  print(\"The diff is: \", a-b)\n",
    "myDiff(7,2)"
   ]
  },
  {
   "cell_type": "markdown",
   "metadata": {
    "id": "tnEl96b0tGTY"
   },
   "source": [
    "#Lets say we want to be able to pass more than two arguments to the functions that are being decorated"
   ]
  },
  {
   "cell_type": "code",
   "execution_count": 33,
   "metadata": {
    "id": "bdwKkWSMtF9K"
   },
   "outputs": [],
   "source": [
    "#Now lets decorate the function\n",
    "def myDecorator(myFum):\n",
    "  def wrapper(*args): # A decorator has a wrapper function that does the decoration\n",
    "    print(\"Your arithmetic operation has started .... \")\n",
    "    print(\"------------------------------------------\")\n",
    "    myFum(*args)\n",
    "    print(\"------------------------------------------\")\n",
    "    print(\"Your arithmetic operation has ended .... \")\n",
    "\n",
    "  return wrapper"
   ]
  },
  {
   "cell_type": "code",
   "execution_count": 36,
   "metadata": {
    "colab": {
     "base_uri": "https://localhost:8080/"
    },
    "id": "VQoejISutZD8",
    "outputId": "7b300481-c90e-408d-ce72-153431dc03fa"
   },
   "outputs": [
    {
     "name": "stdout",
     "output_type": "stream",
     "text": [
      "Your arithmetic operation has started .... \n",
      "------------------------------------------\n",
      "The sum is:  12\n",
      "------------------------------------------\n",
      "Your arithmetic operation has ended .... \n"
     ]
    }
   ],
   "source": [
    "@myDecorator\n",
    "def mySum(*args):\n",
    "  print(\"The sum is: \", sum(args))\n",
    "mySum(3,4,4,1)"
   ]
  },
  {
   "cell_type": "markdown",
   "metadata": {
    "id": "Y3QlXYgFQGFP"
   },
   "source": [
    "__________________\n",
    "#Homework\n",
    "__________________\n",
    "Take a look at the following Python concepts related to Python functions to understand\n",
    "Python decorators even better"
   ]
  },
  {
   "cell_type": "markdown",
   "metadata": {
    "id": "8YPSZVOgQWYe"
   },
   "source": [
    "Before diving into decorators, you should have a strong understanding of Python functions and their behavior. Here’s what you need to know:"
   ]
  },
  {
   "cell_type": "markdown",
   "metadata": {
    "id": "-oI-UUMxQfeh"
   },
   "source": [
    "- First-Class Functions (Functions as Objects)\n",
    "\n",
    "In Python, functions are objects. You can:\n",
    "\n",
    "Assign functions to variables\n",
    "Pass functions as arguments\n",
    "Return functions from other functions"
   ]
  },
  {
   "cell_type": "code",
   "execution_count": 37,
   "metadata": {
    "colab": {
     "base_uri": "https://localhost:8080/"
    },
    "id": "_HzjzVIVN6Xs",
    "outputId": "1ec00bb8-c308-43ee-f0b7-3c21043249f4"
   },
   "outputs": [
    {
     "name": "stdout",
     "output_type": "stream",
     "text": [
      "Hello!\n"
     ]
    }
   ],
   "source": [
    "def greet():\n",
    "    return \"Hello!\"\n",
    "\n",
    "say_hello = greet  #  Assign function to a variable\n",
    "print(say_hello())  # Output: Hello!"
   ]
  },
  {
   "cell_type": "markdown",
   "metadata": {
    "id": "I_Wf5OwNQyQP"
   },
   "source": [
    "- Higher-Order Functions (Passing Functions as Arguments)\n",
    "\n",
    "A function can take another function as an argument."
   ]
  },
  {
   "cell_type": "code",
   "execution_count": 40,
   "metadata": {
    "colab": {
     "base_uri": "https://localhost:8080/"
    },
    "id": "hpRFrEk8Qtzh",
    "outputId": "6c500c4e-e35c-41d6-f964-04b37f120a46"
   },
   "outputs": [
    {
     "name": "stdout",
     "output_type": "stream",
     "text": [
      "HELLO\n",
      "hello\n"
     ]
    }
   ],
   "source": [
    "def shout(text):\n",
    "    return text.upper()\n",
    "\n",
    "def whisper(text):\n",
    "    return text.lower()\n",
    "\n",
    "def apply_function(func, text):\n",
    "    return func(text)  # Calling the function argument\n",
    "\n",
    "print(apply_function(shout, \"Hello\"))   # Output: HELLO\n",
    "print(apply_function(whisper, \"Hello\")) # Output: hello\n",
    "\n",
    "\n",
    "#Why is this important?\n",
    "\n",
    "#Decorators are higher-order functions because they take a function as input and return a modified function."
   ]
  },
  {
   "cell_type": "markdown",
   "metadata": {
    "id": "RPAuP9SRRELV"
   },
   "source": [
    "- Nested Functions (Functions Inside Functions)\n",
    "\n",
    "A function can be defined inside another function."
   ]
  },
  {
   "cell_type": "code",
   "execution_count": 42,
   "metadata": {
    "colab": {
     "base_uri": "https://localhost:8080/"
    },
    "id": "DpTMkdqGQ4Bo",
    "outputId": "c02e3d64-c272-45e9-ce4e-0486f1104252"
   },
   "outputs": [
    {
     "name": "stdout",
     "output_type": "stream",
     "text": [
      "I'm the inner function!\n"
     ]
    }
   ],
   "source": [
    "def outer():\n",
    "    def inner():\n",
    "        return \"I'm the inner function!\"\n",
    "    return inner  # ✅ Returning a function\n",
    "\n",
    "func = outer()\n",
    "print(func())  # Output: I'm the inner function!\n",
    "\n",
    "\n",
    "#Why is this important?\n",
    "\n",
    "#Decorators use nested functions to wrap another function.\n"
   ]
  },
  {
   "cell_type": "markdown",
   "metadata": {
    "id": "HA_4X_7eRR-O"
   },
   "source": [
    "- Closures (Inner Functions Remembering Outer Variables)\n",
    "\n",
    "A closure is a function that remembers variables from its enclosing scope.\n",
    "\n"
   ]
  },
  {
   "cell_type": "code",
   "execution_count": 44,
   "metadata": {
    "colab": {
     "base_uri": "https://localhost:8080/"
    },
    "id": "jrmZo7PxRCli",
    "outputId": "44f0998d-0a3c-422c-ca81-5f0dc251ea02"
   },
   "outputs": [
    {
     "name": "stdout",
     "output_type": "stream",
     "text": [
      "Message: Hello\n"
     ]
    }
   ],
   "source": [
    "def outer_function(msg):\n",
    "    def inner_function():\n",
    "        print(f\"Message: {msg}\")  # Remembers `msg` even after `outer_function` ends\n",
    "    return inner_function\n",
    "\n",
    "func = outer_function(\"Hello\")\n",
    "func()  # Output: Message: Hello\n",
    "\n",
    "\n",
    "#Why is this important?\n",
    "\n",
    "#Decorators rely on closures to modify behavior while keeping access to the original function.\n"
   ]
  },
  {
   "cell_type": "code",
   "execution_count": null,
   "metadata": {
    "id": "kKtSR9dKRgQD"
   },
   "outputs": [],
   "source": []
  }
 ],
 "metadata": {
  "colab": {
   "provenance": []
  },
  "kernelspec": {
   "display_name": "Python 3 (ipykernel)",
   "language": "python",
   "name": "python3"
  },
  "language_info": {
   "codemirror_mode": {
    "name": "ipython",
    "version": 3
   },
   "file_extension": ".py",
   "mimetype": "text/x-python",
   "name": "python",
   "nbconvert_exporter": "python",
   "pygments_lexer": "ipython3",
   "version": "3.9.7"
  }
 },
 "nbformat": 4,
 "nbformat_minor": 1
}
