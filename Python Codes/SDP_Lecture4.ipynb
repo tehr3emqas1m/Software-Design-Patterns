{
 "cells": [
  {
   "cell_type": "markdown",
   "metadata": {
    "id": "VINrF1NR073W"
   },
   "source": [
    "#Diamond problem"
   ]
  },
  {
   "cell_type": "markdown",
   "metadata": {
    "id": "2JTy-Zvc06Tt"
   },
   "source": [
    "      A\n",
    "     / \\\n",
    "    B   C\n",
    "     \\ /\n",
    "      D\n"
   ]
  },
  {
   "cell_type": "markdown",
   "metadata": {
    "id": "UmkRHBYY1ExC"
   },
   "source": [
    "The Diamond Problem occurs in languages that support multiple inheritance, where a subclass inherits from two or more parent classes that both inherit from the same base class."
   ]
  },
  {
   "cell_type": "markdown",
   "metadata": {
    "id": "bHT7H2IS1i5c"
   },
   "source": [
    " If class D calls a method that exists in both B and C, which one should be executed????\n",
    "This is ambiguity, and in some languages like C++, it causes compilation errors if not explicitly resolved."
   ]
  },
  {
   "cell_type": "markdown",
   "metadata": {
    "id": "1JfNlFew1t3H"
   },
   "source": [
    "Python automatically resolves the Diamond Problem using the MRO (Method Resolution Order), which follows the C3 Linearization algorithm."
   ]
  },
  {
   "cell_type": "code",
   "execution_count": 3,
   "metadata": {
    "colab": {
     "base_uri": "https://localhost:8080/"
    },
    "id": "OwL31wgZ03IO",
    "outputId": "f123f786-d833-4842-c072-7a772780c851"
   },
   "outputs": [
    {
     "name": "stdout",
     "output_type": "stream",
     "text": [
      "C\n"
     ]
    }
   ],
   "source": [
    "class A:\n",
    "    def show(self):\n",
    "        print(\"A\")\n",
    "\n",
    "class B(A):\n",
    "    def show(self):\n",
    "        print(\"B\")\n",
    "\n",
    "class C(A):\n",
    "    def show(self):\n",
    "        print(\"C\")\n",
    "\n",
    "class D(C, B):  # Multiple inheritance\n",
    "    pass\n",
    "\n",
    "d = D()\n",
    "d.show()\n"
   ]
  },
  {
   "cell_type": "markdown",
   "metadata": {
    "id": "Jsen-wI5pcwB"
   },
   "source": [
    "#Encapsulation in Python"
   ]
  },
  {
   "cell_type": "markdown",
   "metadata": {
    "id": "StneYmMPwe4n"
   },
   "source": [
    "- Private Variables in Python"
   ]
  },
  {
   "cell_type": "code",
   "execution_count": 4,
   "metadata": {
    "colab": {
     "base_uri": "https://localhost:8080/"
    },
    "id": "CE5rApc-Pszq",
    "outputId": "54268947-e7e2-448c-d59c-c0f8f7172af9"
   },
   "outputs": [
    {
     "name": "stdout",
     "output_type": "stream",
     "text": [
      "The value is :  1000\n"
     ]
    }
   ],
   "source": [
    "class MyClass:\n",
    "  def __init__(self):\n",
    "    self.__myPrivateVariable = 1000\n",
    "\n",
    "  def setValue(self,x):\n",
    "    self.__myPrivateVariable = x\n",
    "\n",
    "  def printValue(self):\n",
    "    print(\"The value is : \", self.__myPrivateVariable)\n",
    "obj1 = MyClass()\n",
    "obj1.printValue()\n"
   ]
  },
  {
   "cell_type": "code",
   "execution_count": 5,
   "metadata": {
    "colab": {
     "base_uri": "https://localhost:8080/"
    },
    "id": "m9HItJsae7wx",
    "outputId": "b487439e-fe34-4694-b42e-6cc96270e726"
   },
   "outputs": [
    {
     "name": "stdout",
     "output_type": "stream",
     "text": [
      "The value is :  2000\n"
     ]
    }
   ],
   "source": [
    "#Lets change the value\n",
    "obj1.setValue(2000)\n",
    "obj1.printValue()"
   ]
  },
  {
   "cell_type": "code",
   "execution_count": 6,
   "metadata": {
    "colab": {
     "base_uri": "https://localhost:8080/",
     "height": 146
    },
    "id": "i357orMvfRSd",
    "outputId": "50a7c6d7-fbe1-417b-b684-7553afc03bba"
   },
   "outputs": [
    {
     "ename": "AttributeError",
     "evalue": "'MyClass' object has no attribute '__myPrivateVariable'",
     "output_type": "error",
     "traceback": [
      "\u001b[0;31m---------------------------------------------------------------------------\u001b[0m",
      "\u001b[0;31mAttributeError\u001b[0m                            Traceback (most recent call last)",
      "\u001b[0;32m<ipython-input-6-9ac9d4db290d>\u001b[0m in \u001b[0;36m<cell line: 0>\u001b[0;34m()\u001b[0m\n\u001b[0;32m----> 1\u001b[0;31m \u001b[0mobj1\u001b[0m\u001b[0;34m.\u001b[0m\u001b[0m__myPrivateVariable\u001b[0m\u001b[0;34m\u001b[0m\u001b[0;34m\u001b[0m\u001b[0m\n\u001b[0m",
      "\u001b[0;31mAttributeError\u001b[0m: 'MyClass' object has no attribute '__myPrivateVariable'"
     ]
    }
   ],
   "source": [
    "obj1.__myPrivateVariable"
   ]
  },
  {
   "cell_type": "code",
   "execution_count": 9,
   "metadata": {
    "colab": {
     "base_uri": "https://localhost:8080/"
    },
    "id": "okKfNFUUe1ha",
    "outputId": "1d7c9e3d-c7b6-4e29-fc2c-d9ea8801b010"
   },
   "outputs": [
    {
     "name": "stdout",
     "output_type": "stream",
     "text": [
      "The value is :  2000\n"
     ]
    }
   ],
   "source": [
    "\n",
    "\n",
    "obj1.__myPrivateVariable = 5000 # This does not work\n",
    "obj1.printValue()\n"
   ]
  },
  {
   "cell_type": "code",
   "execution_count": 10,
   "metadata": {
    "colab": {
     "base_uri": "https://localhost:8080/"
    },
    "id": "Q_qmO0QCfemz",
    "outputId": "78f11d21-697d-4436-bb48-0761b6cd690a"
   },
   "outputs": [
    {
     "name": "stdout",
     "output_type": "stream",
     "text": [
      "5000\n"
     ]
    }
   ],
   "source": [
    "print(obj1.__myPrivateVariable)"
   ]
  },
  {
   "cell_type": "code",
   "execution_count": 16,
   "metadata": {
    "colab": {
     "base_uri": "https://localhost:8080/"
    },
    "id": "Tmou64PIqO3F",
    "outputId": "9a10d724-9547-489b-9723-066b66cde627"
   },
   "outputs": [
    {
     "data": {
      "text/plain": [
       "5000"
      ]
     },
     "execution_count": 16,
     "metadata": {},
     "output_type": "execute_result"
    }
   ],
   "source": [
    "#Now lets print obj1.__myPrivateVariable\n",
    "obj1.__myPrivateVariable"
   ]
  },
  {
   "cell_type": "markdown",
   "metadata": {
    "id": "VsfZ_QKEv8G-"
   },
   "source": [
    "Whats going on here?????????"
   ]
  },
  {
   "cell_type": "code",
   "execution_count": 11,
   "metadata": {
    "colab": {
     "base_uri": "https://localhost:8080/"
    },
    "id": "AuLJ19VLraKP",
    "outputId": "3d5d0dc9-7b84-4f42-85b4-a0956440d6fa"
   },
   "outputs": [
    {
     "data": {
      "text/plain": [
       "2000"
      ]
     },
     "execution_count": 11,
     "metadata": {},
     "output_type": "execute_result"
    }
   ],
   "source": [
    "obj1._MyClass__myPrivateVariable"
   ]
  },
  {
   "cell_type": "code",
   "execution_count": 12,
   "metadata": {
    "colab": {
     "base_uri": "https://localhost:8080/"
    },
    "id": "ZWEpMVQjsMXq",
    "outputId": "1b88f304-ae6e-4297-8f2a-27a04a5aefaf"
   },
   "outputs": [
    {
     "data": {
      "text/plain": [
       "4000"
      ]
     },
     "execution_count": 12,
     "metadata": {},
     "output_type": "execute_result"
    }
   ],
   "source": [
    "obj1._MyClass__myPrivateVariable = 4000\n",
    "obj1._MyClass__myPrivateVariable"
   ]
  },
  {
   "cell_type": "code",
   "execution_count": 13,
   "metadata": {
    "colab": {
     "base_uri": "https://localhost:8080/"
    },
    "id": "L7kFYtXQsRyD",
    "outputId": "dfdf1c18-e151-4f97-e62c-075729c02da3"
   },
   "outputs": [
    {
     "name": "stdout",
     "output_type": "stream",
     "text": [
      "The value is :  4000\n"
     ]
    }
   ],
   "source": [
    "obj1.printValue()"
   ]
  },
  {
   "cell_type": "markdown",
   "metadata": {
    "id": "IXsAv7CxwjPz"
   },
   "source": [
    "- Protected variables in Python"
   ]
  },
  {
   "cell_type": "code",
   "execution_count": 17,
   "metadata": {
    "colab": {
     "base_uri": "https://localhost:8080/"
    },
    "id": "EAiFDKl4wZ9m",
    "outputId": "b396c65e-c69b-4cb4-be1d-d926ac21b060"
   },
   "outputs": [
    {
     "name": "stdout",
     "output_type": "stream",
     "text": [
      "Deposited 500. New balance: 1500\n",
      "Balance: 1500\n"
     ]
    }
   ],
   "source": [
    "class BankAccount:\n",
    "    def __init__(self, initial_balance):\n",
    "        self._balance = initial_balance  # Protected variable\n",
    "\n",
    "    def deposit(self, amount):\n",
    "        self._balance += amount\n",
    "        print(f\"Deposited {amount}. New balance: {self._balance}\")\n",
    "\n",
    "    def show_balance(self):\n",
    "        print(f\"Balance: {self._balance}\")\n",
    "\n",
    "class SavingsAccount(BankAccount):\n",
    "    def withdraw(self, amount):\n",
    "        if amount <= self._balance:\n",
    "            self._balance -= amount  # Accessing protected variable\n",
    "            print(f\"Withdrew {amount}. New balance: {self._balance}\")\n",
    "        else:\n",
    "            print(\"Insufficient funds!\")\n",
    "\n",
    "# Create an object of the child class\n",
    "zohaib_account = SavingsAccount(1000)\n",
    "\n",
    "# Accessing protected variable through methods\n",
    "zohaib_account.deposit(500)\n"
   ]
  },
  {
   "cell_type": "code",
   "execution_count": 18,
   "metadata": {
    "colab": {
     "base_uri": "https://localhost:8080/"
    },
    "id": "rspSIz9PhU8u",
    "outputId": "27217867-cbaf-4097-c877-0c0d890ff7d7"
   },
   "outputs": [
    {
     "name": "stdout",
     "output_type": "stream",
     "text": [
      "Withdrew 300. New balance: 1200\n",
      "Balance: 1200\n"
     ]
    }
   ],
   "source": [
    "zohaib_account.withdraw(300)\n",
    "zohaib_account.show_balance()\n",
    "\n"
   ]
  },
  {
   "cell_type": "code",
   "execution_count": 19,
   "metadata": {
    "id": "oyV_vqGzhkaG"
   },
   "outputs": [],
   "source": [
    "# ⚠️ Directly accessing _balance (not recommended, but works)\n",
    "zohaib_account._balance = 100"
   ]
  },
  {
   "cell_type": "code",
   "execution_count": 20,
   "metadata": {
    "colab": {
     "base_uri": "https://localhost:8080/"
    },
    "id": "Ru1CntdBhnP-",
    "outputId": "bb9d84b6-b504-460f-ddf8-acde50f853fe"
   },
   "outputs": [
    {
     "name": "stdout",
     "output_type": "stream",
     "text": [
      "Balance: 100\n"
     ]
    }
   ],
   "source": [
    "zohaib_account.show_balance()\n"
   ]
  },
  {
   "cell_type": "code",
   "execution_count": null,
   "metadata": {
    "id": "NN7ATCDshX98"
   },
   "outputs": [],
   "source": [
    "\n",
    "print(\"Accessing _balance directly:\", zohaib_account._balance)\n"
   ]
  },
  {
   "cell_type": "code",
   "execution_count": null,
   "metadata": {
    "id": "iguAWJ0Ixxn-"
   },
   "outputs": [],
   "source": []
  }
 ],
 "metadata": {
  "colab": {
   "provenance": []
  },
  "kernelspec": {
   "display_name": "Python 3 (ipykernel)",
   "language": "python",
   "name": "python3"
  },
  "language_info": {
   "codemirror_mode": {
    "name": "ipython",
    "version": 3
   },
   "file_extension": ".py",
   "mimetype": "text/x-python",
   "name": "python",
   "nbconvert_exporter": "python",
   "pygments_lexer": "ipython3",
   "version": "3.9.7"
  }
 },
 "nbformat": 4,
 "nbformat_minor": 1
}
