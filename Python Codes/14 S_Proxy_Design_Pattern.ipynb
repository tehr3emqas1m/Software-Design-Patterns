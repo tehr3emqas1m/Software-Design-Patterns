{
  "nbformat": 4,
  "nbformat_minor": 0,
  "metadata": {
    "colab": {
      "provenance": []
    },
    "kernelspec": {
      "name": "python3",
      "display_name": "Python 3"
    },
    "language_info": {
      "name": "python"
    }
  },
  "cells": [
    {
      "cell_type": "markdown",
      "source": [
        "#Proxy Design Pattern"
      ],
      "metadata": {
        "id": "1vWW9rJy1JUD"
      }
    },
    {
      "cell_type": "markdown",
      "source": [
        "Proxy Pattern provides a placeholder or surrogate for another object to control access to it."
      ],
      "metadata": {
        "id": "gCzl_nNa3Vo0"
      }
    },
    {
      "cell_type": "markdown",
      "source": [
        "#Example 1"
      ],
      "metadata": {
        "id": "r8bX6Y9x3rB2"
      }
    },
    {
      "cell_type": "markdown",
      "source": [
        "- BankAccount handles the real logic (withdraw, balance)\n",
        "\n",
        "- BankProxy adds a PIN check before allowing access"
      ],
      "metadata": {
        "id": "2szecIp_3snX"
      }
    },
    {
      "cell_type": "code",
      "execution_count": null,
      "metadata": {
        "id": "oAh3KhQL7fO8"
      },
      "outputs": [],
      "source": [
        "#The Bank Account\n",
        "\n",
        "class BankAccount:\n",
        "    def __init__(self, balance):\n",
        "        self.balance = balance    #100\n",
        "\n",
        "    def withdraw(self, amount):  #1500 ---->  X\n",
        "        if amount <= self.balance:\n",
        "            self.balance -= amount\n",
        "            print(f\"Withdrawn ${amount}. Remaining balance: ${self.balance}\")\n",
        "        else:\n",
        "            print(\"Insufficient funds.\")"
      ]
    },
    {
      "cell_type": "code",
      "source": [
        "#obj1 = BankAccount(100)\n",
        "#obj1.withdraw(250)"
      ],
      "metadata": {
        "id": "0EM6Mt-tH_d9"
      },
      "execution_count": null,
      "outputs": []
    },
    {
      "cell_type": "code",
      "source": [
        "#obj1.withdraw(30)"
      ],
      "metadata": {
        "id": "_W6z5AWdIJCU"
      },
      "execution_count": null,
      "outputs": []
    },
    {
      "cell_type": "code",
      "source": [
        "#Proxy with pin check\n",
        "#Lets incorporate a pin check mechanism into the original class\n",
        "#using the following proxy\n",
        "class BankProxy:\n",
        "    def __init__(self, pin, initial_balance):\n",
        "        self._real_account = BankAccount(initial_balance)\n",
        "        self._correct_pin = pin\n",
        "\n",
        "    def withdraw(self, pin_entered, amount):\n",
        "        if pin_entered != self._correct_pin:\n",
        "            print(\"Access denied: Invalid PIN\")\n",
        "            return\n",
        "        self._real_account.withdraw(amount)\n"
      ],
      "metadata": {
        "id": "XixWEEyi5RfN"
      },
      "execution_count": null,
      "outputs": []
    },
    {
      "cell_type": "code",
      "source": [
        "account = BankProxy(pin=\"4321\", initial_balance=500)\n",
        "\n",
        "account.withdraw(\"1111\", 100)  # Wrong PIN\n",
        "account.withdraw(\"4321\", 100)  # Correct PIN\n",
        "account.withdraw(\"4321\", 600)  # Too much\n"
      ],
      "metadata": {
        "colab": {
          "base_uri": "https://localhost:8080/"
        },
        "id": "kcpro12Y5X59",
        "outputId": "51cee40a-625b-4f85-9e64-be13363640fa"
      },
      "execution_count": null,
      "outputs": [
        {
          "output_type": "stream",
          "name": "stdout",
          "text": [
            "Access denied: Invalid PIN\n",
            "Withdrawn $100. Remaining balance: $400\n",
            "Insufficient funds.\n"
          ]
        }
      ]
    },
    {
      "cell_type": "code",
      "source": [],
      "metadata": {
        "id": "0-GqV9gS5YHO"
      },
      "execution_count": null,
      "outputs": []
    }
  ]
}