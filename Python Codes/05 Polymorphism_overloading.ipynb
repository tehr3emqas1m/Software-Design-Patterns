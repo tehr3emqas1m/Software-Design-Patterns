{
 "cells": [
  {
   "cell_type": "markdown",
   "metadata": {
    "id": "MOh0K-HBzF0r"
   },
   "source": [
    "#Polymorphism in Python"
   ]
  },
  {
   "cell_type": "code",
   "execution_count": 1,
   "metadata": {
    "colab": {
     "base_uri": "https://localhost:8080/"
    },
    "id": "iRqT7sOjzFV3",
    "outputId": "1038f242-862d-451d-e383-01e00622d5cd"
   },
   "outputs": [
    {
     "data": {
      "text/plain": [
       "['Some generic sound', 'Woof!', 'Meow!']"
      ]
     },
     "execution_count": 1,
     "metadata": {},
     "output_type": "execute_result"
    }
   ],
   "source": [
    "class Animal:\n",
    "    def speak(self):\n",
    "        return \"Some generic sound\"\n",
    "\n",
    "class Dog(Animal):\n",
    "    def speak(self):\n",
    "        return \"Woof!\"\n",
    "\n",
    "class Cat(Animal):\n",
    "    def speak(self):\n",
    "        return \"Meow!\"\n",
    "obj1 = Animal()\n",
    "obj2 = Dog()\n",
    "obj3 = Cat()\n",
    "\n",
    "[i for i in [obj1.speak(), obj2.speak(), obj3.speak()]]"
   ]
  },
  {
   "cell_type": "markdown",
   "metadata": {
    "id": "aSYAReYl7Xu0"
   },
   "source": [
    "4. Method Overloading in Python (Not Built-in)\n",
    "Python does not support traditional method overloading\n",
    "Achieving method overloading using default arguments\n",
    "Using *args and **kwargs for flexible method signatures\n",
    "5. Operator Overloading (Magic Methods/Dunder Methods)\n",
    "What is operator overloading?\n",
    "Overriding __add__, __sub__, __mul__, etc.\n",
    "Customizing object behavior with dunder methods"
   ]
  },
  {
   "cell_type": "markdown",
   "metadata": {
    "id": "5ZCfw7931ggC"
   },
   "source": [
    "#Operator Overloading"
   ]
  },
  {
   "cell_type": "markdown",
   "metadata": {
    "id": "46twWBCn1jUk"
   },
   "source": [
    "Python by default implements operator over loading for the + operator. It works differenty for lists, strings and numbers"
   ]
  },
  {
   "cell_type": "code",
   "execution_count": 2,
   "metadata": {
    "colab": {
     "base_uri": "https://localhost:8080/"
    },
    "id": "Uuk12CeAuJ5l",
    "outputId": "c677a78d-5a56-45bf-ef0e-679be4a642e4"
   },
   "outputs": [
    {
     "name": "stdout",
     "output_type": "stream",
     "text": [
      "Hello World\n",
      "[1, 2, 3, 7, 8, 9]\n",
      "9\n"
     ]
    }
   ],
   "source": [
    "print(\"Hello\" + \" \"+  \"World\")\n",
    "print([1,2,3]+[7,8,9])\n",
    "print(4+5)"
   ]
  },
  {
   "cell_type": "markdown",
   "metadata": {
    "id": "kLdKqBnz1533"
   },
   "source": [
    "# `__add__()` magic function"
   ]
  },
  {
   "cell_type": "markdown",
   "metadata": {
    "id": "H-hmzr801-ra"
   },
   "source": [
    "Python can not add class objects with + operator. We need to define this behavior ourselves with the __add__ magic function by overloading the + operator for object addition"
   ]
  },
  {
   "cell_type": "markdown",
   "metadata": {
    "id": "CJVhlN-b8CVG"
   },
   "source": [
    "Lets try to understand this with the help of an example"
   ]
  },
  {
   "cell_type": "code",
   "execution_count": 3,
   "metadata": {
    "colab": {
     "base_uri": "https://localhost:8080/",
     "height": 183
    },
    "id": "Vc2HPZAj8F3e",
    "outputId": "746b5876-1a8b-4420-da89-280200e47bd8"
   },
   "outputs": [
    {
     "ename": "TypeError",
     "evalue": "unsupported operand type(s) for +: 'Number' and 'Number'",
     "output_type": "error",
     "traceback": [
      "\u001b[0;31m---------------------------------------------------------------------------\u001b[0m",
      "\u001b[0;31mTypeError\u001b[0m                                 Traceback (most recent call last)",
      "\u001b[0;32m<ipython-input-3-2f29696d828c>\u001b[0m in \u001b[0;36m<cell line: 0>\u001b[0;34m()\u001b[0m\n\u001b[1;32m      5\u001b[0m \u001b[0mn1\u001b[0m \u001b[0;34m=\u001b[0m \u001b[0mNumber\u001b[0m\u001b[0;34m(\u001b[0m\u001b[0;36m5\u001b[0m\u001b[0;34m)\u001b[0m\u001b[0;34m\u001b[0m\u001b[0;34m\u001b[0m\u001b[0m\n\u001b[1;32m      6\u001b[0m \u001b[0mn2\u001b[0m \u001b[0;34m=\u001b[0m \u001b[0mNumber\u001b[0m\u001b[0;34m(\u001b[0m\u001b[0;36m10\u001b[0m\u001b[0;34m)\u001b[0m\u001b[0;34m\u001b[0m\u001b[0;34m\u001b[0m\u001b[0m\n\u001b[0;32m----> 7\u001b[0;31m \u001b[0mn3\u001b[0m \u001b[0;34m=\u001b[0m \u001b[0mn1\u001b[0m \u001b[0;34m+\u001b[0m \u001b[0mn2\u001b[0m  \u001b[0;31m# ERROR! n1 and n2 are objects containing a single value and they cant be added\u001b[0m\u001b[0;34m\u001b[0m\u001b[0;34m\u001b[0m\u001b[0m\n\u001b[0m",
      "\u001b[0;31mTypeError\u001b[0m: unsupported operand type(s) for +: 'Number' and 'Number'"
     ]
    }
   ],
   "source": [
    "class Number:\n",
    "    def __init__(self, value):\n",
    "        self.value = value\n",
    "\n",
    "n1 = Number(5)\n",
    "n2 = Number(10)\n",
    "n3 = n1 + n2  # ERROR! n1 and n2 are objects containing a single value and they cant be added\n"
   ]
  },
  {
   "cell_type": "code",
   "execution_count": 6,
   "metadata": {
    "colab": {
     "base_uri": "https://localhost:8080/"
    },
    "id": "PJg632tF1-FA",
    "outputId": "ab4f1a10-33ce-458e-d703-35af9f3e78f8"
   },
   "outputs": [
    {
     "name": "stdout",
     "output_type": "stream",
     "text": [
      "15\n"
     ]
    }
   ],
   "source": [
    "#But we can add two objects by using the __add__() dunder\n",
    "class Number:\n",
    "    def __init__(self, value):\n",
    "        self.value = value\n",
    "\n",
    "    def __add__(self, other): #here other refers to the second object to be added\n",
    "        return Number(self.value + other.value)\n",
    "    #__str__() dunder helps print Python objects in human readable form\n",
    "    # with out using this dunder, we can add obj1 and obj2 with the __add__() dunder\n",
    "    #But the result will look something like <__main__.Number object at 0x7bf36f28b410>\n",
    "    #Because this is how Python shows object values\n",
    "    #But with __str__ we can print the numerical sum of obj1 and obj2\n",
    "\n",
    "    def __str__(self):\n",
    "        return str(self.value)\n",
    "\n",
    "n1 = Number(5)\n",
    "n2 = Number(10)\n",
    "n3 = n1 + n2  # Calls n1.__add__(n2)\n",
    "\n",
    "print(n3)  # Calls n3.__str__()\n"
   ]
  },
  {
   "cell_type": "markdown",
   "metadata": {
    "id": "i4G-7udx_1UB"
   },
   "source": [
    "# What If We Add an Object and an Integer?\n",
    "If __add__ is defined to handle only objects of the same class, adding a number directly will cause an error:"
   ]
  },
  {
   "cell_type": "code",
   "execution_count": 7,
   "metadata": {
    "colab": {
     "base_uri": "https://localhost:8080/",
     "height": 292
    },
    "id": "rxBUHTvu1vuI",
    "outputId": "47cdc644-f77f-4ed8-bf10-42c66c882bc9"
   },
   "outputs": [
    {
     "ename": "AttributeError",
     "evalue": "'int' object has no attribute 'value'",
     "output_type": "error",
     "traceback": [
      "\u001b[0;31m---------------------------------------------------------------------------\u001b[0m",
      "\u001b[0;31mAttributeError\u001b[0m                            Traceback (most recent call last)",
      "\u001b[0;32m<ipython-input-7-79a0492508b8>\u001b[0m in \u001b[0;36m<cell line: 0>\u001b[0;34m()\u001b[0m\n\u001b[1;32m      1\u001b[0m \u001b[0mn1\u001b[0m \u001b[0;34m=\u001b[0m \u001b[0mNumber\u001b[0m\u001b[0;34m(\u001b[0m\u001b[0;36m5\u001b[0m\u001b[0;34m)\u001b[0m\u001b[0;34m\u001b[0m\u001b[0;34m\u001b[0m\u001b[0m\n\u001b[0;32m----> 2\u001b[0;31m \u001b[0mn3\u001b[0m \u001b[0;34m=\u001b[0m \u001b[0mn1\u001b[0m \u001b[0;34m+\u001b[0m \u001b[0;36m10\u001b[0m  \u001b[0;31m# ERROR!\u001b[0m\u001b[0;34m\u001b[0m\u001b[0;34m\u001b[0m\u001b[0m\n\u001b[0m",
      "\u001b[0;32m<ipython-input-6-c5f8b65d2eeb>\u001b[0m in \u001b[0;36m__add__\u001b[0;34m(self, other)\u001b[0m\n\u001b[1;32m      5\u001b[0m \u001b[0;34m\u001b[0m\u001b[0m\n\u001b[1;32m      6\u001b[0m     \u001b[0;32mdef\u001b[0m \u001b[0m__add__\u001b[0m\u001b[0;34m(\u001b[0m\u001b[0mself\u001b[0m\u001b[0;34m,\u001b[0m \u001b[0mother\u001b[0m\u001b[0;34m)\u001b[0m\u001b[0;34m:\u001b[0m \u001b[0;31m#here other refers to the second object to be added\u001b[0m\u001b[0;34m\u001b[0m\u001b[0;34m\u001b[0m\u001b[0m\n\u001b[0;32m----> 7\u001b[0;31m         \u001b[0;32mreturn\u001b[0m \u001b[0mNumber\u001b[0m\u001b[0;34m(\u001b[0m\u001b[0mself\u001b[0m\u001b[0;34m.\u001b[0m\u001b[0mvalue\u001b[0m \u001b[0;34m+\u001b[0m \u001b[0mother\u001b[0m\u001b[0;34m.\u001b[0m\u001b[0mvalue\u001b[0m\u001b[0;34m)\u001b[0m\u001b[0;34m\u001b[0m\u001b[0;34m\u001b[0m\u001b[0m\n\u001b[0m\u001b[1;32m      8\u001b[0m     \u001b[0;31m#__str__() dunder helps print Python objects in human readable form\u001b[0m\u001b[0;34m\u001b[0m\u001b[0;34m\u001b[0m\u001b[0m\n\u001b[1;32m      9\u001b[0m     \u001b[0;31m# with out using this dunder, we can add obj1 and obj2 with the __add__() dunder\u001b[0m\u001b[0;34m\u001b[0m\u001b[0;34m\u001b[0m\u001b[0m\n",
      "\u001b[0;31mAttributeError\u001b[0m: 'int' object has no attribute 'value'"
     ]
    }
   ],
   "source": [
    "n1 = Number(5)\n",
    "n3 = n1 + 10  # ERROR!"
   ]
  },
  {
   "cell_type": "markdown",
   "metadata": {
    "id": "y4C5jmLvANBt"
   },
   "source": [
    "To fix this, we modify __add__ to handle both objects and integers:\n"
   ]
  },
  {
   "cell_type": "code",
   "execution_count": 21,
   "metadata": {
    "id": "dHhsLVLi-T5F"
   },
   "outputs": [],
   "source": []
  },
  {
   "cell_type": "code",
   "execution_count": 8,
   "metadata": {
    "id": "IWIrwUmFAa2S"
   },
   "outputs": [],
   "source": [
    "class Number:\n",
    "    def __init__(self, value):\n",
    "        self.value = value\n",
    "\n",
    "    def __add__(self, other):\n",
    "      if isinstance(other, Number):\n",
    "          return Number(self.value + other.value)\n",
    "      elif isinstance(other, int):\n",
    "          return Number(self.value + other)\n",
    "      else:\n",
    "          return NotImplemented\n",
    "\n",
    "\n",
    "    def __str__(self):\n",
    "        return str(self.value)"
   ]
  },
  {
   "cell_type": "code",
   "execution_count": 9,
   "metadata": {
    "colab": {
     "base_uri": "https://localhost:8080/"
    },
    "id": "PMbUehwSAvLI",
    "outputId": "05be7f04-18ef-4bab-81c1-065ca7ba1688"
   },
   "outputs": [
    {
     "name": "stdout",
     "output_type": "stream",
     "text": [
      "10\n"
     ]
    }
   ],
   "source": [
    "n1 = Number(5)\n",
    "n3 = n1 + 5\n",
    "print(n3) #it works now"
   ]
  },
  {
   "cell_type": "markdown",
   "metadata": {
    "id": "8GYBgG3wClLl"
   },
   "source": [
    "#Method overloading"
   ]
  },
  {
   "cell_type": "markdown",
   "metadata": {
    "id": "TsptqrG9CwHK"
   },
   "source": [
    "Python does not support traditional method overloading.\n",
    "However, method overloading can be achieved using default arguments `*args` and `**kwargs` for flexible method signatures"
   ]
  },
  {
   "cell_type": "code",
   "execution_count": 10,
   "metadata": {
    "colab": {
     "base_uri": "https://localhost:8080/"
    },
    "id": "pDnmsHqdCnFh",
    "outputId": "2d382653-933a-4b13-a470-4b8f70bd9a2c"
   },
   "outputs": [
    {
     "name": "stdout",
     "output_type": "stream",
     "text": [
      "6\n",
      "50\n"
     ]
    }
   ],
   "source": [
    "def add_numbers(*args):\n",
    "    return sum(args)\n",
    "\n",
    "print(add_numbers(1, 2, 3))\n",
    "print(add_numbers(5, 10, 15, 20))\n"
   ]
  },
  {
   "cell_type": "code",
   "execution_count": 12,
   "metadata": {
    "colab": {
     "base_uri": "https://localhost:8080/"
    },
    "id": "DUpwRifyF0aa",
    "outputId": "0a8db1b8-be33-4fd2-c4d7-6311e9840a2c"
   },
   "outputs": [
    {
     "name": "stdout",
     "output_type": "stream",
     "text": [
      "The type of args is <class 'tuple'>\n",
      "The numbers passed to this function are: \n",
      "1\n",
      "2\n",
      "3\n",
      "The type of args is <class 'tuple'>\n",
      "The numbers passed to this function are: \n",
      "5\n",
      "10\n",
      "15\n",
      "20\n"
     ]
    }
   ],
   "source": [
    "#Basically *args converts whatever is passed to the function into a tuple\n",
    "def show(*args):\n",
    "    print(f\"The type of args is {type(args)}\")\n",
    "    print(\"The numbers passed to this function are: \")\n",
    "    for i in args:\n",
    "      print(i)\n",
    "\n",
    "show(1, 2, 3)\n",
    "show(5, 10, 15, 20)"
   ]
  },
  {
   "cell_type": "code",
   "execution_count": 16,
   "metadata": {
    "colab": {
     "base_uri": "https://localhost:8080/"
    },
    "id": "BtxyrsMlsWk9",
    "outputId": "8b8c70f4-946c-49c9-c26a-88bae1807280"
   },
   "outputs": [
    {
     "name": "stdout",
     "output_type": "stream",
     "text": [
      "1\n",
      "2\n",
      "3\n"
     ]
    }
   ],
   "source": [
    "#At the back end Python is doing this\n",
    "t1 = (1,2,3)\n",
    "for i in t1:\n",
    "  print(i)"
   ]
  },
  {
   "cell_type": "markdown",
   "metadata": {
    "id": "zGTBt-sQsv2f"
   },
   "source": [
    "`Excersise for practice:` We do not want to use the function sum() like we did above, intead we would like to do this sum using a for loop"
   ]
  },
  {
   "cell_type": "code",
   "execution_count": 17,
   "metadata": {
    "colab": {
     "base_uri": "https://localhost:8080/"
    },
    "id": "_JLv9O5Hs5b5",
    "outputId": "464c854e-0feb-4ae1-a4b4-7b1965bb0088"
   },
   "outputs": [
    {
     "name": "stdout",
     "output_type": "stream",
     "text": [
      "10\n",
      "18\n"
     ]
    }
   ],
   "source": [
    "def mySum(*args):\n",
    "  Sum = 0\n",
    "  for i in args:\n",
    "    Sum = Sum+i\n",
    "  return Sum\n",
    "\n",
    "print(mySum(1,4,5))\n",
    "print(mySum(2,2,2,3,3,3,3))"
   ]
  },
  {
   "cell_type": "markdown",
   "metadata": {
    "id": "GwdSgJRHH7hI"
   },
   "source": [
    "`**kwargs` converts whatever is passed\n",
    "\n",
    "---\n",
    "\n",
    "as arguments into a dictionary (key value pairs)."
   ]
  },
  {
   "cell_type": "code",
   "execution_count": 18,
   "metadata": {
    "colab": {
     "base_uri": "https://localhost:8080/"
    },
    "id": "ORpnQIUQGVkK",
    "outputId": "d2827243-858c-46d8-f8d3-8a0aaefd843a"
   },
   "outputs": [
    {
     "name": "stdout",
     "output_type": "stream",
     "text": [
      "{'name': 'Alice', 'age': 25, 'city': 'New York'}\n",
      "<class 'dict'>\n"
     ]
    }
   ],
   "source": [
    "def example_function(**kwargs):\n",
    "    print(kwargs)\n",
    "    print(type(kwargs))\n",
    "example_function(name=\"Alice\", age=25, city=\"New York\")\n"
   ]
  },
  {
   "cell_type": "markdown",
   "metadata": {
    "id": "JfEAoW5vKuSh"
   },
   "source": [
    "#Example: implementing both `*args` and `**kwargs` for sum"
   ]
  },
  {
   "cell_type": "code",
   "execution_count": 21,
   "metadata": {
    "colab": {
     "base_uri": "https://localhost:8080/",
     "height": 36
    },
    "id": "AoRHVy20uSKP",
    "outputId": "467cbfaa-69b7-4bd4-d405-27abe24ff250"
   },
   "outputs": [
    {
     "data": {
      "application/vnd.google.colaboratory.intrinsic+json": {
       "type": "string"
      },
      "text/plain": [
       "\"\\ndict1 = {'key1':21,\\n         'key2':32,\\n         'key3':35}\\nprint(dict1.keys())\\nprint(dict1.values())\\n\""
      ]
     },
     "execution_count": 21,
     "metadata": {},
     "output_type": "execute_result"
    }
   ],
   "source": [
    "\"\"\"\n",
    "dict1 = {'key1':21,\n",
    "         'key2':32,\n",
    "         'key3':35}\n",
    "print(dict1.keys())\n",
    "print(dict1.values())\n",
    "\"\"\""
   ]
  },
  {
   "cell_type": "code",
   "execution_count": 23,
   "metadata": {
    "colab": {
     "base_uri": "https://localhost:8080/"
    },
    "id": "fSZDO_VfIEEj",
    "outputId": "9e56f052-8146-40a8-f4d7-6ad9f7610ed0"
   },
   "outputs": [
    {
     "name": "stdout",
     "output_type": "stream",
     "text": [
      "21\n"
     ]
    }
   ],
   "source": [
    "def sum_all(*args, **kwargs):\n",
    "    total = sum(args)  # Sum of all positional arguments\n",
    "    total += sum(kwargs.values())  # Sum of all keyword argument values\n",
    "    return total\n",
    "\n",
    "result = sum_all(1, 2, 3, num1=4, num2=5, num3=6)\n",
    "print(result)\n"
   ]
  },
  {
   "cell_type": "code",
   "execution_count": null,
   "metadata": {
    "id": "4evi0C0bK1Qn"
   },
   "outputs": [],
   "source": []
  }
 ],
 "metadata": {
  "colab": {
   "provenance": []
  },
  "kernelspec": {
   "display_name": "Python 3 (ipykernel)",
   "language": "python",
   "name": "python3"
  },
  "language_info": {
   "codemirror_mode": {
    "name": "ipython",
    "version": 3
   },
   "file_extension": ".py",
   "mimetype": "text/x-python",
   "name": "python",
   "nbconvert_exporter": "python",
   "pygments_lexer": "ipython3",
   "version": "3.9.7"
  }
 },
 "nbformat": 4,
 "nbformat_minor": 1
}
