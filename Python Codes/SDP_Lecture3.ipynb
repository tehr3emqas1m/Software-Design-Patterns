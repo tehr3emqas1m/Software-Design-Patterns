{
 "cells": [
  {
   "cell_type": "markdown",
   "metadata": {
    "id": "4XEWwW1mhMWn"
   },
   "source": [
    "#Breif revision of OOP in Python\n"
   ]
  },
  {
   "cell_type": "code",
   "execution_count": null,
   "metadata": {
    "id": "3QyF-tDXhLwr"
   },
   "outputs": [],
   "source": [
    "\n",
    "class MyClass0:\n",
    "  def hello(self):\n",
    "    print(\"Hello World. I am a method from the parent class\")\n",
    "\n",
    "\"\"\"\n",
    "class MyClass01(MyClass0):\n",
    "  def farewell(self):\n",
    "    print(\"Take care\")\n",
    "\"\"\"\n",
    "\n",
    "class MyClass(MyClass0):\n",
    "  def __init__(self,a,b):\n",
    "    self.a = a\n",
    "    self.b = b\n",
    "  def mySum(self,c,d):\n",
    "    return c+d+self.a+self.b\n",
    "  def hello(self):\n",
    "    print(\"Hello World. I am a method from the child class\")\n"
   ]
  },
  {
   "cell_type": "code",
   "execution_count": null,
   "metadata": {
    "colab": {
     "base_uri": "https://localhost:8080/"
    },
    "id": "8K9LcgDYi8KW",
    "outputId": "e4434341-f548-4e0a-9146-911305d052fa"
   },
   "outputs": [
    {
     "name": "stdout",
     "output_type": "stream",
     "text": [
      "Hello World. I am a method from the child class\n"
     ]
    }
   ],
   "source": [
    "\n",
    "obj1 = MyClass(1,2)\n",
    "obj1.mySum(3,4)\n",
    "obj1.hello()\n",
    "#obj1.farewell()\n"
   ]
  },
  {
   "cell_type": "markdown",
   "metadata": {
    "id": "dDoIazbU5ufb"
   },
   "source": [
    "#Method over-riding\n"
   ]
  },
  {
   "cell_type": "markdown",
   "metadata": {
    "id": "BPTRmq-g9msI"
   },
   "source": [
    "Method overriding in Python occurs when a subclass provides a specific implementation of a method that is already defined in its parent class. The overridden method in the subclass replaces the one in the parent class when called on an instance of the subclass."
   ]
  },
  {
   "cell_type": "markdown",
   "metadata": {
    "id": "nrK0ddnU9mbc"
   },
   "source": []
  },
  {
   "cell_type": "code",
   "execution_count": null,
   "metadata": {
    "colab": {
     "base_uri": "https://localhost:8080/"
    },
    "id": "rTetlvfsw_cN",
    "outputId": "2421a9de-9930-4e08-8e24-43933bc6d8c3"
   },
   "outputs": [
    {
     "name": "stdout",
     "output_type": "stream",
     "text": [
      "This is the Child class\n"
     ]
    }
   ],
   "source": [
    "class Parent:\n",
    "    def show(self):\n",
    "        print(\"This is the Parent class\")\n",
    "\n",
    "class Child(Parent):\n",
    "    def show(self):  # Overriding the show() method\n",
    "        print(\"This is the Child class\")\n",
    "\n",
    "c = Child()\n",
    "c.show()  # Calls the overridden method in Child\n"
   ]
  },
  {
   "cell_type": "markdown",
   "metadata": {
    "id": "qA4uBeWE-TD7"
   },
   "source": [
    "#Constructor Over-riding"
   ]
  },
  {
   "cell_type": "markdown",
   "metadata": {
    "id": "PZm-_cQI-Whf"
   },
   "source": [
    "Constructor overriding happens when a child class defines its own `__init__` method, replacing the parent's constructor.\n",
    "\n",
    "**Note:** If the child class still wants to call the parent's constructor, it can use super().`__init__()`."
   ]
  },
  {
   "cell_type": "code",
   "execution_count": null,
   "metadata": {
    "colab": {
     "base_uri": "https://localhost:8080/"
    },
    "id": "llh1Am6sl4dZ",
    "outputId": "405ed3b8-ffc7-4e6b-e19b-adc93ce4bbb0"
   },
   "outputs": [
    {
     "name": "stdout",
     "output_type": "stream",
     "text": [
      "Parent Constructor Called\n"
     ]
    }
   ],
   "source": [
    "class Parent:\n",
    "    def __init__(self):\n",
    "        print(\"Parent Constructor Called\")\n",
    "\n",
    "obj_Parent = Parent()"
   ]
  },
  {
   "cell_type": "code",
   "execution_count": null,
   "metadata": {
    "colab": {
     "base_uri": "https://localhost:8080/"
    },
    "id": "vrwrn7ij5ycD",
    "outputId": "08a1d367-080b-4495-cfb8-32a37aee2419"
   },
   "outputs": [
    {
     "name": "stdout",
     "output_type": "stream",
     "text": [
      "Child Constructor Called\n"
     ]
    }
   ],
   "source": [
    "\n",
    "class Child(Parent):\n",
    "    def __init__(self):\n",
    "        print(\"Child Constructor Called\")\n",
    "\n",
    "# Creating an instance of Child\n",
    "c = Child()\n"
   ]
  },
  {
   "cell_type": "markdown",
   "metadata": {
    "id": "EzaMiwm-_vkf"
   },
   "source": [
    "# Super function in Python"
   ]
  },
  {
   "cell_type": "markdown",
   "metadata": {
    "id": "lmt2CxCxAByK"
   },
   "source": [
    "The super() function in Python is used to call methods of a parent class inside a child class. It is commonly used in method overriding to invoke the parent class's implementation while still allowing customization in the child class.\n",
    "\n"
   ]
  },
  {
   "cell_type": "code",
   "execution_count": null,
   "metadata": {
    "colab": {
     "base_uri": "https://localhost:8080/"
    },
    "id": "81YXV5FY-4XC",
    "outputId": "47f49ad4-475c-4f96-b45c-af91e9424fcf"
   },
   "outputs": [
    {
     "name": "stdout",
     "output_type": "stream",
     "text": [
      "Child class method\n",
      "Parent class method\n"
     ]
    }
   ],
   "source": [
    "class Parent:\n",
    "    def show(self):\n",
    "        print(\"Parent class method\")\n",
    "\n",
    "class Child(Parent):\n",
    "    def show(self):\n",
    "          # Calls the parent class method\n",
    "        print(\"Child class method\")\n",
    "        super().show()\n",
    "\n",
    "c = Child()\n",
    "c.show()\n"
   ]
  },
  {
   "cell_type": "markdown",
   "metadata": {
    "id": "xYYFTqF_BbYF"
   },
   "source": [
    "#Using super() in a constructor"
   ]
  },
  {
   "cell_type": "code",
   "execution_count": null,
   "metadata": {
    "colab": {
     "base_uri": "https://localhost:8080/"
    },
    "id": "Z-j-BDrKAPOz",
    "outputId": "58160deb-266e-4a24-e5d9-85e0ebc5b5c1"
   },
   "outputs": [
    {
     "name": "stdout",
     "output_type": "stream",
     "text": [
      "Parent Constructor Called\n",
      "Child Constructor Called\n"
     ]
    }
   ],
   "source": [
    "class Parent:\n",
    "    def __init__(self):\n",
    "        print(\"Parent Constructor Called\")\n",
    "\n",
    "class Child(Parent):\n",
    "    def __init__(self):\n",
    "        super().__init__()  # Calls the Parent's constructor\n",
    "        print(\"Child Constructor Called\")\n",
    "\n",
    "c = Child()\n"
   ]
  },
  {
   "cell_type": "markdown",
   "metadata": {
    "id": "UYoURV7WB1PU"
   },
   "source": [
    "Lets do another example"
   ]
  },
  {
   "cell_type": "code",
   "execution_count": null,
   "metadata": {
    "colab": {
     "base_uri": "https://localhost:8080/"
    },
    "id": "BR2-bSrRphEh",
    "outputId": "a65c6415-a253-4264-8431-4e6ef32e371a"
   },
   "outputs": [
    {
     "name": "stdout",
     "output_type": "stream",
     "text": [
      "Parent Constructor Called, Name: Subhan\n"
     ]
    }
   ],
   "source": [
    "class Parent:\n",
    "    def __init__(self, name):\n",
    "        print(f\"Parent Constructor Called, Name: {name}\")\n",
    "obj_parent = Parent(\"Subhan\")"
   ]
  },
  {
   "cell_type": "code",
   "execution_count": null,
   "metadata": {
    "colab": {
     "base_uri": "https://localhost:8080/"
    },
    "id": "st80O4w5Bj0a",
    "outputId": "ddf1da67-aea6-442e-b099-bc50af515d74"
   },
   "outputs": [
    {
     "name": "stdout",
     "output_type": "stream",
     "text": [
      "Parent Constructor Called, Name: Alice\n",
      "Child Constructor Called, Age: 10\n"
     ]
    }
   ],
   "source": [
    "\n",
    "class Child(Parent):\n",
    "    def __init__(self, name, age):\n",
    "        super().__init__(name)  # Passing 'name' to Parent's constructor\n",
    "        print(f\"Child Constructor Called, Age: {age}\")\n",
    "\n",
    "c = Child(\"Alice\", 10)\n"
   ]
  },
  {
   "cell_type": "code",
   "execution_count": null,
   "metadata": {
    "id": "5KD7Pky3B4qh"
   },
   "outputs": [],
   "source": []
  }
 ],
 "metadata": {
  "colab": {
   "provenance": []
  },
  "kernelspec": {
   "display_name": "Python 3 (ipykernel)",
   "language": "python",
   "name": "python3"
  },
  "language_info": {
   "codemirror_mode": {
    "name": "ipython",
    "version": 3
   },
   "file_extension": ".py",
   "mimetype": "text/x-python",
   "name": "python",
   "nbconvert_exporter": "python",
   "pygments_lexer": "ipython3",
   "version": "3.9.7"
  }
 },
 "nbformat": 4,
 "nbformat_minor": 1
}
