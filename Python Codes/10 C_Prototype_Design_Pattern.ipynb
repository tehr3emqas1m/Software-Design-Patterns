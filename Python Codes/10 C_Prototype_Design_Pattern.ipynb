{
  "nbformat": 4,
  "nbformat_minor": 0,
  "metadata": {
    "colab": {
      "provenance": []
    },
    "kernelspec": {
      "name": "python3",
      "display_name": "Python 3"
    },
    "language_info": {
      "name": "python"
    }
  },
  "cells": [
    {
      "cell_type": "markdown",
      "source": [
        "#Prototype Design Pattern"
      ],
      "metadata": {
        "id": "tWjckg8OTFb6"
      }
    },
    {
      "cell_type": "markdown",
      "source": [
        "The Prototype Method Design Pattern in Python enables the creation of new objects by cloning existing ones, promoting efficient object creation and reducing overhead. This pattern is particularly useful when the cost of creating a new object is high and when an object’s initial state or configuration is complex."
      ],
      "metadata": {
        "id": "sHbcfwOI5niF"
      }
    },
    {
      "cell_type": "markdown",
      "source": [
        "First lets look at a few fundamental things"
      ],
      "metadata": {
        "id": "qrPFCuDfTKB_"
      }
    },
    {
      "cell_type": "code",
      "source": [
        "class MyClass:\n",
        "  myVar = 2\n",
        "\n",
        "obj1 = MyClass()\n",
        "print(\"obj1.myVar\",obj1.myVar)\n",
        "obj2 = obj1\n",
        "obj2.myVar = 100\n",
        "print(\"obj2.myVar\",obj2.myVar)\n",
        "print(\"obj1.myVar\",obj1.myVar)"
      ],
      "metadata": {
        "colab": {
          "base_uri": "https://localhost:8080/"
        },
        "id": "g17pVSsATTEM",
        "outputId": "49bd1340-8d34-4521-af75-c3fd6abde73a"
      },
      "execution_count": null,
      "outputs": [
        {
          "output_type": "stream",
          "name": "stdout",
          "text": [
            "obj1.myVar 2\n",
            "obj2.myVar 100\n",
            "obj1.myVar 100\n"
          ]
        }
      ]
    },
    {
      "cell_type": "code",
      "source": [
        "import copy\n",
        "class MyClass:\n",
        "  myVar = 2\n",
        "  def clone(self):\n",
        "    return copy.deepcopy(self)\n",
        "obj1 = MyClass()\n",
        "print(\"obj1.myVar\",obj1.myVar)\n",
        "obj2 = obj1.clone()\n",
        "obj2.myVar = 100\n",
        "print(\"obj2.myVar\",obj2.myVar)\n",
        "print(\"obj1.myVar\",obj1.myVar)\n"
      ],
      "metadata": {
        "colab": {
          "base_uri": "https://localhost:8080/"
        },
        "id": "UHywuZjrU3fT",
        "outputId": "a105c7aa-4b28-4582-a1f8-aea31f8a4372"
      },
      "execution_count": null,
      "outputs": [
        {
          "output_type": "stream",
          "name": "stdout",
          "text": [
            "obj1.myVar 2\n",
            "obj2.myVar 100\n",
            "obj1.myVar 2\n"
          ]
        }
      ]
    },
    {
      "cell_type": "code",
      "source": [
        " if __name__ == \"__main__\": #explained in an offline code"
      ],
      "metadata": {
        "id": "AoREsK7EWdvY"
      },
      "execution_count": null,
      "outputs": []
    },
    {
      "cell_type": "code",
      "execution_count": null,
      "metadata": {
        "colab": {
          "base_uri": "https://localhost:8080/"
        },
        "id": "Ag6tIfGR5f-K",
        "outputId": "670b7610-22ca-4a6e-89a4-3b2824f29fca"
      },
      "outputs": [
        {
          "output_type": "stream",
          "name": "stdout",
          "text": [
            "Original Car:\n",
            "Car Model: Toyota Corolla, Color: White\n",
            "Cloned Car:\n",
            "Car Model: Toyota Corolla, Color: Black\n"
          ]
        }
      ],
      "source": [
        "# Prototype Design Pattern Example\n",
        "import copy\n",
        "\n",
        "# Prototype class\n",
        "class Car:\n",
        "    def __init__(self, model, color):\n",
        "        self.model = model\n",
        "        self.color = color\n",
        "\n",
        "    def clone(self):\n",
        "        return copy.deepcopy(self)\n",
        "\n",
        "    def display(self):\n",
        "        print(f\"Car Model: {self.model}, Color: {self.color}\")\n",
        "\n",
        "# Usage\n",
        "if __name__ == \"__main__\":\n",
        "    car1 = Car(\"Toyota Corolla\", \"White\")\n",
        "    car2 = car1.clone()  # clone the original car\n",
        "    car2.color = \"Black\"  # customize the clone\n",
        "\n",
        "    print(\"Original Car:\")\n",
        "    car1.display()\n",
        "\n",
        "    print(\"Cloned Car:\")\n",
        "    car2.display()"
      ]
    },
    {
      "cell_type": "code",
      "source": [],
      "metadata": {
        "id": "rF5zVIb1S3KZ"
      },
      "execution_count": null,
      "outputs": []
    }
  ]
}