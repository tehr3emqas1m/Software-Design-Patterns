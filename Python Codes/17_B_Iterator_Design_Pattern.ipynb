{
  "nbformat": 4,
  "nbformat_minor": 0,
  "metadata": {
    "colab": {
      "provenance": []
    },
    "kernelspec": {
      "name": "python3",
      "display_name": "Python 3"
    },
    "language_info": {
      "name": "python"
    }
  },
  "cells": [
    {
      "cell_type": "markdown",
      "source": [
        "#Behavioral Design Patterns\n",
        "Behavioral Design Patterns are a category of software design patterns that focus on how objects interact and communicate with each other. They help define:\n",
        "\n",
        "- The responsibilities of objects\n",
        "\n",
        "- The flow of control between them\n",
        "\n",
        "- How behavior can be assigned or changed dynamically\n",
        "\n"
      ],
      "metadata": {
        "id": "E0kswJQyy0HC"
      }
    },
    {
      "cell_type": "markdown",
      "source": [
        "#Iterator Design Pattern\n",
        "The Iterator Pattern provides a way to access elements of a collection sequentially without exposing its internal structure."
      ],
      "metadata": {
        "id": "5W0OpZOo0Sdy"
      }
    },
    {
      "cell_type": "markdown",
      "source": [
        "#Example 1\n",
        "Let’s say you have a collection of names, and you want to go through them one by one.\n",
        "\n"
      ],
      "metadata": {
        "id": "HHb3l0TU6XPY"
      }
    },
    {
      "cell_type": "code",
      "execution_count": 16,
      "metadata": {
        "colab": {
          "base_uri": "https://localhost:8080/",
          "height": 271
        },
        "id": "b1GiPbyPyk2K",
        "outputId": "0e882d08-14fa-4e12-e999-b1f3c266b4b4"
      },
      "outputs": [
        {
          "output_type": "stream",
          "name": "stdout",
          "text": [
            "Momina\n",
            "Muzamil\n",
            "Rahat Ejaz\n",
            "Zohaib\n",
            "Saboor\n",
            "Ehtesham\n",
            "Khizer\n"
          ]
        },
        {
          "output_type": "execute_result",
          "data": {
            "text/plain": [
              "'\\n# Create an iterator from the collection\\niterator = iter(collection)  # Calls collection.__iter__()\\n\\n# Now use next() manually\\ntry:\\n    print(next(iterator))  # ➜ \\n    print(next(iterator))  # ➜ \\n    print(next(iterator))  # ➜ \\n    print(next(iterator))  # ➜ \\n    print(next(iterator))  # ➜ \\n    print(next(iterator))  # ➜ \\n    print(next(iterator))  # ➜ \\n    print(next(iterator))  # ➜ \\n    print(next(iterator))  # ➜ \\n    print(next(iterator))  # ➜ \\n    print(next(iterator))  # ➜ \\n    print(next(iterator))  # ➜ \\n    print(next(iterator))  # X Raises StopIteration\\nexcept StopIteration:\\n    print(\"No more names.\")\\n    '"
            ],
            "application/vnd.google.colaboratory.intrinsic+json": {
              "type": "string"
            }
          },
          "metadata": {},
          "execution_count": 16
        }
      ],
      "source": [
        "# The Collection\n",
        "class NameCollection:\n",
        "    def __init__(self):\n",
        "        self.names = []\n",
        "\n",
        "    def add_name(self, name):\n",
        "        self.names.append(name)\n",
        "\n",
        "    def __iter__(self):\n",
        "        return NameIterator(self.names)\n",
        "\n",
        "#Python automatically:\n",
        "#Calls collection.__iter__() → returns a NameIterator\n",
        "#Then repeatedly calls __next__() on it until it raises StopIteration.\n",
        "\n",
        "# The Iterator\n",
        "class NameIterator:\n",
        "    def __init__(self, names):\n",
        "        self._names = names\n",
        "        self._index = 0\n",
        "\n",
        "    def __next__(self):\n",
        "        if self._index < len(self._names):\n",
        "            result = self._names[self._index]\n",
        "            self._index += 1\n",
        "            return result\n",
        "        else:\n",
        "            raise StopIteration\n",
        "\n",
        "\n",
        "# Client Code\n",
        "collection = NameCollection()\n",
        "collection.add_name(\"Momina\")\n",
        "collection.add_name(\"Muzamil\")\n",
        "collection.add_name(\"Rahat Ejaz\")\n",
        "collection.add_name(\"Zohaib\")\n",
        "collection.add_name(\"Saboor\")\n",
        "collection.add_name(\"Ehtesham\")\n",
        "collection.add_name(\"Khizer\")\n",
        "\n",
        "#for name in collection:\n",
        "#  print(name)\n",
        "# Create an iterator from the collection\n",
        "iterator = iter(collection)  # Calls collection.__iter__()\n",
        "\n",
        "# Now use next() manually\n",
        "try:\n",
        "    print(next(iterator))  # ➜\n",
        "    print(next(iterator))  # ➜\n",
        "    print(next(iterator))  # ➜\n",
        "    print(next(iterator))  # ➜\n",
        "    print(next(iterator))  # ➜\n",
        "    print(next(iterator))  # ➜\n",
        "    print(next(iterator))  # ➜\n",
        "    print(next(iterator))  # ➜\n",
        "    print(next(iterator))  # ➜\n",
        "    print(next(iterator))  # ➜\n",
        "    print(next(iterator))  # ➜\n",
        "    print(next(iterator))  # ➜\n",
        "    print(next(iterator))  # X Raises StopIteration\n",
        "except StopIteration:\n",
        "    print(\"No more names.\")\n"
      ]
    },
    {
      "cell_type": "markdown",
      "source": [
        "#This simple example may be looked at before runing the above code"
      ],
      "metadata": {
        "id": "NvJhcW4BhhXq"
      }
    },
    {
      "cell_type": "code",
      "source": [
        "#Whats __iter__() and __next__()?\n",
        "#Lets try to undetstand these with a simple example\n",
        "class SimpleIterator:\n",
        "    def __init__(self):\n",
        "        self.count = 0\n",
        "\n",
        "    def __iter__(self):\n",
        "        return self  # This object itself is the iterator\n",
        "\n",
        "    def __next__(self):\n",
        "        if self.count < 3:\n",
        "            self.count += 1\n",
        "            return self.count\n",
        "        else:\n",
        "            raise StopIteration  # No more items\n",
        "\n"
      ],
      "metadata": {
        "id": "EuuT98Ys6xtv"
      },
      "execution_count": 11,
      "outputs": []
    },
    {
      "cell_type": "code",
      "source": [
        "obj = SimpleIterator()\n",
        "\n",
        "iterator = iter(obj)   # Calls obj.__iter__()\n",
        "try:\n",
        "  print(next(iterator))  # Calls iterator.__next__(), prints 1\n",
        "  print(next(iterator))  # Prints 2\n",
        "  print(next(iterator))  # Prints 3\n",
        "  print(next(iterator))  # Raises StopIteration\n",
        "except StopIteration:\n",
        "  print(\"Max limit achieved\")"
      ],
      "metadata": {
        "colab": {
          "base_uri": "https://localhost:8080/"
        },
        "id": "O7oi3osQRCWS",
        "outputId": "7ef90529-7bf2-48cb-dda5-7300a274f13f"
      },
      "execution_count": 14,
      "outputs": [
        {
          "output_type": "stream",
          "name": "stdout",
          "text": [
            "1\n",
            "2\n",
            "3\n",
            "Max limit achieved\n"
          ]
        }
      ]
    },
    {
      "cell_type": "code",
      "source": [],
      "metadata": {
        "id": "oTxxyMHXRFJb"
      },
      "execution_count": null,
      "outputs": []
    }
  ]
}