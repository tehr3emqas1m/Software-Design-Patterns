{
  "nbformat": 4,
  "nbformat_minor": 0,
  "metadata": {
    "colab": {
      "provenance": []
    },
    "kernelspec": {
      "name": "python3",
      "display_name": "Python 3"
    },
    "language_info": {
      "name": "python"
    }
  },
  "cells": [
    {
      "cell_type": "markdown",
      "source": [
        "#Composite Design Patterns\n",
        "The Composite Design Pattern is a structural design pattern that lets you compose objects into tree-like structures to represent part-whole hierarchies. It allows clients to treat individual objects and compositions of objects uniformly. In other words,\n",
        "\n",
        "#whether dealing with a single object or a group of objects (composite), clients can use them interchangeably."
      ],
      "metadata": {
        "id": "8Fj3hUjJ244D"
      }
    },
    {
      "cell_type": "markdown",
      "source": [
        "![composite-design-pattern-iin-java.webp](data:image/webp;base64,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)"
      ],
      "metadata": {
        "id": "M2kOSaac3Vtm"
      }
    },
    {
      "cell_type": "code",
      "execution_count": null,
      "metadata": {
        "colab": {
          "base_uri": "https://localhost:8080/",
          "height": 54
        },
        "id": "yCpv49OI1U94",
        "outputId": "3146abd8-fcd1-43b4-b6ec-ac530fab4f2c"
      },
      "outputs": [
        {
          "output_type": "execute_result",
          "data": {
            "text/plain": [
              "'\\nFolder \"Documents\"\\n├── File \"Resume.pdf\"\\n├── File \"Report.docx\"\\n└── Folder \"Projects\"\\n    ├── File \"project1.py\"\\n    └── File \"project2.py\"\\n'"
            ],
            "application/vnd.google.colaboratory.intrinsic+json": {
              "type": "string"
            }
          },
          "metadata": {},
          "execution_count": 1
        }
      ],
      "source": [
        "\"\"\"\n",
        "Folder \"Documents\"\n",
        "├── File \"Resume.pdf\"\n",
        "├── File \"Report.docx\"\n",
        "└── Folder \"Projects\"\n",
        "    ├── File \"project1.py\"\n",
        "    └── File \"project2.py\"\n",
        "\"\"\""
      ]
    },
    {
      "cell_type": "markdown",
      "source": [
        "#Example 1\n",
        "File System (Files & Folders)\n",
        "A File is a leaf — it just has a name and a size.\n",
        "\n",
        "A Folder is a composite — it contains files and/or other folders.\n",
        "\n",
        "You can call .display() on both — that’s the uniform interface.\n",
        "\n"
      ],
      "metadata": {
        "id": "zdLt5pqp4rFG"
      }
    },
    {
      "cell_type": "code",
      "source": [
        "#Composite interface\n",
        "class FileSystemItem:\n",
        "    def display(self, indent=0):\n",
        "        pass\n"
      ],
      "metadata": {
        "id": "4r0MNfSy4V-q"
      },
      "execution_count": null,
      "outputs": []
    },
    {
      "cell_type": "code",
      "source": [
        "#The leaf\n",
        "class File(FileSystemItem):\n",
        "    def __init__(self, name):\n",
        "        self.name = name\n",
        "\n",
        "    def display(self, indent=0):\n",
        "        print(\"  \" * indent + f\"- File: {self.name}\")\n"
      ],
      "metadata": {
        "id": "jbES6eys5Irc"
      },
      "execution_count": null,
      "outputs": []
    },
    {
      "cell_type": "code",
      "source": [
        "#The composite--Folder\n",
        "\n",
        "class Folder(FileSystemItem):\n",
        "    def __init__(self, name):\n",
        "        self.name = name\n",
        "        self.items = []\n",
        "\n",
        "    def add(self, item):\n",
        "        self.items.append(item)\n",
        "\n",
        "    def display(self, indent=0):\n",
        "        print(\"  \" * indent + f\"+ Folder: {self.name}\")\n",
        "        for item in self.items:\n",
        "            item.display(indent + 1)\n"
      ],
      "metadata": {
        "id": "wBMB6V7F5LWv"
      },
      "execution_count": null,
      "outputs": []
    },
    {
      "cell_type": "markdown",
      "source": [
        "A folder is a composite — it can hold many items (File or Folder)\n",
        "\n",
        ".add(item) lets us insert children into the folder.\n",
        "\n",
        ".display() prints the folder name, then goes recursively into all its children with extra indentation."
      ],
      "metadata": {
        "id": "G4Os07w_8DfA"
      }
    },
    {
      "cell_type": "code",
      "source": [
        "#Client Code (Tree in action)\n",
        "\n",
        "# Create folders and build tree\n",
        "user = Folder(\"User\")\n",
        "docs = Folder(\"Documents\")\n",
        "pics = Folder(\"Pictures\")\n",
        "\n",
        "user.add(docs)\n",
        "user.add(pics)\n",
        "\n",
        "\n",
        "\n",
        "file1 = File(\"resume.pdf\")\n",
        "docs.add(file1)\n",
        "file2 = File(\"report.docx\")\n",
        "docs.add(file2)\n",
        "\n",
        "\n",
        "file3 = File(\"photo.png\")\n",
        "pics.add(file3)\n",
        "\n",
        "\n",
        "# Display the structure\n",
        "user.display()\n"
      ],
      "metadata": {
        "colab": {
          "base_uri": "https://localhost:8080/"
        },
        "id": "OvzJFxKe5Q68",
        "outputId": "5ad5f415-f665-4cdd-ea7b-d4ae6375859f"
      },
      "execution_count": null,
      "outputs": [
        {
          "output_type": "stream",
          "name": "stdout",
          "text": [
            "+ Folder: User\n",
            "  + Folder: Documents\n",
            "    - File: resume.pdf\n",
            "    - File: report.docx\n",
            "  + Folder: Pictures\n",
            "    - File: photo.png\n"
          ]
        }
      ]
    },
    {
      "cell_type": "code",
      "source": [],
      "metadata": {
        "id": "weMl3Ha75XOG"
      },
      "execution_count": null,
      "outputs": []
    }
  ]
}