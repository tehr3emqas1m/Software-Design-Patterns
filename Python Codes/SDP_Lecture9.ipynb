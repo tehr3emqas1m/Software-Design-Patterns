{
  "nbformat": 4,
  "nbformat_minor": 0,
  "metadata": {
    "colab": {
      "provenance": []
    },
    "kernelspec": {
      "name": "python3",
      "display_name": "Python 3"
    },
    "language_info": {
      "name": "python"
    }
  },
  "cells": [
    {
      "cell_type": "markdown",
      "source": [
        "#Builder Pattern\n",
        "The Builder design pattern is a creational pattern used in software design to construct complex objects step by step.\n",
        "The Builder Pattern is used when an object has many optional parameters, and you want to make the creation process more readable and flexible.\n",
        "It separates object creation from the object representation. Essentially the original class does the representation"
      ],
      "metadata": {
        "id": "dIL2yjL5H7ce"
      }
    },
    {
      "cell_type": "markdown",
      "source": [
        "#Example 1"
      ],
      "metadata": {
        "id": "WvPzLznVIAE8"
      }
    },
    {
      "cell_type": "markdown",
      "source": [
        "Imagine we are making a Burger with optional ingredients. Instead of passing a long list of parameters to the constructor, we use a Builder to add ingredients step by step."
      ],
      "metadata": {
        "id": "GyoMfFTmIG9h"
      }
    },
    {
      "cell_type": "markdown",
      "source": [
        "1- Creating the burger class"
      ],
      "metadata": {
        "id": "bNAw5bYzIKOf"
      }
    },
    {
      "cell_type": "code",
      "execution_count": null,
      "metadata": {
        "id": "nmaOnhwJkb2z"
      },
      "outputs": [],
      "source": [
        "class Burger:\n",
        "    def __init__(self, cheese=False, lettuce=False, tomato=False):\n",
        "        self.cheese = cheese\n",
        "        self.lettuce = lettuce\n",
        "        self.tomato = tomato\n",
        "\n",
        "    def __str__(self):\n",
        "       return f\"Burger with {'cheese' if self.cheese else 'no cheese'}, {'lettuce' if self.lettuce else 'no lettuce'}, and {'tomato' if self.tomato else 'no tomato'}.\"\n"
      ]
    },
    {
      "cell_type": "markdown",
      "source": [
        "2- Creating burger builder"
      ],
      "metadata": {
        "id": "NefNW_gYIRES"
      }
    },
    {
      "cell_type": "code",
      "source": [
        "\n",
        "class BurgerBuilder:   #This class will be used for object creation.\n",
        "    def __init__(self):\n",
        "        self.burger = Burger()  # Start with a basic burger\n",
        "\n",
        "    def add_cheese(self):\n",
        "        self.burger.cheese = True\n",
        "        return self  # Return self for method chaining\n",
        "\n",
        "    def add_lettuce(self):\n",
        "        self.burger.lettuce = True\n",
        "        return self\n",
        "\n",
        "    def add_tomato(self):\n",
        "        self.burger.tomato = True\n",
        "        return self\n",
        "\n",
        "    def build(self):\n",
        "        return self.burger  # Return the final burger\n"
      ],
      "metadata": {
        "id": "9cffE8rCINSD"
      },
      "execution_count": null,
      "outputs": []
    },
    {
      "cell_type": "markdown",
      "source": [
        "3- Using the builder to creat the burger"
      ],
      "metadata": {
        "id": "ILDeSXROIWvO"
      }
    },
    {
      "cell_type": "code",
      "source": [
        "burger = BurgerBuilder().add_cheese().add_tomato().build()\n",
        "print(burger)\n"
      ],
      "metadata": {
        "colab": {
          "base_uri": "https://localhost:8080/"
        },
        "id": "-lDPaiHrIT2E",
        "outputId": "3c78fa9c-e74c-486a-e275-8eb43a73eb71"
      },
      "execution_count": null,
      "outputs": [
        {
          "output_type": "stream",
          "name": "stdout",
          "text": [
            "Burger with cheese, no lettuce, and tomato.\n"
          ]
        }
      ]
    },
    {
      "cell_type": "markdown",
      "source": [
        "#Director"
      ],
      "metadata": {
        "id": "pYhSgbJKpmdu"
      }
    },
    {
      "cell_type": "code",
      "source": [
        "#Director\n",
        "\n",
        "\n",
        "class Burger:\n",
        "    def __init__(self, cheese=False, lettuce=False, tomato=False):\n",
        "        self.cheese = cheese\n",
        "        self.lettuce = lettuce\n",
        "        self.tomato = tomato\n",
        "\n",
        "    def __str__(self):\n",
        "       return f\"Burger with {'cheese' if self.cheese else 'no cheese'}, {'lettuce' if self.lettuce else 'no lettuce'}, and {'tomato' if self.tomato else 'no tomato'}.\"\n",
        "\n",
        "class BurgerBuilder:\n",
        "    def __init__(self):\n",
        "        self.reset()\n",
        "\n",
        "    def reset(self):\n",
        "        \"\"\"Resets the builder to create a new burger\"\"\"\n",
        "        self.burger = Burger()\n",
        "        return self\n",
        "\n",
        "    def add_cheese(self):\n",
        "        self.burger.cheese = True\n",
        "        return self\n",
        "\n",
        "    def add_lettuce(self):\n",
        "        self.burger.lettuce = True\n",
        "        return self\n",
        "\n",
        "    def add_tomato(self):\n",
        "        self.burger.tomato = True\n",
        "        return self\n",
        "\n",
        "    def build(self):\n",
        "        burger = self.burger\n",
        "        self.reset()  # Reset after building to avoid carrying over ingredients\n",
        "        return burger\n",
        "\n",
        "# Director class to define preset burger types\n",
        "class BurgerDirector:\n",
        "    def __init__(self, builder):\n",
        "        self.builder = builder\n",
        "\n",
        "    def make_cheese_burger(self):\n",
        "        return self.builder.reset().add_cheese().build()\n",
        "\n",
        "    def make_veggie_burger(self):\n",
        "        return self.builder.reset().add_lettuce().add_tomato().build()\n",
        "\n",
        "    def make_full_burger(self):\n",
        "        return self.builder.reset().add_cheese().add_lettuce().add_tomato().build()\n",
        "\n",
        "# Using the Director\n",
        "builder = BurgerBuilder()\n",
        "director = BurgerDirector(builder)\n",
        "\n",
        "cheese_burger = director.make_cheese_burger()\n",
        "veggie_burger = director.make_veggie_burger()\n",
        "full_burger = director.make_full_burger()\n",
        "\n",
        "print(cheese_burger)   # Burger with cheese, no lettuce, and no tomato.\n",
        "print(veggie_burger)   # Burger with no cheese, lettuce, and tomato.\n",
        "print(full_burger)     # Burger with cheese, lettuce, and tomato.\n"
      ],
      "metadata": {
        "colab": {
          "base_uri": "https://localhost:8080/"
        },
        "id": "v9iuSSVhp34H",
        "outputId": "92f93ae9-88ca-45ce-b6a3-8318957e2d6b"
      },
      "execution_count": null,
      "outputs": [
        {
          "output_type": "stream",
          "name": "stdout",
          "text": [
            "Burger with cheese, no lettuce, and no tomato.\n",
            "Burger with no cheese, lettuce, and tomato.\n",
            "Burger with cheese, lettuce, and tomato.\n"
          ]
        }
      ]
    },
    {
      "cell_type": "markdown",
      "source": [
        "#Example 2\n",
        "Building a computer"
      ],
      "metadata": {
        "id": "diBLLnTjIuYZ"
      }
    },
    {
      "cell_type": "markdown",
      "source": [
        "Defining the computer class"
      ],
      "metadata": {
        "id": "LovpgWyuI2AL"
      }
    },
    {
      "cell_type": "code",
      "source": [
        "class Computer:\n",
        "    def __init__(self, cpu=None, ram=None, storage=None, gpu=None):\n",
        "        self.cpu = cpu\n",
        "        self.ram = ram\n",
        "        self.storage = storage\n",
        "        self.gpu = gpu\n",
        "\n",
        "    def __str__(self):\n",
        "        return f\"Computer: CPU={self.cpu}, RAM={self.ram}, Storage={self.storage}, GPU={self.gpu}\"\n"
      ],
      "metadata": {
        "id": "_prvuHq0IbC7"
      },
      "execution_count": null,
      "outputs": []
    },
    {
      "cell_type": "markdown",
      "source": [
        "#Creating the computer builder"
      ],
      "metadata": {
        "id": "cBGHD_iHI8Ay"
      }
    },
    {
      "cell_type": "code",
      "source": [
        "class ComputerBuilder:\n",
        "    def __init__(self):\n",
        "        self.reset()\n",
        "\n",
        "    def reset(self):\n",
        "        \"\"\"Resets the builder to create a new burger\"\"\"\n",
        "        self.computer = Computer()  # Start with an empty computer\n",
        "\n",
        "        return self\n",
        "\n",
        "    def set_cpu(self, cpu):\n",
        "        self.computer.cpu = cpu\n",
        "        return self\n",
        "\n",
        "    def set_ram(self, ram):\n",
        "        self.computer.ram = ram\n",
        "        return self\n",
        "\n",
        "    def set_storage(self, storage):\n",
        "        self.computer.storage = storage\n",
        "        return self\n",
        "\n",
        "    def set_gpu(self, gpu):\n",
        "        self.computer.gpu = gpu\n",
        "        return self\n",
        "\n",
        "    def build(self):\n",
        "        return self.computer  # Return the final computer\n",
        "\n",
        "class ComputerDirector:\n",
        "  def __init__(self, ComputerBuilder):\n",
        "      self.builder = ComputerBuilder\n",
        "\n",
        "  def build_student_computer(self):\n",
        "      return self.builder.reset().set_cpu(\"core i 3\").set_ram(\"8\").set_storage(\"256 GB\").build()\n",
        "\n",
        "  def build_office_computer(self):\n",
        "      return self.builder.reset().set_cpu(\"core i 3\").set_ram(\"8\").set_storage(\"512 GB\").build()\n",
        "  def build_gaming_computer(self):\n",
        "      return self.builder.reset().set_cpu(\"core i 7\").set_ram(\"32\").set_storage(\"1 TB\").set_gpu(\"RTX 4060\").build()\n",
        "\n"
      ],
      "metadata": {
        "id": "3FRTv39UI5Me"
      },
      "execution_count": null,
      "outputs": []
    },
    {
      "cell_type": "code",
      "source": [
        "pc = ComputerBuilder()\n",
        "director = ComputerDirector(pc)\n",
        "\n",
        "student_pc = director.build_student_computer()\n",
        "office_pc = director.build_office_computer()\n",
        "gaming_pc = director.build_gaming_computer()\n",
        "\n",
        "print(student_pc)\n",
        "print(office_pc)\n",
        "print(gaming_pc)"
      ],
      "metadata": {
        "colab": {
          "base_uri": "https://localhost:8080/"
        },
        "id": "VHPB_X4vylyl",
        "outputId": "f27266bd-905d-420c-b2ca-f6fc6886c7ef"
      },
      "execution_count": null,
      "outputs": [
        {
          "output_type": "stream",
          "name": "stdout",
          "text": [
            "Computer: CPU=core i 3, RAM=8, Storage=256 GB, GPU=None\n",
            "Computer: CPU=core i 3, RAM=8, Storage=512 GB, GPU=None\n",
            "Computer: CPU=core i 7, RAM=32, Storage=1 TB, GPU=RTX 4060\n"
          ]
        }
      ]
    },
    {
      "cell_type": "markdown",
      "source": [
        "3- Building a custom computer"
      ],
      "metadata": {
        "id": "UGP0GFZ-JA92"
      }
    },
    {
      "cell_type": "code",
      "source": [
        "\"\"\"\n",
        "gaming_pc = ComputerBuilder().set_cpu(\"Intel i9\").set_ram(\"32GB\").set_storage(\"1TB SSD\").build()\n",
        "print(gaming_pc)\n",
        "\"\"\""
      ],
      "metadata": {
        "colab": {
          "base_uri": "https://localhost:8080/"
        },
        "id": "ECb6XkjKI-WH",
        "outputId": "a1c80311-4484-44b0-e4e8-f8d5afd3a1c8"
      },
      "execution_count": null,
      "outputs": [
        {
          "output_type": "stream",
          "name": "stdout",
          "text": [
            "Computer: CPU=Intel i9, RAM=32GB, Storage=1TB SSD, GPU=None\n"
          ]
        }
      ]
    },
    {
      "cell_type": "code",
      "source": [],
      "metadata": {
        "id": "a7NXkcD3JFPU"
      },
      "execution_count": null,
      "outputs": []
    }
  ]
}