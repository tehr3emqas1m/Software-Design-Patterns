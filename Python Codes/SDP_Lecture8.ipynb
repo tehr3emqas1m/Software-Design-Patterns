{
  "nbformat": 4,
  "nbformat_minor": 0,
  "metadata": {
    "colab": {
      "provenance": []
    },
    "kernelspec": {
      "name": "python3",
      "display_name": "Python 3"
    },
    "language_info": {
      "name": "python"
    }
  },
  "cells": [
    {
      "cell_type": "markdown",
      "source": [
        "#Factory Design Pattern:\n",
        "#The Factory Design Pattern is used to create objects without specifying the exact class of object that will be created. Instead of directly instantiating objects, we use a factory method to handle object creation.\n",
        "\n"
      ],
      "metadata": {
        "id": "ZNkmWjfPHwAU"
      }
    },
    {
      "cell_type": "markdown",
      "source": [
        "#Lets learn some basic Python concepts first\n",
        "- Static method vs class method"
      ],
      "metadata": {
        "id": "JGNs3ovyXBqW"
      }
    },
    {
      "cell_type": "markdown",
      "source": [
        "- A class method is a method that is bound to the class and not the object of the class.\n",
        "- They have the access to the state of the class as it takes a class parameter that points to the class and not the object instance.\n",
        "- It can modify a class state that would apply across all the instances of the class. For example, it can modify a class variable that will be applicable to all the instances."
      ],
      "metadata": {
        "id": "Fbhto6NrXRCb"
      }
    },
    {
      "cell_type": "code",
      "source": [],
      "metadata": {
        "id": "cf2jgAakx_V_"
      },
      "execution_count": null,
      "outputs": []
    },
    {
      "cell_type": "code",
      "source": [
        "#Example\n",
        "class MyClass:\n",
        "  a = 3\n",
        "  b = 4\n",
        "  @classmethod\n",
        "  def mySum(cls):\n",
        "    return cls.a+cls.b\n",
        "\n",
        "\n",
        "\n",
        "\n",
        "\n",
        "print(MyClass.mySum())\n",
        "\n"
      ],
      "metadata": {
        "colab": {
          "base_uri": "https://localhost:8080/"
        },
        "id": "DXgZHZVeXIs6",
        "outputId": "2f6fb8a6-ae36-481f-8999-83a8957e5611"
      },
      "execution_count": 9,
      "outputs": [
        {
          "output_type": "stream",
          "name": "stdout",
          "text": [
            "7\n"
          ]
        }
      ]
    },
    {
      "cell_type": "markdown",
      "source": [
        "#Static Methods\n",
        "- A class method takes cls as the first parameter while a static method needs no specific parameters.\n",
        "- A class method can access or modify the class state while a static method can’t access or modify it.\n",
        "In general, static methods know nothing about the class state.\n",
        "-  They are utility-type methods that take some parameters and work upon those parameters. On the other hand class methods must have class as a parameter."
      ],
      "metadata": {
        "id": "6PvC0dw0yAMM"
      }
    },
    {
      "cell_type": "code",
      "source": [
        "#Example\n",
        "class MyClass:\n",
        "  a = 3\n",
        "  b = 4\n",
        "\n",
        "  @staticmethod\n",
        "  def mySum(c,d):\n",
        "    return c+d\n",
        "\n",
        "\n",
        "\n",
        "\n",
        "\n",
        "print(MyClass.mySum(2,3))\n",
        "\n"
      ],
      "metadata": {
        "colab": {
          "base_uri": "https://localhost:8080/"
        },
        "id": "01PoS66aXIod",
        "outputId": "788d092b-4cb1-4a4f-a917-461c74e54e53"
      },
      "execution_count": 12,
      "outputs": [
        {
          "output_type": "stream",
          "name": "stdout",
          "text": [
            "5\n"
          ]
        }
      ]
    },
    {
      "cell_type": "code",
      "source": [],
      "metadata": {
        "id": "hSTkrRmuXIlp"
      },
      "execution_count": null,
      "outputs": []
    },
    {
      "cell_type": "code",
      "execution_count": 13,
      "metadata": {
        "id": "eSR_QaxWBiiR"
      },
      "outputs": [],
      "source": [
        "class Circle:\n",
        "    def draw(self):\n",
        "        return \"Drawing a Circle\"\n",
        "\n",
        "class Square:\n",
        "    def draw(self):\n",
        "        return \"Drawing a Square\"\n"
      ]
    },
    {
      "cell_type": "code",
      "source": [
        "#Creating the factory\n",
        "class ShapeFactory:\n",
        "    @staticmethod\n",
        "    def get_shape(shape_type):\n",
        "        if shape_type == \"circle\":\n",
        "            return Circle()\n",
        "        elif shape_type == \"square\":\n",
        "            return Square()\n",
        "        else:\n",
        "            return None\n"
      ],
      "metadata": {
        "id": "cjCbZT3bIgfr"
      },
      "execution_count": 17,
      "outputs": []
    },
    {
      "cell_type": "code",
      "source": [
        "shape1 = ShapeFactory.get_shape(\"circle\")  # No instantiation of ShapeFactory needed!\n",
        "shape2 = ShapeFactory.get_shape(\"square\")\n",
        "\n",
        "print(shape1.draw())  # Output: Drawing a Circle\n",
        "print(shape2.draw())  # Output: Drawing a Square\n"
      ],
      "metadata": {
        "colab": {
          "base_uri": "https://localhost:8080/"
        },
        "id": "SY1o-tINIm00",
        "outputId": "b6822054-f35b-42c5-f040-ced97bc66729"
      },
      "execution_count": 18,
      "outputs": [
        {
          "output_type": "stream",
          "name": "stdout",
          "text": [
            "Drawing a Circle\n",
            "Drawing a Square\n"
          ]
        }
      ]
    },
    {
      "cell_type": "markdown",
      "source": [
        "Before we go any further, lets look at some basic ways to deal with Python dictionaries"
      ],
      "metadata": {
        "id": "Y_v5_Zdo2vNB"
      }
    },
    {
      "cell_type": "code",
      "source": [
        "dic1 = {}\n"
      ],
      "metadata": {
        "id": "2q1cpdMG22Ru"
      },
      "execution_count": 19,
      "outputs": []
    },
    {
      "cell_type": "code",
      "source": [
        "dic1[\"Name\"] = \"Amjad\"\n",
        "dic1"
      ],
      "metadata": {
        "colab": {
          "base_uri": "https://localhost:8080/"
        },
        "id": "1aIDl0MQ28eL",
        "outputId": "7f711601-cf41-4782-8050-dc3c94b37eba"
      },
      "execution_count": 21,
      "outputs": [
        {
          "output_type": "execute_result",
          "data": {
            "text/plain": [
              "{'Name': 'Amjad'}"
            ]
          },
          "metadata": {},
          "execution_count": 21
        }
      ]
    },
    {
      "cell_type": "code",
      "source": [
        "dic1[\"roll no\"] = 1235\n",
        "\n",
        "dic1"
      ],
      "metadata": {
        "colab": {
          "base_uri": "https://localhost:8080/"
        },
        "id": "7Fk6Cn9x3Jco",
        "outputId": "1b5da4b2-6eee-417c-9878-26e199a8b269"
      },
      "execution_count": 22,
      "outputs": [
        {
          "output_type": "execute_result",
          "data": {
            "text/plain": [
              "{'Name': 'Amjad', 'roll no': 1235}"
            ]
          },
          "metadata": {},
          "execution_count": 22
        }
      ]
    },
    {
      "cell_type": "code",
      "source": [
        "dic1.get(\"roll no\")"
      ],
      "metadata": {
        "colab": {
          "base_uri": "https://localhost:8080/"
        },
        "id": "guJlsNXa3OrU",
        "outputId": "9922379a-47f5-4764-d178-fbac6861b613"
      },
      "execution_count": 23,
      "outputs": [
        {
          "output_type": "execute_result",
          "data": {
            "text/plain": [
              "1235"
            ]
          },
          "metadata": {},
          "execution_count": 23
        }
      ]
    },
    {
      "cell_type": "markdown",
      "source": [
        "#Now lets do another example"
      ],
      "metadata": {
        "id": "u2IDGHDSTxpr"
      }
    },
    {
      "cell_type": "markdown",
      "source": [
        "#Notification System\n",
        "\n",
        "We want to create different types of notification senders (e.g., Email, SMS, Push). Instead of manually checking the type, we’ll dynamically register notification types in the factory."
      ],
      "metadata": {
        "id": "_MXfKj0vT33B"
      }
    },
    {
      "cell_type": "code",
      "source": [
        "#Dfining the base class\n",
        "class Notification:\n",
        "    def send(self, message):\n",
        "        pass\n"
      ],
      "metadata": {
        "id": "Z-drRIq9M-uK"
      },
      "execution_count": 26,
      "outputs": []
    },
    {
      "cell_type": "code",
      "source": [
        "#Defining Notification classes\n",
        "class EmailNotification(Notification):\n",
        "    def send(self, message):\n",
        "        return f\"Sending Email: {message}\"\n",
        "\n",
        "class SMSNotification(Notification):\n",
        "    def send(self, message):\n",
        "        return f\"Sending SMS: {message}\"\n",
        "\n",
        "class PushNotification(Notification):\n",
        "    def send(self, message):\n",
        "        return f\"Sending Push Notification: {message}\"\n",
        "\n"
      ],
      "metadata": {
        "id": "veOb2dmdSA-M"
      },
      "execution_count": 27,
      "outputs": []
    },
    {
      "cell_type": "markdown",
      "source": [
        "#Create a Dynamic Factory\n",
        "\n",
        "Instead of using if-elif, we use a dictionary to register classes dynamically.\n",
        "\n"
      ],
      "metadata": {
        "id": "yEuWMr3hUjAy"
      }
    },
    {
      "cell_type": "code",
      "source": [
        "class NotificationFactory:\n",
        "    _notification_types = {}\n",
        "\n",
        "    @classmethod\n",
        "    def register_notification(cls, type_name, notification_class):\n",
        "        cls._notification_types[type_name] = notification_class\n",
        "\n",
        "    @classmethod\n",
        "    def get_notification(cls, type_name):\n",
        "        notification_class = cls._notification_types.get(type_name)\n",
        "        if notification_class:\n",
        "            return notification_class()\n",
        "        raise ValueError(f\"Notification type '{type_name}' not registered\")\n"
      ],
      "metadata": {
        "id": "Fitn5FEpUbc7"
      },
      "execution_count": 28,
      "outputs": []
    },
    {
      "cell_type": "code",
      "source": [
        "#Before using the factory, we must register the classes:\n",
        "NotificationFactory.register_notification(\"email\", EmailNotification)\n",
        "NotificationFactory.register_notification(\"sms\", SMSNotification)\n",
        "NotificationFactory.register_notification(\"push\", PushNotification)\n"
      ],
      "metadata": {
        "id": "y1cJGkzMUrif"
      },
      "execution_count": 29,
      "outputs": []
    },
    {
      "cell_type": "code",
      "source": [
        "#Now, we can create notifications dynamically:\n",
        "\n",
        "\n",
        "notif1 = NotificationFactory.get_notification(\"email\")\n",
        "notif2 = NotificationFactory.get_notification(\"sms\")\n",
        "notif3 = NotificationFactory.get_notification(\"push\")\n",
        "\n",
        "print(notif1.send(\"Hello via Email\"))  # Output: Sending Email: Hello via Email\n",
        "print(notif2.send(\"Hello via SMS\"))    # Output: Sending SMS: Hello via SMS\n",
        "print(notif3.send(\"Hello via Push\"))   # Output: Sending Push Notification: Hello via Push\n"
      ],
      "metadata": {
        "colab": {
          "base_uri": "https://localhost:8080/"
        },
        "id": "5upvhwlkVAGd",
        "outputId": "8e39cb53-81cf-4f82-c149-fd88a4dffe8e"
      },
      "execution_count": 30,
      "outputs": [
        {
          "output_type": "stream",
          "name": "stdout",
          "text": [
            "Sending Email: Hello via Email\n",
            "Sending SMS: Hello via SMS\n",
            "Sending Push Notification: Hello via Push\n"
          ]
        }
      ]
    },
    {
      "cell_type": "markdown",
      "source": [
        "#Now we also want to be able to communicate with the employees vis WhatsAPP"
      ],
      "metadata": {
        "id": "wdvZ8RiR6DdO"
      }
    },
    {
      "cell_type": "code",
      "source": [
        "class WhatsAPPNotification(Notification):\n",
        "    def send(self, message):\n",
        "        return f\"Sending WhatsAPP message: {message}\"\n",
        "\n"
      ],
      "metadata": {
        "id": "-OpUzsluVAcQ"
      },
      "execution_count": 31,
      "outputs": []
    },
    {
      "cell_type": "code",
      "source": [
        "NotificationFactory.register_notification(\"whatsapp\", WhatsAPPNotification)\n",
        "\n"
      ],
      "metadata": {
        "id": "RbdiRJ48VFxT"
      },
      "execution_count": 32,
      "outputs": []
    },
    {
      "cell_type": "code",
      "source": [
        "notif5 = NotificationFactory.get_notification(\"whatsapp\")\n"
      ],
      "metadata": {
        "id": "5fQGq4C8VWv_"
      },
      "execution_count": 33,
      "outputs": []
    },
    {
      "cell_type": "code",
      "source": [
        "print(notif5.send(\"Hello via New Service\"))\n"
      ],
      "metadata": {
        "colab": {
          "base_uri": "https://localhost:8080/"
        },
        "id": "XpQZHPos60LY",
        "outputId": "146e01b1-4fa2-44aa-a5cc-6b0bbe91810c"
      },
      "execution_count": 35,
      "outputs": [
        {
          "output_type": "stream",
          "name": "stdout",
          "text": [
            "Sending WhatsAPP message: Hello via New Service\n"
          ]
        }
      ]
    },
    {
      "cell_type": "code",
      "source": [],
      "metadata": {
        "id": "fGiRDJWo66Bj"
      },
      "execution_count": null,
      "outputs": []
    }
  ]
}