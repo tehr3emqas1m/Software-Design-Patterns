{
  "nbformat": 4,
  "nbformat_minor": 0,
  "metadata": {
    "colab": {
      "provenance": []
    },
    "kernelspec": {
      "name": "python3",
      "display_name": "Python 3"
    },
    "language_info": {
      "name": "python"
    }
  },
  "cells": [
    {
      "cell_type": "code",
      "execution_count": null,
      "metadata": {
        "colab": {
          "base_uri": "https://localhost:8080/"
        },
        "id": "JqypVy2L2154",
        "outputId": "d1ecfc91-6a12-40a2-9e19-b3f569705d98"
      },
      "outputs": [
        {
          "output_type": "stream",
          "name": "stdout",
          "text": [
            "<class 'int'>\n",
            "<class 'float'>\n"
          ]
        }
      ],
      "source": [
        "a = 3\n",
        "b = 4.5\n",
        "\n",
        "print(type(a))\n",
        "print(type(b))"
      ]
    },
    {
      "cell_type": "markdown",
      "source": [
        "#Built in data structures in Python"
      ],
      "metadata": {
        "id": "UbAnkYxH676F"
      }
    },
    {
      "cell_type": "markdown",
      "source": [
        "#*Lists"
      ],
      "metadata": {
        "id": "XOwlMBR57Aqq"
      }
    },
    {
      "cell_type": "code",
      "source": [
        "l1 = [1,2,3,3.5,10,16,\"Hello world\",[12.1,13.4,14.2,15.1]]"
      ],
      "metadata": {
        "id": "SFDncEvw6O9l"
      },
      "execution_count": null,
      "outputs": []
    },
    {
      "cell_type": "code",
      "source": [
        "l1[4]"
      ],
      "metadata": {
        "colab": {
          "base_uri": "https://localhost:8080/"
        },
        "id": "mjdaXRuW7GmB",
        "outputId": "514e13c8-008b-4e47-fcd5-dc6439c251fa"
      },
      "execution_count": null,
      "outputs": [
        {
          "output_type": "execute_result",
          "data": {
            "text/plain": [
              "10"
            ]
          },
          "metadata": {},
          "execution_count": 6
        }
      ]
    },
    {
      "cell_type": "code",
      "source": [
        "l1[0:5]"
      ],
      "metadata": {
        "colab": {
          "base_uri": "https://localhost:8080/"
        },
        "id": "jIaovJAI7X2q",
        "outputId": "7231b372-c77d-4568-cb72-b7b684e405da"
      },
      "execution_count": null,
      "outputs": [
        {
          "output_type": "execute_result",
          "data": {
            "text/plain": [
              "[1, 2, 3, 3.5, 10]"
            ]
          },
          "metadata": {},
          "execution_count": 7
        }
      ]
    },
    {
      "cell_type": "code",
      "source": [
        "l1[7][2]"
      ],
      "metadata": {
        "colab": {
          "base_uri": "https://localhost:8080/"
        },
        "id": "NYHm9pt17eie",
        "outputId": "7111a271-1858-4397-d512-d45d1f6e6a13"
      },
      "execution_count": null,
      "outputs": [
        {
          "output_type": "execute_result",
          "data": {
            "text/plain": [
              "14.2"
            ]
          },
          "metadata": {},
          "execution_count": 9
        }
      ]
    },
    {
      "cell_type": "markdown",
      "source": [
        "List Comprehension"
      ],
      "metadata": {
        "id": "rMFohMAm702v"
      }
    },
    {
      "cell_type": "code",
      "source": [
        "for i in range(1,11,2):\n",
        "  print(i)"
      ],
      "metadata": {
        "colab": {
          "base_uri": "https://localhost:8080/"
        },
        "id": "m7Qn-vbR7qGN",
        "outputId": "3dfb08cb-6f6a-4a67-a5ab-6e3c38a91d2e"
      },
      "execution_count": null,
      "outputs": [
        {
          "output_type": "stream",
          "name": "stdout",
          "text": [
            "1\n",
            "3\n",
            "5\n",
            "7\n",
            "9\n"
          ]
        }
      ]
    },
    {
      "cell_type": "code",
      "source": [
        "l1 = [12,32,23,54,75,46,77,88,39,10,11,12,13,14,1335,444515]"
      ],
      "metadata": {
        "id": "dqgjsSD38FoW"
      },
      "execution_count": null,
      "outputs": []
    },
    {
      "cell_type": "code",
      "source": [
        "# We have a task here, we want to populte another\n",
        "# list l2 from l1 such that l2 only contains the\n",
        "# odd elements of l1\n",
        "l2=[]\n",
        "for i in l1:\n",
        "  if i%2!=0:\n",
        "    l2.append(i)\n",
        "print(l2)"
      ],
      "metadata": {
        "colab": {
          "base_uri": "https://localhost:8080/"
        },
        "id": "BAHkxvb98SIF",
        "outputId": "dcfcb065-7c15-4f5f-f25f-50df2479b972"
      },
      "execution_count": null,
      "outputs": [
        {
          "output_type": "stream",
          "name": "stdout",
          "text": [
            "[23, 75, 77, 39, 11, 13, 1335, 444515]\n"
          ]
        }
      ]
    },
    {
      "cell_type": "code",
      "source": [
        "#We can do the same task using list comprehension\n",
        "\n",
        "l3 = []\n",
        "l3 = [i for i in l1 if i%2!=0]\n",
        "l3"
      ],
      "metadata": {
        "colab": {
          "base_uri": "https://localhost:8080/"
        },
        "id": "R3ZyPOWf8up6",
        "outputId": "2f72a248-75e7-42e5-cfa0-92604529f761"
      },
      "execution_count": null,
      "outputs": [
        {
          "output_type": "execute_result",
          "data": {
            "text/plain": [
              "[23, 75, 77, 39, 11, 13, 1335, 444515]"
            ]
          },
          "metadata": {},
          "execution_count": 32
        }
      ]
    },
    {
      "cell_type": "markdown",
      "source": [
        "#*Tuples"
      ],
      "metadata": {
        "id": "byuj8ROIA6JO"
      }
    },
    {
      "cell_type": "code",
      "source": [
        "t1 = (1,2,3,4,5)"
      ],
      "metadata": {
        "id": "Gx4qVNas_xlK"
      },
      "execution_count": null,
      "outputs": []
    },
    {
      "cell_type": "code",
      "source": [
        "t1"
      ],
      "metadata": {
        "colab": {
          "base_uri": "https://localhost:8080/"
        },
        "id": "5HVbLmJpA9kL",
        "outputId": "72ee6412-f42a-4890-90ba-8991d51defb2"
      },
      "execution_count": null,
      "outputs": [
        {
          "output_type": "execute_result",
          "data": {
            "text/plain": [
              "(1, 2, 3, 4, 5)"
            ]
          },
          "metadata": {},
          "execution_count": 34
        }
      ]
    },
    {
      "cell_type": "code",
      "source": [
        "l1"
      ],
      "metadata": {
        "colab": {
          "base_uri": "https://localhost:8080/"
        },
        "id": "HEAJnOSIA_M8",
        "outputId": "94281cf9-dacc-471c-cdd0-25d0cd1a5569"
      },
      "execution_count": null,
      "outputs": [
        {
          "output_type": "execute_result",
          "data": {
            "text/plain": [
              "[12, 32, 23, 54, 75, 46, 77, 88, 39, 10, 11, 12, 13, 14, 1335, 444515]"
            ]
          },
          "metadata": {},
          "execution_count": 35
        }
      ]
    },
    {
      "cell_type": "code",
      "source": [
        "l1[0]=100\n",
        "l1"
      ],
      "metadata": {
        "colab": {
          "base_uri": "https://localhost:8080/"
        },
        "id": "9RUZNYRLBIZZ",
        "outputId": "33cbc7aa-538b-48ab-eb78-06e08ac5dbca"
      },
      "execution_count": null,
      "outputs": [
        {
          "output_type": "execute_result",
          "data": {
            "text/plain": [
              "[100, 32, 23, 54, 75, 46, 77, 88, 39, 10, 11, 12, 13, 14, 1335, 444515]"
            ]
          },
          "metadata": {},
          "execution_count": 36
        }
      ]
    },
    {
      "cell_type": "code",
      "source": [
        "t1(0)=100"
      ],
      "metadata": {
        "colab": {
          "base_uri": "https://localhost:8080/",
          "height": 109
        },
        "id": "t6IQ5dn6BM8x",
        "outputId": "5a17f53e-34ef-444f-a1d3-99ba993d143a"
      },
      "execution_count": null,
      "outputs": [
        {
          "output_type": "error",
          "ename": "SyntaxError",
          "evalue": "cannot assign to function call here. Maybe you meant '==' instead of '='? (<ipython-input-37-26319b32f7af>, line 1)",
          "traceback": [
            "\u001b[0;36m  File \u001b[0;32m\"<ipython-input-37-26319b32f7af>\"\u001b[0;36m, line \u001b[0;32m1\u001b[0m\n\u001b[0;31m    t1(0)=100\u001b[0m\n\u001b[0m    ^\u001b[0m\n\u001b[0;31mSyntaxError\u001b[0m\u001b[0;31m:\u001b[0m cannot assign to function call here. Maybe you meant '==' instead of '='?\n"
          ]
        }
      ]
    },
    {
      "cell_type": "code",
      "source": [
        "#We cant directly change a value inside a tuple\n",
        "#But there is a workaround...lets convert this\n",
        "#tuple temporarily into a list\n",
        "\n",
        "t1 = list(t1)\n",
        "print(t1)\n",
        "t1[0]= 100\n",
        "t1 = tuple(t1)\n",
        "print(t1)"
      ],
      "metadata": {
        "colab": {
          "base_uri": "https://localhost:8080/"
        },
        "id": "UsBJfgxgBQwP",
        "outputId": "c7838938-161d-4178-fe10-11e88ba57968"
      },
      "execution_count": null,
      "outputs": [
        {
          "output_type": "stream",
          "name": "stdout",
          "text": [
            "[1, 2, 3, 4, 5]\n",
            "(100, 2, 3, 4, 5)\n"
          ]
        }
      ]
    },
    {
      "cell_type": "markdown",
      "source": [
        "#*Sets"
      ],
      "metadata": {
        "id": "aOuLqCvoCAj7"
      }
    },
    {
      "cell_type": "code",
      "source": [
        "l4 = [1,1,1,1,1,2,2,2,2,3,3,3,3]"
      ],
      "metadata": {
        "id": "3GlAQXv9BwGL"
      },
      "execution_count": null,
      "outputs": []
    },
    {
      "cell_type": "code",
      "source": [
        "s1 = {1,1,1,1,1,1,2,2,2,2,2,2,2,2,2,2,2,3,3,3,3}\n",
        "s1"
      ],
      "metadata": {
        "colab": {
          "base_uri": "https://localhost:8080/"
        },
        "id": "PxK5nzFSCF2P",
        "outputId": "e24177e6-b399-4273-aa8a-87436bd099d0"
      },
      "execution_count": null,
      "outputs": [
        {
          "output_type": "execute_result",
          "data": {
            "text/plain": [
              "{1, 2, 3}"
            ]
          },
          "metadata": {},
          "execution_count": 41
        }
      ]
    },
    {
      "cell_type": "markdown",
      "source": [
        "#*Dictionaries"
      ],
      "metadata": {
        "id": "sQRIwiVuCl7D"
      }
    },
    {
      "cell_type": "code",
      "source": [
        "dic1 = {'SNo':1,\n",
        "        'Name':'M Zohaib',\n",
        "        'CGPA':[3.9,4,4,3.8]}"
      ],
      "metadata": {
        "id": "9RG-jnu7CPqb"
      },
      "execution_count": null,
      "outputs": []
    },
    {
      "cell_type": "code",
      "source": [
        "dic1[\"SNo\"]"
      ],
      "metadata": {
        "colab": {
          "base_uri": "https://localhost:8080/"
        },
        "id": "gFjzYxOMDMk6",
        "outputId": "5366ead5-ed7e-4828-ccd5-2a9fc80384ec"
      },
      "execution_count": null,
      "outputs": [
        {
          "output_type": "execute_result",
          "data": {
            "text/plain": [
              "1"
            ]
          },
          "metadata": {},
          "execution_count": 43
        }
      ]
    },
    {
      "cell_type": "code",
      "source": [
        "dic1[\"Name\"]"
      ],
      "metadata": {
        "colab": {
          "base_uri": "https://localhost:8080/",
          "height": 36
        },
        "id": "GD1Zb7-oDQl6",
        "outputId": "16e520a9-d3dd-4ec6-d549-c27767bed309"
      },
      "execution_count": null,
      "outputs": [
        {
          "output_type": "execute_result",
          "data": {
            "text/plain": [
              "'M Zohaib'"
            ],
            "application/vnd.google.colaboratory.intrinsic+json": {
              "type": "string"
            }
          },
          "metadata": {},
          "execution_count": 44
        }
      ]
    },
    {
      "cell_type": "code",
      "source": [
        "dic1[\"CGPA\"][3]"
      ],
      "metadata": {
        "colab": {
          "base_uri": "https://localhost:8080/"
        },
        "id": "jW-S7GDFDTy8",
        "outputId": "babc15f2-b9fa-40dd-b652-cadfa47c3044"
      },
      "execution_count": null,
      "outputs": [
        {
          "output_type": "execute_result",
          "data": {
            "text/plain": [
              "3.8"
            ]
          },
          "metadata": {},
          "execution_count": 46
        }
      ]
    },
    {
      "cell_type": "code",
      "source": [
        "l1 = [{\"key1\":\"This is dic1 key 1\",\n",
        "  \"key2\":\"This is dic2 key 2\"},\n",
        "\n",
        "\n",
        " {\"Key1\":\"This is dic2 key1\",\n",
        "  \"key2\":\"This is dic2 key2\"}]"
      ],
      "metadata": {
        "id": "174VaTcxDWhY"
      },
      "execution_count": null,
      "outputs": []
    },
    {
      "cell_type": "code",
      "source": [
        "l1[0][\"key1\"]"
      ],
      "metadata": {
        "colab": {
          "base_uri": "https://localhost:8080/",
          "height": 36
        },
        "id": "7FKCxmz0D1yU",
        "outputId": "ea5cc165-f62c-4a55-f213-ae7935fbde9a"
      },
      "execution_count": null,
      "outputs": [
        {
          "output_type": "execute_result",
          "data": {
            "text/plain": [
              "'This is dic1 key 1'"
            ],
            "application/vnd.google.colaboratory.intrinsic+json": {
              "type": "string"
            }
          },
          "metadata": {},
          "execution_count": 50
        }
      ]
    },
    {
      "cell_type": "markdown",
      "source": [
        "#Functions"
      ],
      "metadata": {
        "id": "hTSd6oHsEGEa"
      }
    },
    {
      "cell_type": "code",
      "source": [
        "def myFunc():\n",
        "  print(\"Hello World\")"
      ],
      "metadata": {
        "id": "qGLtLUYlD2x_"
      },
      "execution_count": null,
      "outputs": []
    },
    {
      "cell_type": "code",
      "source": [
        "myFunc()"
      ],
      "metadata": {
        "colab": {
          "base_uri": "https://localhost:8080/"
        },
        "id": "YhaBtPU-EYpL",
        "outputId": "81a4f8ca-9d5c-4d0e-91bf-aaf6d232f78a"
      },
      "execution_count": null,
      "outputs": [
        {
          "output_type": "stream",
          "name": "stdout",
          "text": [
            "Hello World\n"
          ]
        }
      ]
    },
    {
      "cell_type": "code",
      "source": [
        "def mySum(a1,a2):\n",
        "  print(f\"The sum is:{a1+a2}\")\n"
      ],
      "metadata": {
        "id": "6Rkcv6DgEaVI"
      },
      "execution_count": null,
      "outputs": []
    },
    {
      "cell_type": "code",
      "source": [
        "mySum(3,2)"
      ],
      "metadata": {
        "colab": {
          "base_uri": "https://localhost:8080/"
        },
        "id": "7fNt__ycE2-e",
        "outputId": "98cc9a68-10a3-4880-eaa6-d8b1b932c319"
      },
      "execution_count": null,
      "outputs": [
        {
          "output_type": "stream",
          "name": "stdout",
          "text": [
            "The sum is:5\n"
          ]
        }
      ]
    },
    {
      "cell_type": "code",
      "source": [
        "def myProd(a1,a2):\n",
        "  return a1*a2"
      ],
      "metadata": {
        "id": "p-3EtUhNE4Xt"
      },
      "execution_count": null,
      "outputs": []
    },
    {
      "cell_type": "code",
      "source": [
        "print(myProd(2,3))"
      ],
      "metadata": {
        "colab": {
          "base_uri": "https://localhost:8080/"
        },
        "id": "n8WNPSYFFUIf",
        "outputId": "f365416c-1a8c-4e84-aad0-7c03eba2dea5"
      },
      "execution_count": null,
      "outputs": [
        {
          "output_type": "stream",
          "name": "stdout",
          "text": [
            "6\n"
          ]
        }
      ]
    },
    {
      "cell_type": "markdown",
      "source": [
        "#Lambda functions"
      ],
      "metadata": {
        "id": "JP0AGHfYFu4w"
      }
    },
    {
      "cell_type": "code",
      "source": [
        "x = lambda a1,a2 : a1*a2\n",
        "print(x(5,6))"
      ],
      "metadata": {
        "colab": {
          "base_uri": "https://localhost:8080/"
        },
        "id": "xu975HGCFW37",
        "outputId": "22508a78-555f-4cc0-ba2d-01a4a126730d"
      },
      "execution_count": null,
      "outputs": [
        {
          "output_type": "stream",
          "name": "stdout",
          "text": [
            "30\n"
          ]
        }
      ]
    },
    {
      "cell_type": "code",
      "source": [],
      "metadata": {
        "id": "HzaROxyeF4wd"
      },
      "execution_count": null,
      "outputs": []
    }
  ]
}