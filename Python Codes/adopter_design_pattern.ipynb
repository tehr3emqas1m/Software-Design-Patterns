{
  "nbformat": 4,
  "nbformat_minor": 0,
  "metadata": {
    "colab": {
      "provenance": []
    },
    "kernelspec": {
      "name": "python3",
      "display_name": "Python 3"
    },
    "language_info": {
      "name": "python"
    }
  },
  "cells": [
    {
      "cell_type": "markdown",
      "source": [
        "#Structural design patterns"
      ],
      "metadata": {
        "id": "gxAlGAYDjKFv"
      }
    },
    {
      "cell_type": "markdown",
      "source": [
        "Structural design patterns are concerned with how classes and objects are composed to form larger structures.\n",
        "\n"
      ],
      "metadata": {
        "id": "0BG39a28jODw"
      }
    },
    {
      "cell_type": "markdown",
      "source": [
        "#Adopter Design Pattern"
      ],
      "metadata": {
        "id": "A7sFmyYQjZsv"
      }
    },
    {
      "cell_type": "markdown",
      "source": [
        "he Adapter Design Pattern is a structural pattern that allows objects with incompatible interfaces to work together. It acts as a bridge between two incompatible interfaces by \"adapting\" one interface to the other. Essentially, the Adapter translates one interface into another that a client expects, allowing two otherwise incompatible classes to interact."
      ],
      "metadata": {
        "id": "3X3U1eanjvmS"
      }
    },
    {
      "cell_type": "code",
      "execution_count": 1,
      "metadata": {
        "id": "WJ-HFX1ajFL-"
      },
      "outputs": [],
      "source": [
        "#Example\n",
        "#Scenasio:\n",
        "# We have an online payment system in the bank.\n",
        "#The bank has an old legacy payment method.\n",
        "#The user's interface is operating on a newer payment method that the bank\n",
        "# system does not have\n",
        "\n",
        "\n",
        "#Class with an old payment method\n",
        "class BankService:\n",
        "  def make_payment(self, amount):\n",
        "    print(f\"Processing payment of {amount} through bank service\")\n",
        "\n",
        "\n",
        "#Client code, expects a new pay method\n",
        "def process_payment(payment_service, amount):\n",
        "  payment_service.pay(amount)\n",
        "\n",
        "\n",
        "\n"
      ]
    },
    {
      "cell_type": "code",
      "source": [
        "#Attempting to use the bank service directly\n",
        "bank_service = BankService()\n",
        "process_payment(bank_service,100)"
      ],
      "metadata": {
        "colab": {
          "base_uri": "https://localhost:8080/",
          "height": 308
        },
        "id": "TC7KTYqUoU33",
        "outputId": "5716e2a8-6140-48c7-dcb2-38a1c511ba92"
      },
      "execution_count": 2,
      "outputs": [
        {
          "output_type": "error",
          "ename": "AttributeError",
          "evalue": "'BankService' object has no attribute 'pay'",
          "traceback": [
            "\u001b[0;31m---------------------------------------------------------------------------\u001b[0m",
            "\u001b[0;31mAttributeError\u001b[0m                            Traceback (most recent call last)",
            "\u001b[0;32m<ipython-input-2-138db8429181>\u001b[0m in \u001b[0;36m<cell line: 0>\u001b[0;34m()\u001b[0m\n\u001b[1;32m      1\u001b[0m \u001b[0;31m#Attempting to use the bank service directly\u001b[0m\u001b[0;34m\u001b[0m\u001b[0;34m\u001b[0m\u001b[0m\n\u001b[1;32m      2\u001b[0m \u001b[0mbank_service\u001b[0m \u001b[0;34m=\u001b[0m \u001b[0mBankService\u001b[0m\u001b[0;34m(\u001b[0m\u001b[0;34m)\u001b[0m\u001b[0;34m\u001b[0m\u001b[0;34m\u001b[0m\u001b[0m\n\u001b[0;32m----> 3\u001b[0;31m \u001b[0mprocess_payment\u001b[0m\u001b[0;34m(\u001b[0m\u001b[0mbank_service\u001b[0m\u001b[0;34m,\u001b[0m\u001b[0;36m100\u001b[0m\u001b[0;34m)\u001b[0m\u001b[0;34m\u001b[0m\u001b[0;34m\u001b[0m\u001b[0m\n\u001b[0m",
            "\u001b[0;32m<ipython-input-1-f5dcaafdffaa>\u001b[0m in \u001b[0;36mprocess_payment\u001b[0;34m(payment_service, amount)\u001b[0m\n\u001b[1;32m     15\u001b[0m \u001b[0;31m#Client code, expects a new pay method\u001b[0m\u001b[0;34m\u001b[0m\u001b[0;34m\u001b[0m\u001b[0m\n\u001b[1;32m     16\u001b[0m \u001b[0;32mdef\u001b[0m \u001b[0mprocess_payment\u001b[0m\u001b[0;34m(\u001b[0m\u001b[0mpayment_service\u001b[0m\u001b[0;34m,\u001b[0m \u001b[0mamount\u001b[0m\u001b[0;34m)\u001b[0m\u001b[0;34m:\u001b[0m\u001b[0;34m\u001b[0m\u001b[0;34m\u001b[0m\u001b[0m\n\u001b[0;32m---> 17\u001b[0;31m   \u001b[0mpayment_service\u001b[0m\u001b[0;34m.\u001b[0m\u001b[0mpay\u001b[0m\u001b[0;34m(\u001b[0m\u001b[0mamount\u001b[0m\u001b[0;34m)\u001b[0m\u001b[0;34m\u001b[0m\u001b[0;34m\u001b[0m\u001b[0m\n\u001b[0m\u001b[1;32m     18\u001b[0m \u001b[0;34m\u001b[0m\u001b[0m\n\u001b[1;32m     19\u001b[0m \u001b[0;34m\u001b[0m\u001b[0m\n",
            "\u001b[0;31mAttributeError\u001b[0m: 'BankService' object has no attribute 'pay'"
          ]
        }
      ]
    },
    {
      "cell_type": "markdown",
      "source": [
        "One solution is to simply update the older bank service, but maybe its using some legacy code, and changing it is not a good idea. Thats where an adopter design pattern comes to the rescue"
      ],
      "metadata": {
        "id": "HeBMghv4o20o"
      }
    },
    {
      "cell_type": "code",
      "source": [
        "#Interface\n",
        "class PaymentService():\n",
        "  def pay(self, amount):\n",
        "    pass\n",
        "\n",
        "#Adopter\n",
        "class BankServiceAdopter(PaymentService):\n",
        "  def __init__(self, bank_service: BankService):\n",
        "    self.bank_service=bank_service\n",
        "  def pay(self, amount):\n",
        "    self.bank_service.make_payment(amount)\n",
        "\n",
        "#Now the client code\n",
        "bank_service_adopter = BankServiceAdopter(BankService())\n",
        "\n",
        "process_payment(bank_service_adopter,100)"
      ],
      "metadata": {
        "colab": {
          "base_uri": "https://localhost:8080/"
        },
        "id": "UpjCMQ01ov-y",
        "outputId": "879341dd-f803-4bff-b574-e7cac2a66da8"
      },
      "execution_count": 3,
      "outputs": [
        {
          "output_type": "stream",
          "name": "stdout",
          "text": [
            "Processing payment of 100 through bank service\n"
          ]
        }
      ]
    },
    {
      "cell_type": "code",
      "source": [],
      "metadata": {
        "id": "u_jj4DGurAfS"
      },
      "execution_count": null,
      "outputs": []
    }
  ]
}