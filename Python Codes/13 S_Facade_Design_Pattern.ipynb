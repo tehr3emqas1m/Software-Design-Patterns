{
  "nbformat": 4,
  "nbformat_minor": 0,
  "metadata": {
    "colab": {
      "provenance": []
    },
    "kernelspec": {
      "name": "python3",
      "display_name": "Python 3"
    },
    "language_info": {
      "name": "python"
    }
  },
  "cells": [
    {
      "cell_type": "markdown",
      "source": [
        "#Facade_Design_Pattern"
      ],
      "metadata": {
        "id": "pm0SRUvfbKH_"
      }
    },
    {
      "cell_type": "markdown",
      "source": [
        "\n",
        "Facade provides a unified and simplified interface to a set of complex subsystems.\n",
        "\n"
      ],
      "metadata": {
        "id": "szph5QZ7j-n5"
      }
    },
    {
      "cell_type": "markdown",
      "source": [
        "It acts as a single entry point, hiding the intricate details of the underlying subsystem from the client. This makes the client's code cleaner and less prone to errors."
      ],
      "metadata": {
        "id": "HJTljiEZlTvt"
      }
    },
    {
      "cell_type": "markdown",
      "source": [
        "#Example 1 PC Boot Process"
      ],
      "metadata": {
        "id": "7z2E4WReq_Y9"
      }
    },
    {
      "cell_type": "markdown",
      "source": [
        "#Subsystem"
      ],
      "metadata": {
        "id": "TagSNMWErFUi"
      }
    },
    {
      "cell_type": "code",
      "execution_count": null,
      "metadata": {
        "id": "qx4bvFNPj4po"
      },
      "outputs": [],
      "source": [
        "class CPU:\n",
        "    def freeze(self):\n",
        "        print(\"CPU: Freezing processor.\")\n",
        "\n",
        "    def jump(self, position):\n",
        "        print(f\"CPU: Jumping to {position}.\")\n",
        "\n",
        "    def execute(self):\n",
        "        print(\"CPU: Executing commands.\")\n",
        "\n",
        "class Memory:\n",
        "    def load(self, position, data):\n",
        "        print(f\"Memory: Loading data '{data}' to position {position}.\")\n",
        "\n",
        "class HardDrive:\n",
        "    def read(self, lba, size):\n",
        "        return f\"OS Bootloader [LBA:{lba}, Size:{size}]\"\n"
      ]
    },
    {
      "cell_type": "markdown",
      "source": [
        "#Facade"
      ],
      "metadata": {
        "id": "fQRSkIMtrPSU"
      }
    },
    {
      "cell_type": "code",
      "source": [
        "class Computer:\n",
        "    def __init__(self):\n",
        "        self.cpu = CPU()\n",
        "        self.memory = Memory()\n",
        "        self.hard_drive = HardDrive()\n",
        "\n",
        "    def start(self):\n",
        "        print(\"Starting computer...\\n\")\n",
        "        self.cpu.freeze()\n",
        "        data = self.hard_drive.read(100, 1024)\n",
        "        self.memory.load(0, data)\n",
        "        self.cpu.jump('0x7C00')\n",
        "        self.cpu.execute()\n"
      ],
      "metadata": {
        "id": "DWXXYIcHrJMJ"
      },
      "execution_count": null,
      "outputs": []
    },
    {
      "cell_type": "markdown",
      "source": [
        "#Client Code"
      ],
      "metadata": {
        "id": "_4d09fr0rTaC"
      }
    },
    {
      "cell_type": "code",
      "source": [
        "computer = Computer()\n",
        "computer.start()\n"
      ],
      "metadata": {
        "colab": {
          "base_uri": "https://localhost:8080/"
        },
        "id": "aQYLy_pTrQhz",
        "outputId": "0033b1a3-a54f-432e-84e3-77c0e85d6f93"
      },
      "execution_count": null,
      "outputs": [
        {
          "output_type": "stream",
          "name": "stdout",
          "text": [
            "Starting computer...\n",
            "\n",
            "CPU: Freezing processor.\n",
            "Memory: Loading data 'OS Bootloader [LBA:100, Size:1024]' to position 0.\n",
            "CPU: Jumping to 0x7C00.\n",
            "CPU: Executing commands.\n"
          ]
        }
      ]
    },
    {
      "cell_type": "markdown",
      "source": [
        "#Example 2"
      ],
      "metadata": {
        "id": "IdAEHGe_tE4A"
      }
    },
    {
      "cell_type": "markdown",
      "source": [
        "Problem Statement:\n",
        "\n",
        "Suppose you are developing an e-commerce application where customers can place orders, make payments, and receive notifications. The process of handling an order involves multiple subsystems like inventory management, payment processing, and notification services. Directly interacting with these subsystems from the client code can make the application complex and difficult to maintain."
      ],
      "metadata": {
        "id": "7SgQ6Td4vJXZ"
      }
    },
    {
      "cell_type": "markdown",
      "source": [
        "_________________________\n",
        "Implement the Facade Method Design Pattern to simplify the interaction with these subsystems."
      ],
      "metadata": {
        "id": "awpW7lvzvSZS"
      }
    },
    {
      "cell_type": "markdown",
      "source": [
        "#Subsystem classes"
      ],
      "metadata": {
        "id": "-HQmro9xvXZY"
      }
    },
    {
      "cell_type": "markdown",
      "source": [
        "1. Inventory Management\n",
        "\n",
        "\n",
        "\n"
      ],
      "metadata": {
        "id": "AZe_j1Z9veGa"
      }
    },
    {
      "cell_type": "code",
      "source": [
        "class Inventory:\n",
        "    def check_stock(self, product_id):\n",
        "        print(f\"Checking stock for product {product_id}\")\n",
        "        # Simulate stock check\n",
        "        return True\n",
        "\n",
        "    def update_stock(self, product_id, quantity):\n",
        "        print(f\"Updating stock for product {product_id} by {quantity}\")"
      ],
      "metadata": {
        "id": "ujO75q9VrVgc"
      },
      "execution_count": null,
      "outputs": []
    },
    {
      "cell_type": "markdown",
      "source": [
        "2. Payment Processing\n",
        "\n",
        "\n",
        "\n"
      ],
      "metadata": {
        "id": "D6BN23Qjvh0K"
      }
    },
    {
      "cell_type": "code",
      "source": [
        "class Payment:\n",
        "    def process_payment(self, amount):\n",
        "        print(f\"Processing payment of ${amount}\")\n",
        "        # Simulate payment processing\n",
        "        return True"
      ],
      "metadata": {
        "id": "XklTNF70veaT"
      },
      "execution_count": null,
      "outputs": []
    },
    {
      "cell_type": "markdown",
      "source": [
        "3. Notification Service\n",
        "\n",
        "\n",
        "\n"
      ],
      "metadata": {
        "id": "ioySp-iIvlxw"
      }
    },
    {
      "cell_type": "code",
      "source": [
        "class Notification:\n",
        "    def send_confirmation(self, order_id):\n",
        "        print(f\"Sending confirmation for order {order_id}\")"
      ],
      "metadata": {
        "id": "ZGKiFwH7vjy1"
      },
      "execution_count": null,
      "outputs": []
    },
    {
      "cell_type": "code",
      "source": [],
      "metadata": {
        "id": "E2QU91o2S2SP"
      },
      "execution_count": null,
      "outputs": []
    },
    {
      "cell_type": "markdown",
      "source": [
        "2. Facade Class\n",
        "\n",
        "\n",
        "\n"
      ],
      "metadata": {
        "id": "Xcbga9d7vwH4"
      }
    },
    {
      "cell_type": "code",
      "source": [
        "class OrderFacade:\n",
        "    def __init__(self):\n",
        "        self.inventory = Inventory()\n",
        "        self.payment = Payment()\n",
        "        self.notification = Notification()\n",
        "\n",
        "    def place_order(self, product_id, quantity, amount):\n",
        "        if self.inventory.check_stock(product_id):\n",
        "            if self.payment.process_payment(amount):\n",
        "                self.inventory.update_stock(product_id, -quantity)\n",
        "                self.notification.send_confirmation(product_id)\n",
        "                print(\"Order placed successfully\")\n",
        "            else:\n",
        "                print(\"Payment processing failed\")\n",
        "        else:\n",
        "            print(\"Product is out of stock\")"
      ],
      "metadata": {
        "id": "2lEUbh3uvoH0"
      },
      "execution_count": null,
      "outputs": []
    },
    {
      "cell_type": "markdown",
      "source": [
        "3. Client Code\n",
        "\n",
        "\n",
        "\n"
      ],
      "metadata": {
        "id": "xfMHMKmrvza0"
      }
    },
    {
      "cell_type": "code",
      "source": [
        "if __name__ == \"__main__\":\n",
        "    facade = OrderFacade()\n",
        "    facade.place_order(product_id=1, quantity=1, amount=100)"
      ],
      "metadata": {
        "colab": {
          "base_uri": "https://localhost:8080/"
        },
        "id": "GR5Pybe2vwsj",
        "outputId": "d9f35b1f-dd81-4037-ac40-d064ee63b3c8"
      },
      "execution_count": null,
      "outputs": [
        {
          "output_type": "stream",
          "name": "stdout",
          "text": [
            "Checking stock for product 1\n",
            "Processing payment of $100\n",
            "Updating stock for product 1 by -1\n",
            "Sending confirmation for order 1\n",
            "Order placed successfully\n"
          ]
        }
      ]
    }
  ]
}