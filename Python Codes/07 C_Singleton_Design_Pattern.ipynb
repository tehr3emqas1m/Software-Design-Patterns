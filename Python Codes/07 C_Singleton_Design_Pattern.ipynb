{
  "nbformat": 4,
  "nbformat_minor": 0,
  "metadata": {
    "colab": {
      "provenance": []
    },
    "kernelspec": {
      "name": "python3",
      "display_name": "Python 3"
    },
    "language_info": {
      "name": "python"
    }
  },
  "cells": [
    {
      "cell_type": "markdown",
      "source": [
        "#Creational design patterns\n",
        "Creational design patterns focus on object creation mechanisms in a way that increases flexibility and reusability. They provide controlled, efficient, and scalable ways to create objects."
      ],
      "metadata": {
        "id": "0-zTV16sRRG1"
      }
    },
    {
      "cell_type": "markdown",
      "source": [
        "#- Singleton Design pattern"
      ],
      "metadata": {
        "id": "jBnwROXI4UDb"
      }
    },
    {
      "cell_type": "markdown",
      "source": [
        "#Building some foundations first"
      ],
      "metadata": {
        "id": "xEn6zAPj4RXS"
      }
    },
    {
      "cell_type": "markdown",
      "source": [
        "#`is` vs `==`\n",
        "\n",
        "- `is` checks identity (same memory object)\n",
        "-  `==` checks equality (same value)."
      ],
      "metadata": {
        "id": "oPv6VMMH732e"
      }
    },
    {
      "cell_type": "code",
      "source": [
        "a = [1,2,3]\n",
        "b = a\n",
        "b.append(4)\n",
        "print(a)\n",
        "print('a == b ', a == b)\n",
        "print('a is b ', a is b)\n",
        "print('id of a: ',id(a))\n",
        "print('id of b: ',id(b))"
      ],
      "metadata": {
        "colab": {
          "base_uri": "https://localhost:8080/"
        },
        "id": "dT0jflaZ3tMP",
        "outputId": "f9a3e13d-724c-489d-8d21-1d5502629f1e"
      },
      "execution_count": null,
      "outputs": [
        {
          "output_type": "stream",
          "name": "stdout",
          "text": [
            "[1, 2, 3, 4]\n",
            "a == b  True\n",
            "a is b  True\n",
            "id of a:  136159976659264\n",
            "id of b:  136159976659264\n"
          ]
        }
      ]
    },
    {
      "cell_type": "code",
      "source": [
        "a = [1,2,3]\n",
        "b = a.copy()\n",
        "b.append(4)\n",
        "print(a)\n",
        "print('a == b ', a == b)\n",
        "print('a is b ', a is b)\n",
        "print('id of a: ',id(a))\n",
        "print('id of b: ',id(b))\n",
        "\n",
        "#Now lets append 4 to a\n",
        "a.append(4)\n",
        "print(\"\\nAfter appending a new value to a we have,\\n\")\n",
        "print('a == b ', a == b)\n",
        "print('a is b ', a is b)\n",
        "print('id of a: ',id(a))\n",
        "print('id of b: ',id(b))\n"
      ],
      "metadata": {
        "colab": {
          "base_uri": "https://localhost:8080/"
        },
        "id": "gNjcfYyJ3tJP",
        "outputId": "5edf11d6-feea-43c2-94a5-81d746cc2741"
      },
      "execution_count": null,
      "outputs": [
        {
          "output_type": "stream",
          "name": "stdout",
          "text": [
            "[1, 2, 3]\n",
            "a == b  False\n",
            "a is b  False\n",
            "id of a:  136159986625536\n",
            "id of b:  136159978188352\n",
            "\n",
            "After appending a new value to a we have,\n",
            "\n",
            "a == b  True\n",
            "a is b  False\n",
            "id of a:  136159986625536\n",
            "id of b:  136159978188352\n"
          ]
        }
      ]
    },
    {
      "cell_type": "markdown",
      "source": [
        "# `None` in Python\n",
        "\n",
        "- In Python, `None` is a special singleton object that represents the absence of a value or a null value.\n",
        "\n",
        "- It is not the same as 0, False, or an empty string \"\"."
      ],
      "metadata": {
        "id": "-9C3EklK9fG5"
      }
    },
    {
      "cell_type": "markdown",
      "source": [
        "#Common Uses of `None`\n"
      ],
      "metadata": {
        "id": "FTyUjdDv9-Bn"
      }
    },
    {
      "cell_type": "markdown",
      "source": [
        "- Default Return Value for Functions Without return"
      ],
      "metadata": {
        "id": "vDeIPYOE-C5J"
      }
    },
    {
      "cell_type": "code",
      "source": [
        "def greet():\n",
        "    print(\"Hello!\")\n",
        "\n",
        "result = greet()\n",
        "print(result)  # Output: None\n",
        "\n"
      ],
      "metadata": {
        "id": "UydNmLy4c2CR",
        "colab": {
          "base_uri": "https://localhost:8080/"
        },
        "outputId": "1485cfbf-0036-40cc-bc01-a801ba50c0e7"
      },
      "execution_count": null,
      "outputs": [
        {
          "output_type": "stream",
          "name": "stdout",
          "text": [
            "Hello!\n",
            "None\n"
          ]
        }
      ]
    },
    {
      "cell_type": "code",
      "source": [
        "\"\"\"\n",
        "def myFunc(a = 1, b = 3):\n",
        "  return (a+b)\n",
        "print(myFunc(2,6))\n",
        "\"\"\""
      ],
      "metadata": {
        "colab": {
          "base_uri": "https://localhost:8080/",
          "height": 36
        },
        "id": "bQ7L6HgJuYxH",
        "outputId": "a53bc37a-d547-4977-c2ae-abde983a0fef"
      },
      "execution_count": null,
      "outputs": [
        {
          "output_type": "execute_result",
          "data": {
            "text/plain": [
              "'\\ndef myFunc(a = 1, b = 3):\\n  return (a+b)\\nprint(myFunc(2,6))\\n'"
            ],
            "application/vnd.google.colaboratory.intrinsic+json": {
              "type": "string"
            }
          },
          "metadata": {},
          "execution_count": 3
        }
      ]
    },
    {
      "cell_type": "markdown",
      "source": [
        "- As a Default Argument in Functions"
      ],
      "metadata": {
        "id": "1K0EPsyr-ts0"
      }
    },
    {
      "cell_type": "code",
      "source": [
        "def process_data(data=None):\n",
        "    if data is None:\n",
        "      return \"No data is passed\"  # Initialize an empty list\n",
        "    else:\n",
        "      return sum(data)\n",
        "\n",
        "print(process_data())  # Output: [1]\n",
        "print(process_data([1,2,3,4]))  # Output: [1]\n"
      ],
      "metadata": {
        "colab": {
          "base_uri": "https://localhost:8080/"
        },
        "id": "3EB2B3Py7Cdd",
        "outputId": "f0eaed7b-690d-4384-c5bb-fded3b38c330"
      },
      "execution_count": null,
      "outputs": [
        {
          "output_type": "stream",
          "name": "stdout",
          "text": [
            "No data is passed\n",
            "10\n"
          ]
        }
      ]
    },
    {
      "cell_type": "markdown",
      "source": [
        "#Its recommended in Python to do ` a is None` to check if a is actually None. `a==None` might work but it might be misleading in some situations?\n",
        "\n",
        "\n",
        "#Why?\n",
        "\n",
        "#Because `==` can be overridden\n",
        "#Lets see below"
      ],
      "metadata": {
        "id": "Q5i0jGj7DH-O"
      }
    },
    {
      "cell_type": "code",
      "source": [
        "# The dunder __eq__ over rides the == operator here\n",
        "class CustomNone:\n",
        "    def __eq__(self, other):\n",
        "        return True  # Always returns True no matter what x is compared with\n",
        "\n",
        "x = CustomNone()\n",
        "\n",
        "print(x == 10)\n",
        "print(x == False)\n",
        "print(x == True)\n",
        "print(x == 'abc')\n",
        "print(x == None)\n",
        "\n",
        "#We since we have overridden the == operator, the class object compared with\n",
        "# anything whatsoever will return true\n",
        "\n",
        "# above x is not None but yet x == None returns True\n",
        "# Now lets check if x actually is None\n",
        "\n",
        "print(x is None)\n"
      ],
      "metadata": {
        "colab": {
          "base_uri": "https://localhost:8080/"
        },
        "id": "km3PCj4a7KY2",
        "outputId": "e8a0f9cb-a728-4a56-c963-a8dcddd474fe"
      },
      "execution_count": null,
      "outputs": [
        {
          "output_type": "stream",
          "name": "stdout",
          "text": [
            "True\n",
            "True\n",
            "True\n",
            "True\n",
            "True\n",
            "False\n"
          ]
        }
      ]
    },
    {
      "cell_type": "code",
      "source": [
        "a = None\n",
        "print(a==None)\n",
        "print(a is None)"
      ],
      "metadata": {
        "colab": {
          "base_uri": "https://localhost:8080/"
        },
        "id": "0RoM-bx2v9jb",
        "outputId": "c5e0835e-d61d-4a88-8653-5b2621d05303"
      },
      "execution_count": null,
      "outputs": [
        {
          "output_type": "stream",
          "name": "stdout",
          "text": [
            "True\n",
            "True\n"
          ]
        }
      ]
    },
    {
      "cell_type": "markdown",
      "source": [
        "# `None` is a special singleton in Python"
      ],
      "metadata": {
        "id": "DDh8P4YxGYCC"
      }
    },
    {
      "cell_type": "code",
      "source": [
        "a = None\n",
        "b = None\n",
        "c = None\n",
        "d = None\n",
        "# Here a really is None so ==None and is None both return true\n",
        "\n",
        "print(a == None)\n",
        "print(a is None)\n",
        "\n",
        "print(id(a))\n",
        "print(id(b))\n",
        "print(id(c))\n",
        "print(id(d))\n"
      ],
      "metadata": {
        "colab": {
          "base_uri": "https://localhost:8080/"
        },
        "id": "60WROWc2BdM5",
        "outputId": "45c403c8-cfa4-418e-8955-736d6e5845f4"
      },
      "execution_count": null,
      "outputs": [
        {
          "output_type": "stream",
          "name": "stdout",
          "text": [
            "True\n",
            "True\n",
            "9691392\n",
            "9691392\n",
            "9691392\n",
            "9691392\n"
          ]
        }
      ]
    },
    {
      "cell_type": "markdown",
      "source": [
        "#Now `__new__` vs `__init__` in Python"
      ],
      "metadata": {
        "id": "xWOSl3KXInbH"
      }
    },
    {
      "cell_type": "markdown",
      "source": [
        "`__new__:` Responsible for Creating the Object (Before `__init__`)\n",
        "\n",
        "`__init__:` Responsible for Initializing the Object\n",
        "\n",
        "------------------------------------------------\n",
        "\n",
        "🔹 __new__ is a static method that creates a new instance of a class.\n",
        "\n",
        "🔹 It allocates memory and returns the newly created object.\n",
        "\n",
        "🔹 It's called before `__init__`.\n",
        "\n",
        "🔹 We rarely override `__new__`, except for Singletons, metaclasses, or custom object creation.\n",
        "\n"
      ],
      "metadata": {
        "id": "DCVmQQICIxvj"
      }
    },
    {
      "cell_type": "markdown",
      "source": [
        "#Now with sufficient foundations, lets delve into the Singleton Design Patterns in Python"
      ],
      "metadata": {
        "id": "EFLZvS3AHCeX"
      }
    },
    {
      "cell_type": "code",
      "source": [
        "class Singleton:\n",
        "    _instance = None\n",
        "\n",
        "    def __new__(cls):\n",
        "        if cls._instance is None:\n",
        "            print(\"Creating new instance...\")\n",
        "            cls._instance = super().__new__(cls) #invokes object.__new__(cls). Because object is parnt of each\n",
        "                                                 #class in Python\n",
        "        return cls._instance\n"
      ],
      "metadata": {
        "id": "-b0wuYPmCJJQ"
      },
      "execution_count": null,
      "outputs": []
    },
    {
      "cell_type": "code",
      "source": [
        "# Example Usage\n",
        "obj1 = Singleton()\n"
      ],
      "metadata": {
        "colab": {
          "base_uri": "https://localhost:8080/"
        },
        "id": "P0GWgE3XTyqb",
        "outputId": "953daba0-cdbd-4c3c-f3ac-fca349540efa"
      },
      "execution_count": null,
      "outputs": [
        {
          "output_type": "stream",
          "name": "stdout",
          "text": [
            "Creating new instance...\n"
          ]
        }
      ]
    },
    {
      "cell_type": "code",
      "source": [
        "obj2 = Singleton()\n"
      ],
      "metadata": {
        "id": "D5Jb3rJ8T4tn"
      },
      "execution_count": null,
      "outputs": []
    },
    {
      "cell_type": "code",
      "source": [
        "print(obj1 is obj2)\n",
        "\n"
      ],
      "metadata": {
        "colab": {
          "base_uri": "https://localhost:8080/"
        },
        "id": "-E7NUnErT5xg",
        "outputId": "62027f08-a342-400a-bdfc-99d9483f1f2d"
      },
      "execution_count": null,
      "outputs": [
        {
          "output_type": "stream",
          "name": "stdout",
          "text": [
            "True\n"
          ]
        }
      ]
    },
    {
      "cell_type": "code",
      "source": [
        "obj1"
      ],
      "metadata": {
        "colab": {
          "base_uri": "https://localhost:8080/"
        },
        "id": "vh0Q683JT7ye",
        "outputId": "637b9c9c-4383-488b-a084-b4d12809b0f1"
      },
      "execution_count": null,
      "outputs": [
        {
          "output_type": "execute_result",
          "data": {
            "text/plain": [
              "<__main__.Singleton at 0x7e3fca5183d0>"
            ]
          },
          "metadata": {},
          "execution_count": 10
        }
      ]
    },
    {
      "cell_type": "code",
      "source": [
        "obj2"
      ],
      "metadata": {
        "colab": {
          "base_uri": "https://localhost:8080/"
        },
        "id": "Zj0cgNDVUDFD",
        "outputId": "25797e1e-dac5-41e6-b2d4-a7550190a0c4"
      },
      "execution_count": null,
      "outputs": [
        {
          "output_type": "execute_result",
          "data": {
            "text/plain": [
              "<__main__.Singleton at 0x7e3fca5183d0>"
            ]
          },
          "metadata": {},
          "execution_count": 11
        }
      ]
    },
    {
      "cell_type": "markdown",
      "source": [
        "#Lets now create a class without using a singleton design pattern"
      ],
      "metadata": {
        "id": "h4KwPBIpV3Bq"
      }
    },
    {
      "cell_type": "code",
      "source": [
        "class myClass:\n",
        "  __a = 5\n",
        "  def abc(self):\n",
        "    print(\"abcd\")"
      ],
      "metadata": {
        "id": "kQaGcmY1VvcR"
      },
      "execution_count": null,
      "outputs": []
    },
    {
      "cell_type": "code",
      "source": [
        "obj1 = myClass()\n",
        "obj2 = myClass()"
      ],
      "metadata": {
        "id": "vGgzNsEIV6zl"
      },
      "execution_count": null,
      "outputs": []
    },
    {
      "cell_type": "code",
      "source": [
        "obj1"
      ],
      "metadata": {
        "colab": {
          "base_uri": "https://localhost:8080/"
        },
        "id": "kMIy5hC0WAXP",
        "outputId": "4d59423f-f319-4fb5-8a60-120e6482e142"
      },
      "execution_count": null,
      "outputs": [
        {
          "output_type": "execute_result",
          "data": {
            "text/plain": [
              "<__main__.myClass at 0x7e3fca56aa50>"
            ]
          },
          "metadata": {},
          "execution_count": 16
        }
      ]
    },
    {
      "cell_type": "code",
      "source": [
        "obj2"
      ],
      "metadata": {
        "colab": {
          "base_uri": "https://localhost:8080/"
        },
        "id": "PSru64jGWCDU",
        "outputId": "57e22346-00e3-4647-b27a-0dc1ec2edfc9"
      },
      "execution_count": null,
      "outputs": [
        {
          "output_type": "execute_result",
          "data": {
            "text/plain": [
              "<__main__.myClass at 0x7e3fca56a990>"
            ]
          },
          "metadata": {},
          "execution_count": 17
        }
      ]
    },
    {
      "cell_type": "code",
      "source": [
        "obj1 is obj2"
      ],
      "metadata": {
        "colab": {
          "base_uri": "https://localhost:8080/"
        },
        "id": "3UGRSaBHWCpq",
        "outputId": "b7751591-6ff4-43e3-fd4f-db792b8cafc7"
      },
      "execution_count": null,
      "outputs": [
        {
          "output_type": "execute_result",
          "data": {
            "text/plain": [
              "False"
            ]
          },
          "metadata": {},
          "execution_count": 90
        }
      ]
    },
    {
      "cell_type": "code",
      "source": [],
      "metadata": {
        "id": "q_zMAvZ-WEVn"
      },
      "execution_count": null,
      "outputs": []
    }
  ]
}
